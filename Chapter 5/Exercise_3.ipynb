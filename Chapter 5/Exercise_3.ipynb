{
  "nbformat": 4,
  "nbformat_minor": 0,
  "metadata": {
    "colab": {
      "provenance": [],
      "authorship_tag": "ABX9TyM/VeIktm/i+YVEeCvNX3db",
      "include_colab_link": true
    },
    "kernelspec": {
      "name": "python3",
      "display_name": "Python 3"
    },
    "language_info": {
      "name": "python"
    }
  },
  "cells": [
    {
      "cell_type": "markdown",
      "metadata": {
        "id": "view-in-github",
        "colab_type": "text"
      },
      "source": [
        "<a href=\"https://colab.research.google.com/github/PtrcE/Programming-class/blob/main/Chapter%205/Exercise_3.ipynb\" target=\"_parent\"><img src=\"https://colab.research.google.com/assets/colab-badge.svg\" alt=\"Open In Colab\"/></a>"
      ]
    },
    {
      "cell_type": "code",
      "source": [
        "#Exercise 3\n",
        "dictionary = { 'Dictionary': 'It is a data type that stores an unordered collection of data values.',\n",
        "'Boolean': 'A data type with 2 possible values: True or False.',\n",
        "'For loop / While loop': 'Loops allow us to iterate over sequences like lists, dictionaries, sets, tuples, etc.',\n",
        "'If statement': 'To give different conditions.',\n",
        "'Functions': 'A function is a reusable block of code that performs a certain action (or actions).',\n",
        "'Ordinal value': 'The equivalent number of a character in python.',\n",
        "'Character function': 'Used to get a string representing of a character which points to a Unicode code integer.',\n",
        "'Binary representation': 'It gives the binary equivalent of the ordinal value.',\n",
        "'Import': 'Used to import codes from other moduels.', \n",
        "'Input': 'It allows us to get input from the user by showing a prompt.'}\n",
        "\n",
        "for key, value in dictionary.items():\n",
        "  print(key+':', value)\n"
      ],
      "metadata": {
        "colab": {
          "base_uri": "https://localhost:8080/"
        },
        "id": "KNYOKygbojsx",
        "outputId": "4114b7f1-eb35-46d5-e759-a0cb503abc57"
      },
      "execution_count": 5,
      "outputs": [
        {
          "output_type": "stream",
          "name": "stdout",
          "text": [
            "Dictionary: It is a data type that stores an unordered collection of data values.\n",
            "Boolean: A data type with 2 possible values: True or False.\n",
            "For loop / While loop: Loops allow us to iterate over sequences like lists, dictionaries, sets, tuples, etc.\n",
            "If statement: To give different conditions.\n",
            "Functions: A function is a reusable block of code that performs a certain action (or actions).\n",
            "Ordinal value: The equivalent number of a character in python.\n",
            "Character function: Used to get a string representing of a character which points to a Unicode code integer.\n",
            "Binary representation: It gives the binary equivalent of the ordinal value.\n",
            "Import: Used to import codes from other moduels.\n",
            "Input: It allows us to get input from the user by showing a prompt.\n"
          ]
        }
      ]
    },
    {
      "cell_type": "code",
      "source": [
        "\n",
        "\n"
      ],
      "metadata": {
        "id": "LHtYIF81pYVt"
      },
      "execution_count": null,
      "outputs": []
    }
  ]
}