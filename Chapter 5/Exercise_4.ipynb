{
  "nbformat": 4,
  "nbformat_minor": 0,
  "metadata": {
    "colab": {
      "provenance": [],
      "authorship_tag": "ABX9TyPvk1CI/TWeDwGdKMGh/jvn",
      "include_colab_link": true
    },
    "kernelspec": {
      "name": "python3",
      "display_name": "Python 3"
    },
    "language_info": {
      "name": "python"
    }
  },
  "cells": [
    {
      "cell_type": "markdown",
      "metadata": {
        "id": "view-in-github",
        "colab_type": "text"
      },
      "source": [
        "<a href=\"https://colab.research.google.com/github/PtrcE/Programming-class/blob/main/Chapter%205/Exercise_4.ipynb\" target=\"_parent\"><img src=\"https://colab.research.google.com/assets/colab-badge.svg\" alt=\"Open In Colab\"/></a>"
      ]
    },
    {
      "cell_type": "code",
      "source": [
        "#Exercise 4\n",
        "river_country = {'Nile River':'Egypt', 'Amazon River':'Brazil','Ebro River':'Spain'}\n",
        "print('Display river-country pairs:')\n",
        "for river, country in river_country.items():\n",
        " print(river, \" runs through \", country)\n",
        "\n",
        "print(\"\\nDisplay only River:\")\n",
        "for river in river_country.keys():\n",
        "  print(river) \n",
        "\n",
        "print(\"\\nDisplay only Country:\")\n",
        "for country in river_country.values():\n",
        "  print(country)"
      ],
      "metadata": {
        "colab": {
          "base_uri": "https://localhost:8080/"
        },
        "id": "ChPuN4nxyUKt",
        "outputId": "d74938c5-e280-4d8d-d0fb-ca125ceef723"
      },
      "execution_count": 14,
      "outputs": [
        {
          "output_type": "stream",
          "name": "stdout",
          "text": [
            "Display river-country pairs:\n",
            "Nile River  runs through  Egypt\n",
            "Amazon River  runs through  Brazil\n",
            "Ebro River  runs through  Spain\n",
            "\n",
            "Display only River:\n",
            "Nile River\n",
            "Amazon River\n",
            "Ebro River\n",
            "\n",
            "Display only Country:\n",
            "Egypt\n",
            "Brazil\n",
            "Spain\n"
          ]
        }
      ]
    }
  ]
}