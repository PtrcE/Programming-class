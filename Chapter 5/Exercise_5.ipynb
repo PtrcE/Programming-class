{
  "nbformat": 4,
  "nbformat_minor": 0,
  "metadata": {
    "colab": {
      "provenance": [],
      "authorship_tag": "ABX9TyOpnssCNwms67YZRN42MYwn",
      "include_colab_link": true
    },
    "kernelspec": {
      "name": "python3",
      "display_name": "Python 3"
    },
    "language_info": {
      "name": "python"
    }
  },
  "cells": [
    {
      "cell_type": "markdown",
      "metadata": {
        "id": "view-in-github",
        "colab_type": "text"
      },
      "source": [
        "<a href=\"https://colab.research.google.com/github/PtrcE/Programming-class/blob/main/Chapter%205/Exercise_5.ipynb\" target=\"_parent\"><img src=\"https://colab.research.google.com/assets/colab-badge.svg\" alt=\"Open In Colab\"/></a>"
      ]
    },
    {
      "cell_type": "code",
      "execution_count": 1,
      "metadata": {
        "colab": {
          "base_uri": "https://localhost:8080/"
        },
        "id": "c2fAW_S1z3b7",
        "outputId": "cb0a3a74-b755-4fe2-b165-ddf830ea1da5"
      },
      "outputs": [
        {
          "output_type": "stream",
          "name": "stdout",
          "text": [
            "{'Animal': 'Dog', 'Breed': 'Pug', 'Name': 'Bev', 'Owner': 'Patricia'}\n",
            "{'Animal': 'Hamster', 'Breed': 'Dwarf', 'Name': 'Gem', 'Owner': 'Nathasya'}\n",
            "{'Animal': 'Fish', 'Breed': 'Beta', 'Name': 'Shadow', 'Owner': 'Iya'}\n",
            "{'Animal': 'Cat', 'Breed': 'Persian', 'Name': 'Casper', 'Owner': 'Roel'}\n"
          ]
        }
      ],
      "source": [
        "#Exercise 5\n",
        "\n",
        "pet1={'Animal':'Dog', 'Breed': 'Pug', 'Name': 'Bev', 'Owner': 'Patricia'}\n",
        "pet2={'Animal': 'Hamster', 'Breed': 'Dwarf', 'Name': 'Gem', 'Owner': 'Nathasya'}\n",
        "pet3={'Animal': 'Fish', 'Breed': 'Beta', 'Name': 'Shadow', 'Owner': 'Iya'}\n",
        "pet4={'Animal': 'Cat', 'Breed': 'Persian', 'Name': 'Casper', 'Owner': 'Roel'}\n",
        "\n",
        "pets = [pet1, pet2, pet3, pet4]\n",
        "\n",
        "for pets in pets:\n",
        "  print(pets)"
      ]
    }
  ]
}