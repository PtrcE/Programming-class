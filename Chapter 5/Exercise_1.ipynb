{
  "nbformat": 4,
  "nbformat_minor": 0,
  "metadata": {
    "colab": {
      "provenance": [],
      "authorship_tag": "ABX9TyMDaCH9mDhjMgxQYan1/vZB",
      "include_colab_link": true
    },
    "kernelspec": {
      "name": "python3",
      "display_name": "Python 3"
    },
    "language_info": {
      "name": "python"
    }
  },
  "cells": [
    {
      "cell_type": "markdown",
      "metadata": {
        "id": "view-in-github",
        "colab_type": "text"
      },
      "source": [
        "<a href=\"https://colab.research.google.com/github/PtrcE/Programming-class/blob/main/Chapter%205/Exercise_1.ipynb\" target=\"_parent\"><img src=\"https://colab.research.google.com/assets/colab-badge.svg\" alt=\"Open In Colab\"/></a>"
      ]
    },
    {
      "cell_type": "code",
      "execution_count": 2,
      "metadata": {
        "colab": {
          "base_uri": "https://localhost:8080/"
        },
        "id": "7q72lOiLvEdA",
        "outputId": "cbf7e032-9ce8-47db-ee67-cbbddabf9b70"
      },
      "outputs": [
        {
          "output_type": "stream",
          "name": "stdout",
          "text": [
            "Display key-value pais\n",
            "\n",
            "Key:Name\n",
            "Value:Patricia\n",
            "\n",
            "Display only keys\n",
            "Name\n",
            "Last Name\n",
            "Age\n",
            "City\n",
            "\n",
            "Display only values\n",
            "Patricia\n",
            "Enriquez\n",
            "21\n",
            "Dubai\n",
            "\n",
            "Key:Last Name\n",
            "Value:Enriquez\n",
            "\n",
            "Display only keys\n",
            "Name\n",
            "Last Name\n",
            "Age\n",
            "City\n",
            "\n",
            "Display only values\n",
            "Patricia\n",
            "Enriquez\n",
            "21\n",
            "Dubai\n",
            "\n",
            "Key:Age\n",
            "Value:21\n",
            "\n",
            "Display only keys\n",
            "Name\n",
            "Last Name\n",
            "Age\n",
            "City\n",
            "\n",
            "Display only values\n",
            "Patricia\n",
            "Enriquez\n",
            "21\n",
            "Dubai\n",
            "\n",
            "Key:City\n",
            "Value:Dubai\n",
            "\n",
            "Display only keys\n",
            "Name\n",
            "Last Name\n",
            "Age\n",
            "City\n",
            "\n",
            "Display only values\n",
            "Patricia\n",
            "Enriquez\n",
            "21\n",
            "Dubai\n"
          ]
        }
      ],
      "source": [
        "#Exercise 1: Dictationary\n",
        "person={'Name': 'Patricia','Last Name': 'Enriquez','Age': 21 ,'City':'Dubai'}\n",
        "print('Display key-value pais')\n",
        "for key, value in person.items():\n",
        "    print(f\"\\nKey:{key}\")\n",
        "    print(f\"Value:{value}\")\n",
        "\n",
        "    print('\\nDisplay only keys')\n",
        "    for key in person.keys():\n",
        "      print(key)\n",
        "\n",
        "    print('\\nDisplay only values')\n",
        "    for value in person.values():\n",
        "      print(value)\n",
        "\n",
        "    "
      ]
    }
  ]
}