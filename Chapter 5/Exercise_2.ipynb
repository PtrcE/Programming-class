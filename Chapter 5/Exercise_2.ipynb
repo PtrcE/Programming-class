{
  "nbformat": 4,
  "nbformat_minor": 0,
  "metadata": {
    "colab": {
      "provenance": [],
      "authorship_tag": "ABX9TyNCS5EjAM9mkRZ/rJY1p5Gg",
      "include_colab_link": true
    },
    "kernelspec": {
      "name": "python3",
      "display_name": "Python 3"
    },
    "language_info": {
      "name": "python"
    }
  },
  "cells": [
    {
      "cell_type": "markdown",
      "metadata": {
        "id": "view-in-github",
        "colab_type": "text"
      },
      "source": [
        "<a href=\"https://colab.research.google.com/github/PtrcE/Programming-class/blob/main/Chapter%205/Exercise_2.ipynb\" target=\"_parent\"><img src=\"https://colab.research.google.com/assets/colab-badge.svg\" alt=\"Open In Colab\"/></a>"
      ]
    },
    {
      "cell_type": "code",
      "execution_count": 2,
      "metadata": {
        "colab": {
          "base_uri": "https://localhost:8080/"
        },
        "id": "o3dFfvuQzEP5",
        "outputId": "2c44c18e-35aa-489e-db40-539e0baebe6e"
      },
      "outputs": [
        {
          "output_type": "stream",
          "name": "stdout",
          "text": [
            "Dictionary:\n",
            "It is a data type that stores an unordered collection of data values.\n",
            "\n",
            "\n",
            "Boolean:\n",
            "A data type with 2 possible values: True or False.\n",
            "\n",
            "\n",
            "For loop / While loop:\n",
            "Loops allow us to iterate over sequences like lists, dictionaries, sets, tuples, etc.\n",
            "\n",
            "\n",
            "If statement:\n",
            "To give different conditions.\n",
            "\n",
            "\n",
            "Functions:\n",
            "A function is a reusable block of code that performs a certain action (or actions).\n",
            "\n",
            "\n"
          ]
        }
      ],
      "source": [
        "#Exercise 2\n",
        "\n",
        "dictionary = { 'Dictionary': 'It is a data type that stores an unordered collection of data values.',\n",
        "'Boolean': 'A data type with 2 possible values: True or False.',\n",
        "'For loop / While loop': 'Loops allow us to iterate over sequences like lists, dictionaries, sets, tuples, etc.',\n",
        "'If statement': 'To give different conditions.',\n",
        "'Functions': 'A function is a reusable block of code that performs a certain action (or actions).'\n",
        "}\n",
        "\n",
        "print('Dictionary:')\n",
        "print(dictionary['Dictionary'])\n",
        "print('\\n')\n",
        "\n",
        "print('Boolean:')\n",
        "print(dictionary['Boolean'])\n",
        "print('\\n')\n",
        "\n",
        "print('For loop / While loop:')\n",
        "print(dictionary['For loop / While loop'])\n",
        "print('\\n')\n",
        "\n",
        "print('If statement:')\n",
        "print(dictionary['If statement'])\n",
        "print('\\n')\n",
        "\n",
        "print('Functions:')\n",
        "print(dictionary['Functions'])\n",
        "print('\\n')\n"
      ]
    }
  ]
}