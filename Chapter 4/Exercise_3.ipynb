{
  "nbformat": 4,
  "nbformat_minor": 0,
  "metadata": {
    "colab": {
      "provenance": [],
      "authorship_tag": "ABX9TyMHLQumuGjf8r8cCIHpI6iR",
      "include_colab_link": true
    },
    "kernelspec": {
      "name": "python3",
      "display_name": "Python 3"
    },
    "language_info": {
      "name": "python"
    }
  },
  "cells": [
    {
      "cell_type": "markdown",
      "metadata": {
        "id": "view-in-github",
        "colab_type": "text"
      },
      "source": [
        "<a href=\"https://colab.research.google.com/github/PtrcE/Programming-class/blob/main/Chapter%204/Exercise_3.ipynb\" target=\"_parent\"><img src=\"https://colab.research.google.com/assets/colab-badge.svg\" alt=\"Open In Colab\"/></a>"
      ]
    },
    {
      "cell_type": "code",
      "source": [
        "#Exercise 3: Alien color 2.2\n",
        "\n",
        "alien_color=str(input(\"Choose which colored alien did you shoot (Green, Yellow or Red):\"))\n",
        "if alien_color=='green':\n",
        "  print('You earned 5 points')\n",
        "elif alien_color=='yellow':\n",
        "  print('You earned 10 points')\n",
        "elif alien_color=='red':\n",
        "  print('You earned 15 point')\n",
        "else:\n",
        "  print('You earned 0 points')"
      ],
      "metadata": {
        "colab": {
          "base_uri": "https://localhost:8080/"
        },
        "id": "rVdF-jOxf_ak",
        "outputId": "494e4508-9553-439e-fe00-0bf3793db3ce"
      },
      "execution_count": 17,
      "outputs": [
        {
          "output_type": "stream",
          "name": "stdout",
          "text": [
            "Choose which colored alien did you shoot (Green, Yellow or Red):red\n",
            "You earned 15 point\n"
          ]
        }
      ]
    }
  ]
}