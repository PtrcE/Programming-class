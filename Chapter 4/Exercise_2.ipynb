{
  "nbformat": 4,
  "nbformat_minor": 0,
  "metadata": {
    "colab": {
      "provenance": [],
      "include_colab_link": true
    },
    "kernelspec": {
      "name": "python3",
      "display_name": "Python 3"
    },
    "language_info": {
      "name": "python"
    }
  },
  "cells": [
    {
      "cell_type": "markdown",
      "metadata": {
        "id": "view-in-github",
        "colab_type": "text"
      },
      "source": [
        "<a href=\"https://colab.research.google.com/github/PtrcE/Programming-class/blob/main/Chapter%204/Exercise_2.ipynb\" target=\"_parent\"><img src=\"https://colab.research.google.com/assets/colab-badge.svg\" alt=\"Open In Colab\"/></a>"
      ]
    },
    {
      "cell_type": "code",
      "source": [
        "#Exercise 2: Alien color 2.1\n",
        "alien_color=str(input(\"What alien color did you shoot?: \")) #asked what color was shot\n",
        "\n",
        "if alien_color=='green':\n",
        "  print('You earned 5 points') #green earns you 5 point only\n",
        "else:\n",
        "  print('You earned 10 points') #any other color than green can earn you 10 point"
      ],
      "metadata": {
        "colab": {
          "base_uri": "https://localhost:8080/"
        },
        "id": "rVdF-jOxf_ak",
        "outputId": "4bd1ec35-3d05-4c0b-a054-9171bbdf0f88"
      },
      "execution_count": null,
      "outputs": [
        {
          "output_type": "stream",
          "name": "stdout",
          "text": [
            "What alien color did you shoot?: Blue\n",
            "You earned 10 points\n"
          ]
        }
      ]
    }
  ]
}