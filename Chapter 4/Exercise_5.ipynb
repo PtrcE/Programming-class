{
  "nbformat": 4,
  "nbformat_minor": 0,
  "metadata": {
    "colab": {
      "provenance": [],
      "authorship_tag": "ABX9TyNq386TxH/yv5awVnwFANhj",
      "include_colab_link": true
    },
    "kernelspec": {
      "name": "python3",
      "display_name": "Python 3"
    },
    "language_info": {
      "name": "python"
    }
  },
  "cells": [
    {
      "cell_type": "markdown",
      "metadata": {
        "id": "view-in-github",
        "colab_type": "text"
      },
      "source": [
        "<a href=\"https://colab.research.google.com/github/PtrcE/Programming-class/blob/main/Chapter%204/Exercise_5.ipynb\" target=\"_parent\"><img src=\"https://colab.research.google.com/assets/colab-badge.svg\" alt=\"Open In Colab\"/></a>"
      ]
    },
    {
      "cell_type": "code",
      "source": [
        "#Exercise 5\n",
        "\n",
        "a = 'mango'\n",
        "b = 'dragon fruit'\n",
        "c = 'banana'\n",
        "d = 'cherry'\n",
        "e = 'strawberry'\n",
        "favorite_fruits = [\"banana\", \"mango\", \"cherry\"] #amongst the list, these are the favorite fruits\n",
        "\n",
        "if a not in favorite_fruits:\n",
        "  print(a.title(),\"is not in the list of your favorite fruits!\") #'a' is checked and was not in the list of favorite fruits\n",
        "\n",
        "if b not in favorite_fruits:\n",
        "  print(b.title(),\"is not in the list of your favorite fruits!\") #'b' is checked and was not in the list of favorite fruits\n",
        "\n",
        "if c in favorite_fruits:\n",
        "  print(\"You really like\", c.title()+\"s!\") #'c' is a fav so it is selected and printed\n",
        "\n",
        "if d in favorite_fruits:\n",
        "  print(\"You really like\", d.title()+\"s!\")#'d' is a fav so it is selected and printed\n",
        "\n",
        "if e in favorite_fruits:\n",
        "  print(\"You really like\", e.title()) #'e' is a fav so it is selected and printed"
      ],
      "metadata": {
        "colab": {
          "base_uri": "https://localhost:8080/"
        },
        "id": "ccoZRx8BtGrQ",
        "outputId": "54b4ea98-e66b-4b38-c92d-e66502d95400"
      },
      "execution_count": 2,
      "outputs": [
        {
          "output_type": "stream",
          "name": "stdout",
          "text": [
            "Dragon Fruit is not in the list of your favorite fruits!\n",
            "You really like Bananas!\n",
            "You really like Cherrys!\n"
          ]
        }
      ]
    }
  ]
}