{
  "nbformat": 4,
  "nbformat_minor": 0,
  "metadata": {
    "colab": {
      "provenance": [],
      "authorship_tag": "ABX9TyO7+RrXI541LT5y8r52kN7L",
      "include_colab_link": true
    },
    "kernelspec": {
      "name": "python3",
      "display_name": "Python 3"
    },
    "language_info": {
      "name": "python"
    }
  },
  "cells": [
    {
      "cell_type": "markdown",
      "metadata": {
        "id": "view-in-github",
        "colab_type": "text"
      },
      "source": [
        "<a href=\"https://colab.research.google.com/github/PtrcE/Programming-class/blob/main/Chapter%204/Exercise_5.ipynb\" target=\"_parent\"><img src=\"https://colab.research.google.com/assets/colab-badge.svg\" alt=\"Open In Colab\"/></a>"
      ]
    },
    {
      "cell_type": "code",
      "source": [
        "#Exercise 5: \n",
        "\n",
        "a = 'mango'\n",
        "b = 'dragon fruit'\n",
        "c = 'banana'\n",
        "d = 'cherry'\n",
        "e = 'strawberry'\n",
        "favorite_fruits = [\"banana\", \"mango\", \"cherry\"]\n",
        "\n",
        "if a not in favorite_fruits:\n",
        "  print(a.title(),\"is not in the list of your favorite fruits!\")\n",
        "\n",
        "if b not in favorite_fruits:\n",
        "  print(b.title(),\"is not in the list of your favorite fruits!\")\n",
        "\n",
        "if c in favorite_fruits:\n",
        "  print(\"You really like\", c.title()+\"s!\")\n",
        "\n",
        "if d in favorite_fruits:\n",
        "  print(\"You really like\", d.title()+\"s!\")\n",
        "\n",
        "if e in favorite_fruits:\n",
        "  print(\"You really like\", e.title()+\"es!\")"
      ],
      "metadata": {
        "colab": {
          "base_uri": "https://localhost:8080/"
        },
        "id": "ccoZRx8BtGrQ",
        "outputId": "f9962b3e-575b-4d6e-904d-55ed4f24f127"
      },
      "execution_count": 19,
      "outputs": [
        {
          "output_type": "stream",
          "name": "stdout",
          "text": [
            "Dragon Fruit is not in the list of your favorite fruits!\n",
            "You really like Bananas!\n",
            "You really like Cherrys!\n"
          ]
        }
      ]
    }
  ]
}