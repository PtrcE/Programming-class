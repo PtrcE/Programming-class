{
  "nbformat": 4,
  "nbformat_minor": 0,
  "metadata": {
    "colab": {
      "provenance": [],
      "authorship_tag": "ABX9TyMvYxTzNP+kf7Uefj+Es2U0",
      "include_colab_link": true
    },
    "kernelspec": {
      "name": "python3",
      "display_name": "Python 3"
    },
    "language_info": {
      "name": "python"
    }
  },
  "cells": [
    {
      "cell_type": "markdown",
      "metadata": {
        "id": "view-in-github",
        "colab_type": "text"
      },
      "source": [
        "<a href=\"https://colab.research.google.com/github/PtrcE/Programming-class/blob/main/Chapter%204/%20Exercise_1.ipynb\" target=\"_parent\"><img src=\"https://colab.research.google.com/assets/colab-badge.svg\" alt=\"Open In Colab\"/></a>"
      ]
    },
    {
      "cell_type": "code",
      "source": [
        "#Exercise 1: Alien color 1.0\n",
        "alien_color='green'\n",
        "if alien_color =='green':\n",
        "  print('You earned 5 points')\n",
        "alien_color='yellow'\n",
        "if alien_color =='green':\n",
        "  print('You earned 5 points')\n",
        "alien_color='red'\n",
        "if alien_color =='green':\n",
        "  print('You earned 5 points')"
      ],
      "metadata": {
        "id": "rVdF-jOxf_ak"
      },
      "execution_count": null,
      "outputs": []
    }
  ]
}