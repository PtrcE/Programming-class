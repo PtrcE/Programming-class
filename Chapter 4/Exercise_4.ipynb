{
  "nbformat": 4,
  "nbformat_minor": 0,
  "metadata": {
    "colab": {
      "provenance": [],
      "authorship_tag": "ABX9TyPyp3nHeql13KyLbcPO+JYv",
      "include_colab_link": true
    },
    "kernelspec": {
      "name": "python3",
      "display_name": "Python 3"
    },
    "language_info": {
      "name": "python"
    }
  },
  "cells": [
    {
      "cell_type": "markdown",
      "metadata": {
        "id": "view-in-github",
        "colab_type": "text"
      },
      "source": [
        "<a href=\"https://colab.research.google.com/github/PtrcE/Programming-class/blob/main/Chapter%204/Exercise_4.ipynb\" target=\"_parent\"><img src=\"https://colab.research.google.com/assets/colab-badge.svg\" alt=\"Open In Colab\"/></a>"
      ]
    },
    {
      "cell_type": "code",
      "source": [
        "#Exercise 4\n",
        "\n",
        "x = int(input('How old are you? ')) #this function uses the inputed data from the user\n",
        "\n",
        "if x < 2:\n",
        "  print('You are a baby!') #any age less than 2 is a baby\n",
        "\n",
        "elif x < 4:\n",
        "  print('You are a toddler!') #any age less then 4 is a toddler\n",
        "\n",
        "elif x < 13:\n",
        "  print('You are a kid!') #any age less than 13 is a kid\n",
        "\n",
        "elif x < 20:\n",
        "  print('You are a teenager!') #any age less than 20 is a teenager\n",
        "\n",
        "elif x < 65:\n",
        "  print('You are an adult!') #any age less than 65 is an adult\n",
        "\n",
        "else:\n",
        "  print('You are an elder!') #any age higher than 65 is an elder"
      ],
      "metadata": {
        "colab": {
          "base_uri": "https://localhost:8080/"
        },
        "id": "aOfVjCSLsuPB",
        "outputId": "4cd75e93-a2bb-451f-fa8c-12625fd2b175"
      },
      "execution_count": 2,
      "outputs": [
        {
          "output_type": "stream",
          "name": "stdout",
          "text": [
            "How old are you? 2\n",
            "You are a toddler!\n"
          ]
        }
      ]
    }
  ]
}