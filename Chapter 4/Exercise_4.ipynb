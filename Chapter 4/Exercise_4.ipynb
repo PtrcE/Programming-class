{
  "nbformat": 4,
  "nbformat_minor": 0,
  "metadata": {
    "colab": {
      "provenance": [],
      "authorship_tag": "ABX9TyPh1pRZMUMmQ+bsHBtS3g9J",
      "include_colab_link": true
    },
    "kernelspec": {
      "name": "python3",
      "display_name": "Python 3"
    },
    "language_info": {
      "name": "python"
    }
  },
  "cells": [
    {
      "cell_type": "markdown",
      "metadata": {
        "id": "view-in-github",
        "colab_type": "text"
      },
      "source": [
        "<a href=\"https://colab.research.google.com/github/PtrcE/Programming-class/blob/main/Chapter%204/Exercise_4.ipynb\" target=\"_parent\"><img src=\"https://colab.research.google.com/assets/colab-badge.svg\" alt=\"Open In Colab\"/></a>"
      ]
    },
    {
      "cell_type": "code",
      "source": [
        "#Exercise 4\n",
        "\n",
        "x = int(input('How old are you? '))\n",
        "\n",
        "if x < 2:\n",
        "  print('You are a baby!')\n",
        "\n",
        "elif x < 4:\n",
        "  print('You are a toddler!')\n",
        "\n",
        "elif x < 13:\n",
        "  print('You are a kid!')\n",
        "\n",
        "elif x < 20:\n",
        "  print('You are a teenager!')\n",
        "\n",
        "elif x < 65:\n",
        "  print('You are an adult!')\n",
        "\n",
        "else:\n",
        "  print('You are an elder!')"
      ],
      "metadata": {
        "colab": {
          "base_uri": "https://localhost:8080/"
        },
        "id": "aOfVjCSLsuPB",
        "outputId": "208f2370-c168-49fb-9268-fb500763c77f"
      },
      "execution_count": 18,
      "outputs": [
        {
          "output_type": "stream",
          "name": "stdout",
          "text": [
            "How old are you? 15\n",
            "You are a teenager!\n"
          ]
        }
      ]
    }
  ]
}