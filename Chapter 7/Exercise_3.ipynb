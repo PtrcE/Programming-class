{
  "nbformat": 4,
  "nbformat_minor": 0,
  "metadata": {
    "colab": {
      "provenance": [],
      "authorship_tag": "ABX9TyMFM7ODYvb7QOGc/Q9pF3Kv",
      "include_colab_link": true
    },
    "kernelspec": {
      "name": "python3",
      "display_name": "Python 3"
    },
    "language_info": {
      "name": "python"
    }
  },
  "cells": [
    {
      "cell_type": "markdown",
      "metadata": {
        "id": "view-in-github",
        "colab_type": "text"
      },
      "source": [
        "<a href=\"https://colab.research.google.com/github/PtrcE/Programming-class/blob/main/Chapter%207/Exercise_3.ipynb\" target=\"_parent\"><img src=\"https://colab.research.google.com/assets/colab-badge.svg\" alt=\"Open In Colab\"/></a>"
      ]
    },
    {
      "cell_type": "code",
      "source": [
        "#Exercise 3\n",
        "\n",
        "def make_shirt(size,msg):\n",
        "  print(f\"\\nThe shirt size is {size.title()}.\")\n",
        "  print(f\"\\nMessage printed on the shirt is '{msg.title()}!'. \")\n",
        "make_shirt(size='Medium', msg= 'I am awesome')\n"
      ],
      "metadata": {
        "colab": {
          "base_uri": "https://localhost:8080/"
        },
        "id": "_uCkdQ6XwFxa",
        "outputId": "e99d8812-ffe8-4812-99cc-2027e5b9ac16"
      },
      "execution_count": 35,
      "outputs": [
        {
          "output_type": "stream",
          "name": "stdout",
          "text": [
            "\n",
            "The shirt size is Medium.\n",
            "\n",
            "Message printed on the shirt is 'I Am Awesome!'. \n"
          ]
        }
      ]
    },
    {
      "cell_type": "code",
      "source": [],
      "metadata": {
        "id": "Ngp8md2W6IHn"
      },
      "execution_count": null,
      "outputs": []
    }
  ]
}