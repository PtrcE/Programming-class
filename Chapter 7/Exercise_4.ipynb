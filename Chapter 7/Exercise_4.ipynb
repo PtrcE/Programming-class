{
  "nbformat": 4,
  "nbformat_minor": 0,
  "metadata": {
    "colab": {
      "provenance": [],
      "authorship_tag": "ABX9TyOJUPxONisuXyYHj2KwFZH+",
      "include_colab_link": true
    },
    "kernelspec": {
      "name": "python3",
      "display_name": "Python 3"
    },
    "language_info": {
      "name": "python"
    }
  },
  "cells": [
    {
      "cell_type": "markdown",
      "metadata": {
        "id": "view-in-github",
        "colab_type": "text"
      },
      "source": [
        "<a href=\"https://colab.research.google.com/github/PtrcE/Programming-class/blob/main/Chapter%207/Exercise_4.ipynb\" target=\"_parent\"><img src=\"https://colab.research.google.com/assets/colab-badge.svg\" alt=\"Open In Colab\"/></a>"
      ]
    },
    {
      "cell_type": "code",
      "source": [
        "#Exercise 4\n",
        "\n",
        "def shirt(size1,size2,size3,msg1,msg2,msg3):\n",
        "  print(f\"\\nThe shirt size is '{size1.title()},\")\n",
        "  print(f\"\\nMessage printed on the shirt is '{msg1.title()}!'.\") \n",
        "  print(f\"\\nThe shirt size is {size2.title()},\")\n",
        "  print(f\"\\nMessage printed on the shirt is '{msg2.title()}!'.\")\n",
        "  print(f\"\\nThe shirt size is {size3.title()},\")\n",
        "  print(f\"\\nMessage printed on the shirt is '{msg3.title()}!'. \")\n",
        "shirt(size1='Large', size2='Medium', size3= 'Small', msg1= 'I love Python', msg2= 'I love Python', msg3= 'Python Rocks!')"
      ],
      "metadata": {
        "colab": {
          "base_uri": "https://localhost:8080/"
        },
        "id": "Ngp8md2W6IHn",
        "outputId": "03817684-e3bd-4433-91c8-2733a8acf6d2"
      },
      "execution_count": 58,
      "outputs": [
        {
          "output_type": "stream",
          "name": "stdout",
          "text": [
            "\n",
            "The shirt size is 'Large,\n",
            "\n",
            "Message printed on the shirt is 'I Love Python!'.\n",
            "\n",
            "The shirt size is Medium,\n",
            "\n",
            "Message printed on the shirt is 'I Love Python!'.\n",
            "\n",
            "The shirt size is Small,\n",
            "\n",
            "Message printed on the shirt is 'Python Rocks!!'. \n"
          ]
        }
      ]
    }
  ]
}