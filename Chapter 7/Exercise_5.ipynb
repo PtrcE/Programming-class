{
  "nbformat": 4,
  "nbformat_minor": 0,
  "metadata": {
    "colab": {
      "provenance": [],
      "authorship_tag": "ABX9TyOf5eFbKNOhkKSiwwQiKVAf",
      "include_colab_link": true
    },
    "kernelspec": {
      "name": "python3",
      "display_name": "Python 3"
    },
    "language_info": {
      "name": "python"
    }
  },
  "cells": [
    {
      "cell_type": "markdown",
      "metadata": {
        "id": "view-in-github",
        "colab_type": "text"
      },
      "source": [
        "<a href=\"https://colab.research.google.com/github/PtrcE/Programming-class/blob/main/Chapter%207/Exercise_5.ipynb\" target=\"_parent\"><img src=\"https://colab.research.google.com/assets/colab-badge.svg\" alt=\"Open In Colab\"/></a>"
      ]
    },
    {
      "cell_type": "code",
      "source": [
        "#Exercise 5\n",
        "\n",
        "def describe_city(city1,city2,city3,country1,country2,country3):\n",
        " print(f\"\\n{city1.title()} is a city in {country1.title()}.\")\n",
        " print(f\"\\n{city2.title()} is a city in {country2.title()}.\")\n",
        " print(f\"\\n{city3.title()} is a city in {country3.title()}.\")\n",
        "describe_city(city1='paris',city2='manila',city3='rome',country1='france',country2='philippines',country3='italy')"
      ],
      "metadata": {
        "colab": {
          "base_uri": "https://localhost:8080/"
        },
        "id": "Ngp8md2W6IHn",
        "outputId": "c820f52c-1a15-4a25-aac4-8ea7a3dd10e4"
      },
      "execution_count": 63,
      "outputs": [
        {
          "output_type": "stream",
          "name": "stdout",
          "text": [
            "\n",
            "Paris is a city in France.\n",
            "\n",
            "Manila is a city in Philippines.\n",
            "\n",
            "Rome is a city in Italy.\n"
          ]
        }
      ]
    }
  ]
}