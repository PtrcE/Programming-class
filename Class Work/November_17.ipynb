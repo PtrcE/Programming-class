{
  "nbformat": 4,
  "nbformat_minor": 0,
  "metadata": {
    "colab": {
      "provenance": [],
      "authorship_tag": "ABX9TyPKyXRxN78sZcAGyzUnyeW0",
      "include_colab_link": true
    },
    "kernelspec": {
      "name": "python3",
      "display_name": "Python 3"
    },
    "language_info": {
      "name": "python"
    }
  },
  "cells": [
    {
      "cell_type": "markdown",
      "metadata": {
        "id": "view-in-github",
        "colab_type": "text"
      },
      "source": [
        "<a href=\"https://colab.research.google.com/github/PtrcE/Programming-class/blob/main/Class%20Work/November_17.ipynb\" target=\"_parent\"><img src=\"https://colab.research.google.com/assets/colab-badge.svg\" alt=\"Open In Colab\"/></a>"
      ]
    },
    {
      "cell_type": "code",
      "execution_count": null,
      "metadata": {
        "colab": {
          "base_uri": "https://localhost:8080/"
        },
        "id": "uskChfQzClZO",
        "outputId": "1d39a777-5224-4f3c-9fba-8f2088cf4381"
      },
      "outputs": [
        {
          "output_type": "stream",
          "name": "stdout",
          "text": [
            "Enter preferred car brand: lexus\n",
            "You prefer lexus !\n"
          ]
        }
      ],
      "source": [
        "#Asking user preferred car brand\n",
        "cars=['lexus','subaru','nissan','honda','bentley','mercedes']\n",
        "\n",
        "brand=(input('Enter preferred car brand: '))\n",
        "if brand in cars:\n",
        "  print('You prefer',brand,'!')\n",
        "else:\n",
        "  print('You prefer other brands')"
      ]
    },
    {
      "cell_type": "code",
      "source": [
        "#Asking user car brand and color (TO EDIT)\n",
        "carbrands = ['Toyota', 'toyota', 'Honda', 'honda', 'Ferrari', 'ferrari', 'Lamborghini', 'lamborghini', \n",
        "             'Nissan', 'nissan', 'Mercedes Benz', 'mercedes benz', 'Mercedes-Benz', 'mercedes-benz']\n",
        "colors = ['Black', 'black', 'White', 'white', 'Grey', 'grey', 'Blue', 'blue', 'Red', 'red', 'Yellow', 'yellow']\n",
        "userbrand = (input('Good day! What brand of car would you like to choose?\\nYour choice: '))\n",
        "\n",
        "if userbrand in carbrands:\n",
        "  print('Good choice! We have', userbrand+'s available. What color would you like your car to be?')\n",
        "  carcolor = (input('Your choice: '))\n",
        "  if carcolor in colors:\n",
        "    print('Nice! Luckily, we have', carcolor, userbrand+'s in your selected color.')\n",
        "  else:\n",
        "    print('Sorry, but we do not have available cars in your selected color')\n",
        "else:\n",
        "  print('Sorry, but we do not have available cars in your selected brand.')"
      ],
      "metadata": {
        "id": "G5kr9Xc3MYQV"
      },
      "execution_count": null,
      "outputs": []
    },
    {
      "cell_type": "code",
      "source": [
        "#range function(0-11)\n",
        "for i in range(11):\n",
        "  print(i)"
      ],
      "metadata": {
        "colab": {
          "base_uri": "https://localhost:8080/"
        },
        "id": "zwb9FzpvL4Rb",
        "outputId": "a33e43df-cfdc-4a2c-e5b6-a48441283f3c"
      },
      "execution_count": null,
      "outputs": [
        {
          "output_type": "stream",
          "name": "stdout",
          "text": [
            "0\n",
            "1\n",
            "2\n",
            "3\n",
            "4\n",
            "5\n",
            "6\n",
            "7\n",
            "8\n",
            "9\n",
            "10\n"
          ]
        }
      ]
    },
    {
      "cell_type": "code",
      "source": [
        "#range function(1-15)\n",
        "for i in range(15):\n",
        "  print(i)"
      ],
      "metadata": {
        "colab": {
          "base_uri": "https://localhost:8080/"
        },
        "id": "sEr_SR30McYV",
        "outputId": "1707965d-bad0-4c78-e47d-28f5d633b167"
      },
      "execution_count": null,
      "outputs": [
        {
          "output_type": "stream",
          "name": "stdout",
          "text": [
            "0\n",
            "1\n",
            "2\n",
            "3\n",
            "4\n",
            "5\n",
            "6\n",
            "7\n",
            "8\n",
            "9\n",
            "10\n",
            "11\n",
            "12\n",
            "13\n",
            "14\n"
          ]
        }
      ]
    },
    {
      "cell_type": "code",
      "source": [
        "#Printing pyramind of succesive numbers\n",
        "n=int(input('Enter the number of rows: '))\n",
        "for i in range(0,n):\n",
        "  for j in range(0,i+1):\n",
        "    print(j,end='')\n",
        "  print()"
      ],
      "metadata": {
        "colab": {
          "base_uri": "https://localhost:8080/"
        },
        "id": "OJc_bkENMr3g",
        "outputId": "d1de3340-3cb0-4d81-f877-f5fd4a511ad7"
      },
      "execution_count": null,
      "outputs": [
        {
          "output_type": "stream",
          "name": "stdout",
          "text": [
            "Enter the number of rows: 5\n",
            "0\n",
            "01\n",
            "012\n",
            "0123\n",
            "01234\n"
          ]
        }
      ]
    },
    {
      "cell_type": "code",
      "source": [
        "#Printing pyramind of succesive numbers (w/o +1)\n",
        "n=int(input('Enter the number of rows: '))\n",
        "for i in range(0,n):\n",
        "  for j in range(0,i): #w/o +1\n",
        "    print(j,end='')\n",
        "  print()"
      ],
      "metadata": {
        "colab": {
          "base_uri": "https://localhost:8080/"
        },
        "id": "YLtVddXVSoj6",
        "outputId": "051c0ec9-cfc6-435a-dae7-3fadb2ebc447"
      },
      "execution_count": null,
      "outputs": [
        {
          "output_type": "stream",
          "name": "stdout",
          "text": [
            "Enter the number of rows: 5\n",
            "\n",
            "0\n",
            "01\n",
            "012\n",
            "0123\n"
          ]
        }
      ]
    },
    {
      "cell_type": "code",
      "source": [
        "n=int(input('Enter the number of rows: '))\n",
        "for i in range(n):\n",
        "  for j in range(i+1): \n",
        "    print (j,end=\"\")\n",
        "  print()\n",
        "\n",
        "for i in range(n):\n",
        "  for j in range(0,n-i-1): #inverted\n",
        "    print(j,end=\"\")\n",
        "  print()"
      ],
      "metadata": {
        "colab": {
          "base_uri": "https://localhost:8080/"
        },
        "id": "x5rdOmEZhftk",
        "outputId": "a3dc837f-5f5b-4506-832a-8d9f606e6d55"
      },
      "execution_count": null,
      "outputs": [
        {
          "output_type": "stream",
          "name": "stdout",
          "text": [
            "Enter the number of rows: 5\n",
            "0\n",
            "01\n",
            "012\n",
            "0123\n",
            "01234\n",
            "0123\n",
            "012\n",
            "01\n",
            "0\n",
            "\n"
          ]
        }
      ]
    },
    {
      "cell_type": "code",
      "source": [
        "#Printing pyramind of succesive * \n",
        "n=int(input('Enter the number of rows: '))\n",
        "for i in range(n):\n",
        "  for j in range(i+1): \n",
        "    print(\"*\",end=\"\")\n",
        "  print()"
      ],
      "metadata": {
        "colab": {
          "base_uri": "https://localhost:8080/"
        },
        "id": "hXEdAKvFSyU7",
        "outputId": "e441ac1d-dd98-4137-f1ac-9fd56f8c3511"
      },
      "execution_count": null,
      "outputs": [
        {
          "output_type": "stream",
          "name": "stdout",
          "text": [
            "Enter the number of rows: 5\n",
            "*\n",
            "**\n",
            "***\n",
            "****\n",
            "*****\n"
          ]
        }
      ]
    },
    {
      "cell_type": "code",
      "source": [
        "for i in range(10,50,5): #starts at 10 stops at 50 & step of 5\n",
        "  print(i,end='  ')"
      ],
      "metadata": {
        "colab": {
          "base_uri": "https://localhost:8080/"
        },
        "id": "Btg8c7uXe2_K",
        "outputId": "e00c6196-9624-4b4b-e529-2e3c264abe23"
      },
      "execution_count": null,
      "outputs": [
        {
          "output_type": "stream",
          "name": "stdout",
          "text": [
            "10  15  20  25  30  35  40  45  "
          ]
        }
      ]
    },
    {
      "cell_type": "code",
      "source": [
        "#Printing pyramind of inverted * \n",
        "n=int(input('Enter the number of rows: '))\n",
        "for i in range(n):\n",
        "  for j in range(0,n-i-1): #inverted\n",
        "    print(\"*\",end=\"\")\n",
        "  print()"
      ],
      "metadata": {
        "colab": {
          "base_uri": "https://localhost:8080/"
        },
        "id": "A__R7shifW9d",
        "outputId": "c837b23a-f651-4239-8ffe-100f80e0ef68"
      },
      "execution_count": null,
      "outputs": [
        {
          "output_type": "stream",
          "name": "stdout",
          "text": [
            "Enter the number of rows: 5\n",
            "****\n",
            "***\n",
            "**\n",
            "*\n",
            "\n"
          ]
        }
      ]
    },
    {
      "cell_type": "code",
      "source": [
        "#triangle\n",
        "n=int(input('Enter the number of rows: '))\n",
        "for i in range(n):\n",
        "  for j in range(i+1): \n",
        "    print(\"*\",end=\"\")\n",
        "  print()\n",
        "\n",
        "for i in range(n):\n",
        "  for j in range(0,n-i-1): #inverted\n",
        "    print(\"*\",end=\"\")\n",
        "  print()"
      ],
      "metadata": {
        "colab": {
          "base_uri": "https://localhost:8080/"
        },
        "id": "Qoz1U6qQgdD4",
        "outputId": "04ebf72c-9abb-4235-8250-725dbdcde635"
      },
      "execution_count": null,
      "outputs": [
        {
          "output_type": "stream",
          "name": "stdout",
          "text": [
            "Enter the number of rows: 10\n",
            "*\n",
            "**\n",
            "***\n",
            "****\n",
            "*****\n",
            "******\n",
            "*******\n",
            "********\n",
            "*********\n",
            "**********\n",
            "*********\n",
            "********\n",
            "*******\n",
            "******\n",
            "*****\n",
            "****\n",
            "***\n",
            "**\n",
            "*\n",
            "\n"
          ]
        }
      ]
    },
    {
      "cell_type": "code",
      "source": [
        "n=int(input('Enter the number of rows: '))\n",
        "for i in range(n, 0, -1):\n",
        "  for j in range(i + 1): \n",
        "    print(j, end=\" \")\n",
        "  print()"
      ],
      "metadata": {
        "colab": {
          "base_uri": "https://localhost:8080/"
        },
        "id": "N8i8BoOXg3E_",
        "outputId": "5f4d157d-6db9-49fc-c5f6-7fbecc0c0f42"
      },
      "execution_count": null,
      "outputs": [
        {
          "output_type": "stream",
          "name": "stdout",
          "text": [
            "Enter the number of rows: 5\n",
            "0 1 2 3 4 5 \n",
            "0 1 2 3 4 \n",
            "0 1 2 3 \n",
            "0 1 2 \n",
            "0 1 \n"
          ]
        }
      ]
    },
    {
      "cell_type": "code",
      "source": [
        "n=int(input('Enter the number of rows: '))\n",
        "i=1\n",
        "while i<=n:\n",
        "  j=1\n",
        "  while j<=1:\n",
        "    print((i*2-1),end=' ') #odd numbers\n",
        "    j=j+1\n",
        "  i=i+1\n",
        "  print()"
      ],
      "metadata": {
        "colab": {
          "base_uri": "https://localhost:8080/"
        },
        "id": "_ZaFPDt5jXqp",
        "outputId": "5b6d95f9-d6d6-49d8-fd8b-da2bded56642"
      },
      "execution_count": null,
      "outputs": [
        {
          "output_type": "stream",
          "name": "stdout",
          "text": [
            "Enter the number of rows: 5\n",
            "1 \n",
            "3 \n",
            "5 \n",
            "7 \n",
            "9 \n"
          ]
        }
      ]
    },
    {
      "cell_type": "code",
      "source": [
        "n=int(input('Enter the number of rows: '))\n",
        "i=1\n",
        "while i<=n:\n",
        "  j=1\n",
        "  while j<=i:\n",
        "    print((i*2-1),end=' ') #odd numbers\n",
        "    j=j+1\n",
        "  i=i+1\n",
        "  print()"
      ],
      "metadata": {
        "colab": {
          "base_uri": "https://localhost:8080/"
        },
        "id": "GstYaNq8lJ6t",
        "outputId": "b91eba56-be40-4299-c1de-807b2f6bbb50"
      },
      "execution_count": null,
      "outputs": [
        {
          "output_type": "stream",
          "name": "stdout",
          "text": [
            "Enter the number of rows: 5\n",
            "1 \n",
            "3 3 \n",
            "5 5 5 \n",
            "7 7 7 7 \n",
            "9 9 9 9 9 \n"
          ]
        }
      ]
    },
    {
      "cell_type": "code",
      "source": [
        "n=int(input('Enter the number of rows: '))\n",
        "i=1\n",
        "while i<=n:\n",
        "  j=1\n",
        "  while j<=1:\n",
        "    print((i*2),end=' ') #even numbers\n",
        "    j=j+1\n",
        "  i=i+1\n",
        "  print()"
      ],
      "metadata": {
        "colab": {
          "base_uri": "https://localhost:8080/"
        },
        "id": "8hok_6vRmBtS",
        "outputId": "71c4dc55-d03d-4e93-a41b-32cd9425fb36"
      },
      "execution_count": null,
      "outputs": [
        {
          "output_type": "stream",
          "name": "stdout",
          "text": [
            "Enter the number of rows: 5\n",
            "2 \n",
            "4 \n",
            "6 \n",
            "8 \n",
            "10 \n"
          ]
        }
      ]
    },
    {
      "cell_type": "code",
      "source": [
        "n=int(input('Enter the number of rows: '))\n",
        "i=1\n",
        "while i<=n:\n",
        "  j=1\n",
        "  while j<=i:\n",
        "    print((i*2),end=' ') #even numbers\n",
        "    j=j+1\n",
        "  i=i+1\n",
        "  print()"
      ],
      "metadata": {
        "colab": {
          "base_uri": "https://localhost:8080/"
        },
        "id": "nrUaclvEmIDN",
        "outputId": "034f328a-23e6-49a9-9a25-5c50d416e0e9"
      },
      "execution_count": null,
      "outputs": [
        {
          "output_type": "stream",
          "name": "stdout",
          "text": [
            "Enter the number of rows: 5\n",
            "2 \n",
            "4 4 \n",
            "6 6 6 \n",
            "8 8 8 8 \n",
            "10 10 10 10 10 \n"
          ]
        }
      ]
    },
    {
      "cell_type": "code",
      "source": [
        "#pyramind out of stars*\n",
        "n=int(input('Enter the number of rows: '))\n",
        "def triangle(n):\n",
        "     \n",
        "    \n",
        "    k = n - 1 # number of spaces\n",
        "    for i in range(0, n):\n",
        "\n",
        "        for j in range(0, k):\n",
        "            print(end=\" \")\n",
        "  \n",
        "        k = k - 1 # decrementing k after each loop\n",
        "        for j in range(0, i+1):\n",
        "            print(\"* \", end=\" \")\n",
        "\n",
        "        print(\"\\r\") # ending line after each row\n",
        " \n",
        "triangle(n)"
      ],
      "metadata": {
        "colab": {
          "base_uri": "https://localhost:8080/"
        },
        "id": "WCgePsIEnv_4",
        "outputId": "1ce8c494-25a1-422c-cd0c-c84eea28db73"
      },
      "execution_count": null,
      "outputs": [
        {
          "output_type": "stream",
          "name": "stdout",
          "text": [
            "Enter the number of rows: 5\n",
            "    * \n",
            "   * * \n",
            "  * * * \n",
            " * * * * \n",
            "* * * * * \n"
          ]
        }
      ]
    }
  ]
}