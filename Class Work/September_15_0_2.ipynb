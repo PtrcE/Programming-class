{
  "nbformat": 4,
  "nbformat_minor": 0,
  "metadata": {
    "colab": {
      "provenance": [],
      "authorship_tag": "ABX9TyOCcMeyKP9LdopaQHPTa3+0",
      "include_colab_link": true
    },
    "kernelspec": {
      "name": "python3",
      "display_name": "Python 3"
    },
    "language_info": {
      "name": "python"
    }
  },
  "cells": [
    {
      "cell_type": "markdown",
      "metadata": {
        "id": "view-in-github",
        "colab_type": "text"
      },
      "source": [
        "<a href=\"https://colab.research.google.com/github/PtrcE/Programming-class/blob/main/Class%20Work/September_15_0_2.ipynb\" target=\"_parent\"><img src=\"https://colab.research.google.com/assets/colab-badge.svg\" alt=\"Open In Colab\"/></a>"
      ]
    },
    {
      "cell_type": "code",
      "execution_count": null,
      "metadata": {
        "colab": {
          "base_uri": "https://localhost:8080/"
        },
        "id": "YUPuQqBC3PUH",
        "outputId": "cbb14f12-52ec-44f6-da0f-157fd7877763"
      },
      "outputs": [
        {
          "output_type": "execute_result",
          "data": {
            "text/plain": [
              "65"
            ]
          },
          "metadata": {},
          "execution_count": 9
        }
      ],
      "source": [
        "#Ordinal function takes the value of a letter\n",
        "ord('A')\n",
        "\n"
      ]
    },
    {
      "cell_type": "code",
      "source": [
        "#Character funtion converts number into a letter\n",
        "chr(65)"
      ],
      "metadata": {
        "colab": {
          "base_uri": "https://localhost:8080/",
          "height": 37
        },
        "id": "5-K90LrU4CWY",
        "outputId": "39fad5ea-b524-4b0f-d053-03a9d7f5ddff"
      },
      "execution_count": null,
      "outputs": [
        {
          "output_type": "execute_result",
          "data": {
            "text/plain": [
              "'A'"
            ],
            "application/vnd.google.colaboratory.intrinsic+json": {
              "type": "string"
            }
          },
          "metadata": {},
          "execution_count": 5
        }
      ]
    },
    {
      "cell_type": "code",
      "source": [
        "#Binary representative is the equivalent of a ordinal value\n",
        "bin(65)"
      ],
      "metadata": {
        "colab": {
          "base_uri": "https://localhost:8080/",
          "height": 37
        },
        "id": "jICLXU0i4uwy",
        "outputId": "cb015dea-8139-4b29-eeda-30f94c9d6b85"
      },
      "execution_count": null,
      "outputs": [
        {
          "output_type": "execute_result",
          "data": {
            "text/plain": [
              "'0b1000001'"
            ],
            "application/vnd.google.colaboratory.intrinsic+json": {
              "type": "string"
            }
          },
          "metadata": {},
          "execution_count": 7
        }
      ]
    },
    {
      "cell_type": "code",
      "source": [
        "#The conversion used below is the Ordinal Value Function. This gives the number that represents a character.\n",
        "print('The ordinal value of A is:')\n",
        "print(ord('A'))\n",
        "#The conversion used below is the Characteristic Function. This gives the character that represents a number.\n",
        "print('The char value of 65 is:')\n",
        "print(chr(65))\n",
        "#The conversion used below is the Binary Representation Function. This gives the binary equivalent of the ordinal value of a character.\n",
        "print('The binary value of A is:')\n",
        "print(bin(65))\n"
      ],
      "metadata": {
        "colab": {
          "base_uri": "https://localhost:8080/"
        },
        "id": "sbHkuuHy5Qz3",
        "outputId": "a6885736-fd89-4f2c-979f-c0bebb70ab51"
      },
      "execution_count": null,
      "outputs": [
        {
          "output_type": "stream",
          "name": "stdout",
          "text": [
            "The ordinal value of A is:\n",
            "65\n",
            "The char value of 65 is:\n",
            "A\n",
            "The binary value of A is:\n",
            "0b1000001\n"
          ]
        }
      ]
    }
  ]
}