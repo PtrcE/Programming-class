{
  "nbformat": 4,
  "nbformat_minor": 0,
  "metadata": {
    "colab": {
      "provenance": [],
      "authorship_tag": "ABX9TyPyJsaeAUNE9hRDb/gBQ7pc",
      "include_colab_link": true
    },
    "kernelspec": {
      "name": "python3",
      "display_name": "Python 3"
    },
    "language_info": {
      "name": "python"
    }
  },
  "cells": [
    {
      "cell_type": "markdown",
      "metadata": {
        "id": "view-in-github",
        "colab_type": "text"
      },
      "source": [
        "<a href=\"https://colab.research.google.com/github/PtrcE/Programming-class/blob/main/Class%20Work/Oct_20.ipynb\" target=\"_parent\"><img src=\"https://colab.research.google.com/assets/colab-badge.svg\" alt=\"Open In Colab\"/></a>"
      ]
    },
    {
      "cell_type": "code",
      "execution_count": null,
      "metadata": {
        "id": "uFd5zp461A35",
        "colab": {
          "base_uri": "https://localhost:8080/"
        },
        "outputId": "c76cd8d4-e7b4-49fe-f231-e7f810dce9ff"
      },
      "outputs": [
        {
          "output_type": "stream",
          "name": "stdout",
          "text": [
            "Enter number: 5\n",
            "5 is Positive\n"
          ]
        }
      ],
      "source": [
        "#To check if value is positive\n",
        "number=int(input(\"Enter number: \"))\n",
        "\n",
        "if number >=0:\n",
        "  print(number, 'is Positive')"
      ]
    },
    {
      "cell_type": "code",
      "source": [
        "#To check y is greater than x\n",
        "x=int(input(\"Enter first value : \"))\n",
        "y=int(input(\"Enter second value : \"))\n",
        "if x<y:\n",
        "  print('Value is smaller than', y)"
      ],
      "metadata": {
        "colab": {
          "base_uri": "https://localhost:8080/"
        },
        "id": "GoTuqA1Z2bJz",
        "outputId": "05df83a6-9b86-4ef7-a21e-24296e69879b"
      },
      "execution_count": null,
      "outputs": [
        {
          "output_type": "stream",
          "name": "stdout",
          "text": [
            "Enter first value : 5\n",
            "Enter second value : 6\n",
            "Value is smaller than 6\n"
          ]
        }
      ]
    },
    {
      "cell_type": "code",
      "source": [
        "#Chapter 4"
      ],
      "metadata": {
        "id": "dcZOo2BY4SX0"
      },
      "execution_count": null,
      "outputs": []
    },
    {
      "cell_type": "code",
      "source": [
        "\n",
        "alien_color=str(input(\"Color of Alien:\"))\n",
        "\n",
        "if alien_color =='green':\n",
        "  print('You earned 5 points')\n",
        "if alien_color =='yellow':\n",
        "  print('You earned 5 points')\n",
        "if alien_color =='red':\n",
        "  print('You earned 5 points')\n"
      ],
      "metadata": {
        "colab": {
          "base_uri": "https://localhost:8080/"
        },
        "id": "bZNm8dOs5B7g",
        "outputId": "34447c57-1d07-4228-bf06-a14b2d53a71f"
      },
      "execution_count": null,
      "outputs": [
        {
          "output_type": "stream",
          "name": "stdout",
          "text": [
            "Color of Alien:red\n",
            "You earned 5 points\n"
          ]
        }
      ]
    },
    {
      "cell_type": "code",
      "source": [
        "#Chapter 4 - 1\n",
        "alien_color='green'\n",
        "if alien_color =='green':\n",
        "  print('You earned 5 points')\n",
        "alien_color='yellow'\n",
        "if alien_color =='green':\n",
        "  print('You earned 5 points')\n",
        "alien_color='red'\n",
        "if alien_color =='green':\n",
        "  print('You earned 5 points')\n"
      ],
      "metadata": {
        "colab": {
          "base_uri": "https://localhost:8080/"
        },
        "id": "iiW6telE6dZ5",
        "outputId": "be73372f-f7b9-4cd8-a4eb-e8c374d9f811"
      },
      "execution_count": null,
      "outputs": [
        {
          "output_type": "stream",
          "name": "stdout",
          "text": [
            "You earned 5 points\n"
          ]
        }
      ]
    },
    {
      "cell_type": "code",
      "source": [
        "#will indicated if x is greater or less than y\n",
        "x=int(input(\"Enter value:\"))\n",
        "y=int(input(\"Enter value:\"))\n",
        "if x<y:\n",
        "  print(x,'is smaller than',y)\n",
        "else:\n",
        "  print(x,'is greater than',y)\n"
      ],
      "metadata": {
        "colab": {
          "base_uri": "https://localhost:8080/"
        },
        "id": "u6JSEKsC7TeP",
        "outputId": "a7f2c1f0-03fb-40bb-a0e2-58b771e23eb5"
      },
      "execution_count": null,
      "outputs": [
        {
          "output_type": "stream",
          "name": "stdout",
          "text": [
            "Enter value:5\n",
            "Enter value:10\n",
            "5 is smaller than 10\n"
          ]
        }
      ]
    },
    {
      "cell_type": "code",
      "source": [
        "#Chapter 4 - 2\n",
        "alien_color=str(input(\"What alien color did you shoot?: \"))\n",
        "\n",
        "if alien_color=='green':\n",
        "  print('You earned 5 points')\n",
        "else:\n",
        "  print('You earned 10 points')"
      ],
      "metadata": {
        "colab": {
          "base_uri": "https://localhost:8080/"
        },
        "id": "smTRNJt29F81",
        "outputId": "152aa723-d8f5-45af-9e38-79e1279ac48d"
      },
      "execution_count": null,
      "outputs": [
        {
          "output_type": "stream",
          "name": "stdout",
          "text": [
            "What alien color did you shoot?: Blue\n",
            "You earned 10 points\n"
          ]
        }
      ]
    },
    {
      "cell_type": "code",
      "source": [
        "x=int(input(\"Enter value:\"))\n",
        "y=int(input(\"Enter value:\"))\n",
        "if x<y:\n",
        "  print(x,'is smaller than',y)\n",
        "elif x>y:\n",
        "  print(y,'is smaller than',x)\n",
        "else:\n",
        "  print('Both numbers is equal')\n",
        "\n"
      ],
      "metadata": {
        "colab": {
          "base_uri": "https://localhost:8080/"
        },
        "id": "G2tJdiO8_eX4",
        "outputId": "bfb8b033-434b-42e4-ce6f-207005f728c2"
      },
      "execution_count": null,
      "outputs": [
        {
          "output_type": "stream",
          "name": "stdout",
          "text": [
            "Enter value:6\n",
            "Enter value:7\n",
            "6 is smaller than 7\n"
          ]
        }
      ]
    },
    {
      "cell_type": "code",
      "source": [
        "#Chapter 4 - 3\n",
        "alien_color=str(input(\"Choose which colored alien did you shoot (Green, Yellow or Red):\"))\n",
        "if alien_color=='green':\n",
        "  print('You earned 5 points')\n",
        "elif alien_color=='yellow':\n",
        "  print('You earned 10 points')\n",
        "elif alien_color=='red':\n",
        "  print('You earned 15 point')\n",
        "else:\n",
        "  print('You earned 0 points')\n"
      ],
      "metadata": {
        "colab": {
          "base_uri": "https://localhost:8080/"
        },
        "id": "1Xuo_e9MA8aK",
        "outputId": "e32b6fe7-3d65-4a23-cff4-b96ecfd629bf"
      },
      "execution_count": null,
      "outputs": [
        {
          "output_type": "stream",
          "name": "stdout",
          "text": [
            "Choose which colored alien did you shoot (Green, Yellow or Red):blue\n",
            "You earned 0 points\n"
          ]
        }
      ]
    },
    {
      "cell_type": "code",
      "source": [
        "country=str(input('Select a country US/Australia:'))\n",
        "print('Your selected country:',country)\n",
        "shipment=int(input('Enter number of shipments: '))\n",
        "print('Your confirmed number of shipments:',shipment)\n",
        "\n",
        "if country==\"US\":\n",
        "  if shipment<=50:\n",
        "    print('Shipping cost is $50')\n",
        "  elif shipment>50:\n",
        "    print('Shipment cost is $25')\n",
        "  else: \n",
        "     print('Not eligible for shipping')\n",
        "\n",
        "if country==\"Australia\":\n",
        "  if shipment<=150:\n",
        "    print('Shipment cost is $100')\n",
        "  elif shipment>150:\n",
        "    print('Shipment cost is $100')\n",
        "else:\n",
        "    print('Not eligible for shipping')\n",
        "\n",
        "else:\n",
        "  print('Unfortunately, we do not ship to that country')"
      ],
      "metadata": {
        "colab": {
          "base_uri": "https://localhost:8080/"
        },
        "id": "a7GLDLnuA2dQ",
        "outputId": "00ea3a12-cd08-4eba-a1b1-4e8d2c32ec6e"
      },
      "execution_count": null,
      "outputs": [
        {
          "output_type": "stream",
          "name": "stdout",
          "text": [
            "Select a country US/Australia:US\n",
            "Your selected country: US\n",
            "Enter number of shipments: 20\n",
            "Your confirmed number of shipments: 20\n",
            "Shipping cost is $50\n",
            "Unfortunately, we do not ship to that country\n"
          ]
        }
      ]
    },
    {
      "cell_type": "code",
      "source": [
        "#List function\n",
        "flowers = ['tulips', 'rose', 'sunflower'] \n",
        "\n",
        "print(flowers) \n",
        "\n",
        "print(flowers[0])\n",
        "\n",
        "flowers[0] = 'lily' \n",
        "\n",
        "flowers.append('orchid') \n",
        "\n",
        "flowers.insert(0, 'dandelion') \n",
        "flowers.insert(1, 'white flower')\n",
        "\n",
        "popped = flowers.pop() \n",
        "print(popped) \n",
        "popped_flowers = flowers.pop() \n",
        "print(flowers) \n",
        "\n",
        "flowers.remove('lily') \n",
        "flowers.sort() \n",
        "flowers.sort(reverse=True) \n",
        "\n",
        "sorted(flowers) \n",
        "sorted(flowers, reverse=True) \n",
        "flowers.reverse() \n",
        "print(len(flowers)) \n",
        " \n"
      ],
      "metadata": {
        "colab": {
          "base_uri": "https://localhost:8080/"
        },
        "id": "a5F76XuyN_xi",
        "outputId": "9f8657be-7a63-48f8-adcd-3d151c52fdbb"
      },
      "execution_count": null,
      "outputs": [
        {
          "output_type": "stream",
          "name": "stdout",
          "text": [
            "['tulips', 'rose', 'sunflower']\n",
            "tulips\n",
            "orchid\n",
            "['dandelion', 'white flower', 'lily', 'rose']\n",
            "3\n"
          ]
        }
      ]
    }
  ]
}