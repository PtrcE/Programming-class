{
  "nbformat": 4,
  "nbformat_minor": 0,
  "metadata": {
    "colab": {
      "provenance": [],
      "authorship_tag": "ABX9TyM5nCVVJbWppKpTVaY7qjCG",
      "include_colab_link": true
    },
    "kernelspec": {
      "name": "python3",
      "display_name": "Python 3"
    },
    "language_info": {
      "name": "python"
    }
  },
  "cells": [
    {
      "cell_type": "markdown",
      "metadata": {
        "id": "view-in-github",
        "colab_type": "text"
      },
      "source": [
        "<a href=\"https://colab.research.google.com/github/PtrcE/Programming-class/blob/main/Class%20Work/September_29.ipynb\" target=\"_parent\"><img src=\"https://colab.research.google.com/assets/colab-badge.svg\" alt=\"Open In Colab\"/></a>"
      ]
    },
    {
      "cell_type": "code",
      "execution_count": null,
      "metadata": {
        "colab": {
          "base_uri": "https://localhost:8080/"
        },
        "id": "6vGlXt2nsEXX",
        "outputId": "3045f552-8c19-42e4-db9f-58209ae7f3b1"
      },
      "outputs": [
        {
          "output_type": "stream",
          "name": "stdout",
          "text": [
            "Hey diddle diddle,\n",
            "The cat and the fiddle,\n",
            "The cow jumped over the moon\n",
            "The little dog laughed to see such sport,\n",
            "And the dish ran away with the spoon.\n"
          ]
        }
      ],
      "source": [
        "print(\"Hey diddle diddle,\")\n",
        "print(\"The cat and the fiddle,\")\n",
        "print(\"The cow jumped over the moon\")\n",
        "print(\"The little dog laughed to see such sport,\")\n",
        "print(\"And the dish ran away with the spoon.\")"
      ]
    },
    {
      "cell_type": "code",
      "source": [
        "import sys\n",
        "print(\"Python version\")\n",
        "print(sys.version)\n",
        "\n",
        "print(\"Version info.\")\n",
        "print (sys.version_info)\n"
      ],
      "metadata": {
        "colab": {
          "base_uri": "https://localhost:8080/"
        },
        "id": "2hfP45ywzynW",
        "outputId": "d7b4cf8a-008f-46e4-e8d7-77d8a750fc6c"
      },
      "execution_count": null,
      "outputs": [
        {
          "output_type": "stream",
          "name": "stdout",
          "text": [
            "Python version\n",
            "3.7.14 (default, Sep  8 2022, 00:06:44) \n",
            "[GCC 7.5.0]\n",
            "Version info.\n",
            "sys.version_info(major=3, minor=7, micro=14, releaselevel='final', serial=0)\n"
          ]
        }
      ]
    },
    {
      "cell_type": "code",
      "source": [
        "from platform import python_version\n",
        "print(python_version())"
      ],
      "metadata": {
        "colab": {
          "base_uri": "https://localhost:8080/"
        },
        "id": "BQaBs9T-0-f4",
        "outputId": "1f01ddec-ed7e-4f17-b8f2-4b002b533019"
      },
      "execution_count": null,
      "outputs": [
        {
          "output_type": "stream",
          "name": "stdout",
          "text": [
            "3.7.14\n"
          ]
        }
      ]
    },
    {
      "cell_type": "code",
      "source": [
        "from datetime import date \n",
        "today = date.today()\n",
        "print(\"Today's Date:\",today)"
      ],
      "metadata": {
        "colab": {
          "base_uri": "https://localhost:8080/"
        },
        "id": "Xqt0viTh1SYu",
        "outputId": "613c6248-e77a-43e5-fa2b-e6318718ff3f"
      },
      "execution_count": null,
      "outputs": [
        {
          "output_type": "stream",
          "name": "stdout",
          "text": [
            "Today's Date: 2022-09-29\n"
          ]
        }
      ]
    },
    {
      "cell_type": "code",
      "source": [
        "from datetime import date\n",
        "\n",
        "today = date.today()\n",
        "\n",
        "# dd/mm/YY\n",
        "d1 = today.strftime(\"%d/%m/%Y\")\n",
        "print(\"d1=\", d1)\n",
        "\n",
        "# Textual month, day and year\n",
        "d2 = today.strftime(\"%B %d, %Y\")\n",
        "print(\"d2=\", d2)\n",
        "\n",
        "# mm/dd/y\n",
        "d3 = today.strftime(\"%m/%d/%y\")\n",
        "print(\"d3 =\",d3)\n",
        "\n",
        "#month abbreviation, day and year \n",
        "d4 = today.strftime(\"%b-%d-%Y\")\n",
        "print(\"d4 =\", d4)\n"
      ],
      "metadata": {
        "colab": {
          "base_uri": "https://localhost:8080/"
        },
        "id": "aqdElr-I0BrF",
        "outputId": "1598dfce-a4e1-44c1-f2e1-ff0bfbef78b5"
      },
      "execution_count": null,
      "outputs": [
        {
          "output_type": "stream",
          "name": "stdout",
          "text": [
            "d1= 29/09/2022\n",
            "d2= September 29, 2022\n",
            "d3 = 09/29/22\n",
            "d4 = Sep-29-2022\n"
          ]
        }
      ]
    },
    {
      "cell_type": "code",
      "source": [
        "from datetime import datetime\n",
        "\n",
        "# datetime object containing current date and time\n",
        "now = datetime.now()\n",
        "\n",
        "print(\"now=\", now)\n",
        "\n",
        "#dd/mm/YY H:M:S\n",
        "dt_string = now.strftime(\"%d/%m/%Y %H:%M:%S\")\n",
        "print(\"date and time =\", dt_string)"
      ],
      "metadata": {
        "colab": {
          "base_uri": "https://localhost:8080/"
        },
        "id": "6OXo6anZ45Cz",
        "outputId": "a646ebf6-3092-43e4-fadf-31a1eb760fec"
      },
      "execution_count": null,
      "outputs": [
        {
          "output_type": "stream",
          "name": "stdout",
          "text": [
            "now= 2022-09-29 15:38:29.281060\n",
            "date and time = 29/09/2022 15:38:29\n"
          ]
        }
      ]
    },
    {
      "cell_type": "code",
      "source": [
        "#initialising variable directly\n",
        "\n",
        "a = 5\n",
        "\n",
        "print(a) #print direct value\n",
        "\n",
        "#printing value of a with text\n",
        "\n",
        "print (\"The value of a is; \" + str(a))"
      ],
      "metadata": {
        "colab": {
          "base_uri": "https://localhost:8080/"
        },
        "id": "HnsYU9pUBBme",
        "outputId": "5be265dc-9e98-472c-f918-26b34c7de33f"
      },
      "execution_count": null,
      "outputs": [
        {
          "output_type": "stream",
          "name": "stdout",
          "text": [
            "5\n",
            "The value of a is; 5\n"
          ]
        }
      ]
    },
    {
      "cell_type": "code",
      "source": [
        "a, b = 100, 200\n",
        "print(a)\n",
        "print(b)"
      ],
      "metadata": {
        "colab": {
          "base_uri": "https://localhost:8080/"
        },
        "id": "C1MmnNTVBB14",
        "outputId": "39dba340-ec21-4c52-e419-89abc786d1d5"
      },
      "execution_count": null,
      "outputs": [
        {
          "output_type": "stream",
          "name": "stdout",
          "text": [
            "100\n",
            "200\n"
          ]
        }
      ]
    },
    {
      "cell_type": "code",
      "source": [
        "a, b = (\"What's\"), (\"up?\")\n",
        "print(a)\n",
        "print(b)"
      ],
      "metadata": {
        "colab": {
          "base_uri": "https://localhost:8080/"
        },
        "id": "-JVKTEshBB8v",
        "outputId": "f58dce2d-b691-4817-a242-50879b0a596d"
      },
      "execution_count": null,
      "outputs": [
        {
          "output_type": "stream",
          "name": "stdout",
          "text": [
            "What's\n",
            "up?\n"
          ]
        }
      ]
    },
    {
      "cell_type": "code",
      "source": [
        "name = input(\"Enter a name: \")\n",
        "print(name)"
      ],
      "metadata": {
        "colab": {
          "base_uri": "https://localhost:8080/"
        },
        "id": "gJl1gO0GBRQC",
        "outputId": "d2050377-f4e3-4f53-be93-d9cb2792fd58"
      },
      "execution_count": null,
      "outputs": [
        {
          "output_type": "stream",
          "name": "stdout",
          "text": [
            "Enter a name: Patricia Enriquez\n",
            "Patricia Enriquez\n"
          ]
        }
      ]
    },
    {
      "cell_type": "code",
      "source": [
        "MAX_CONNECTIONS = 500\n",
        "PI = 3.14159"
      ],
      "metadata": {
        "id": "nE1C_vcNBRHb"
      },
      "execution_count": null,
      "outputs": []
    },
    {
      "cell_type": "code",
      "source": [
        "pi = 3.14159\n",
        "r = float(input (\"Input the radius of the circle: \"))\n",
        "print(\"The area of the circle with radius of the circle \" +str(r) + \" is: \" + str(pi * r**2))"
      ],
      "metadata": {
        "colab": {
          "base_uri": "https://localhost:8080/"
        },
        "id": "vAZ_dvUDBRUW",
        "outputId": "98525fe7-adc2-495d-8961-de8f3aa4fdca"
      },
      "execution_count": null,
      "outputs": [
        {
          "output_type": "stream",
          "name": "stdout",
          "text": [
            "Input the radius of the circle: 10\n",
            "The area of the circle with radius of the circle 10.0 is: 314.159\n"
          ]
        }
      ]
    },
    {
      "cell_type": "code",
      "source": [
        "length = int(input(\"Enter the length: \"))\n",
        "print(length)\n",
        "\n",
        "width = int(input(\"Enter the width: \"))\n",
        "print(width)\n",
        "\n",
        "area = length*width\n",
        "perimeter = 2*(length*width)\n",
        "print(\"Area of Rectangle:\", area)\n",
        "print(\"Perimeter of Rectangle:\", perimeter)"
      ],
      "metadata": {
        "colab": {
          "base_uri": "https://localhost:8080/"
        },
        "id": "crVTe2ftBYS3",
        "outputId": "6ad9f1a8-9f67-41dd-8094-f2d27d13468a"
      },
      "execution_count": null,
      "outputs": [
        {
          "output_type": "stream",
          "name": "stdout",
          "text": [
            "Enter the length: 5\n",
            "5\n",
            "Enter the width: 2\n",
            "2\n",
            "Area of Rectangle: 10\n",
            "Perimeter of Rectangle: 20\n"
          ]
        }
      ]
    }
  ]
}