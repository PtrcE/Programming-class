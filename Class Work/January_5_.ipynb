{
  "nbformat": 4,
  "nbformat_minor": 0,
  "metadata": {
    "colab": {
      "provenance": [],
      "authorship_tag": "ABX9TyNR6OXp8MiwZiA0VmiWEMCp",
      "include_colab_link": true
    },
    "kernelspec": {
      "name": "python3",
      "display_name": "Python 3"
    },
    "language_info": {
      "name": "python"
    }
  },
  "cells": [
    {
      "cell_type": "markdown",
      "metadata": {
        "id": "view-in-github",
        "colab_type": "text"
      },
      "source": [
        "<a href=\"https://colab.research.google.com/github/PtrcE/Programming-class/blob/main/Class%20Work/January_5_.ipynb\" target=\"_parent\"><img src=\"https://colab.research.google.com/assets/colab-badge.svg\" alt=\"Open In Colab\"/></a>"
      ]
    },
    {
      "cell_type": "markdown",
      "source": [
        "SESSION 15"
      ],
      "metadata": {
        "id": "3S7s-uN7gJrq"
      }
    },
    {
      "cell_type": "code",
      "execution_count": null,
      "metadata": {
        "colab": {
          "base_uri": "https://localhost:8080/"
        },
        "id": "dIp8sNeXfylD",
        "outputId": "413b41cf-831f-490e-b76d-2e0ff69b3137"
      },
      "outputs": [
        {
          "output_type": "stream",
          "name": "stdout",
          "text": [
            "Square root of  1 = 1\n",
            "Square root of  2 = 4\n",
            "Square root of  3 = 9\n",
            "Square root of  4 = 16\n",
            "Square root of  5 = 25\n",
            "Square root of  6 = 36\n",
            "Square root of  7 = 49\n",
            "Square root of  8 = 64\n",
            "Square root of  9 = 81\n",
            "Square root of  10 = 100\n"
          ]
        }
      ],
      "source": [
        "#Funtions\n",
        "def square_root(num):\n",
        "    return num*num\n",
        "\n",
        "for i in range(1,11):\n",
        "  #function call\n",
        "    result= square_root(i)\n",
        "    print(\"Square root of \",i, \"=\", result)\n"
      ]
    },
    {
      "cell_type": "code",
      "source": [
        "#lstrip\n",
        "message = '      Im Patricia'\n",
        "\n",
        "#removes spaces on the left \n",
        "print('Message:', message.lstrip())"
      ],
      "metadata": {
        "colab": {
          "base_uri": "https://localhost:8080/"
        },
        "id": "dJWZGRv-hxbv",
        "outputId": "50afa7ba-2cf8-43f3-f6df-4e6b06c9d6cb"
      },
      "execution_count": null,
      "outputs": [
        {
          "output_type": "stream",
          "name": "stdout",
          "text": [
            "Message: Im Patricia\n"
          ]
        }
      ]
    },
    {
      "cell_type": "code",
      "source": [
        "#rstrip\n",
        "message = 'Im Patricia    '\n",
        "\n",
        "#removes spaces on the right\n",
        "print('Message:', message.lstrip())"
      ],
      "metadata": {
        "colab": {
          "base_uri": "https://localhost:8080/"
        },
        "id": "GvO6pI6piFjP",
        "outputId": "d4fdffc0-631b-4eb7-9328-febb88d743b7"
      },
      "execution_count": null,
      "outputs": [
        {
          "output_type": "stream",
          "name": "stdout",
          "text": [
            "Message: Im Patricia    \n"
          ]
        }
      ]
    },
    {
      "cell_type": "code",
      "source": [
        "#strip\n",
        "message = '    Im Patricia   '\n",
        "\n",
        "# remove all whitespaces\n",
        "print('Message:', message.strip())"
      ],
      "metadata": {
        "colab": {
          "base_uri": "https://localhost:8080/"
        },
        "id": "FLGqfwA8hGK8",
        "outputId": "5eeaa1c5-8f62-49e2-a056-07b3088936e8"
      },
      "execution_count": null,
      "outputs": [
        {
          "output_type": "stream",
          "name": "stdout",
          "text": [
            "Message: Im Patricia\n"
          ]
        }
      ]
    },
    {
      "cell_type": "code",
      "source": [
        "#If-else \n",
        "\n",
        "alphabet= input(\"Enter a character: \")\n",
        "\n",
        "if(alphabet=='A' or alphabet=='a' or alphabet=='E' or alphabet =='e' or alphabet=='I'\n",
        " or alphabet=='i' or alphabet=='O' or alphabet=='o' or alphabet=='U' or alphabet=='u'):\n",
        "    print(alphabet, \"is a Vowel\")\n",
        "else:\n",
        "    print(alphabet, \"is a Consonant\")"
      ],
      "metadata": {
        "colab": {
          "base_uri": "https://localhost:8080/"
        },
        "id": "vNf6V5C-iUFd",
        "outputId": "3eb548c1-2424-4056-8a68-e8732567e7d4"
      },
      "execution_count": null,
      "outputs": [
        {
          "output_type": "stream",
          "name": "stdout",
          "text": [
            "Enter a character: A\n",
            "A is a Vowel\n"
          ]
        }
      ]
    },
    {
      "cell_type": "code",
      "source": [
        "#if-elif-else\n",
        "\n",
        "num1 = (int(input('Please put your 1st number: ')))\n",
        "num2 = (int(input('Please put your 2nd number: ')))\n",
        "\n",
        "if num1 > num2:\n",
        "  print('The smaller number is', num2)\n",
        "elif num1 < num2:\n",
        "  print('The smaller number is', num1)\n",
        "else:\n",
        "  print('Both numbers are equal.')"
      ],
      "metadata": {
        "colab": {
          "base_uri": "https://localhost:8080/"
        },
        "id": "1TfGIdGhjEgx",
        "outputId": "65f1ff8c-8225-4e80-a00c-2d556405783b"
      },
      "execution_count": null,
      "outputs": [
        {
          "output_type": "stream",
          "name": "stdout",
          "text": [
            "Please put your 1st number: 3\n",
            "Please put your 2nd number: 6\n",
            "The smaller number is 3\n"
          ]
        }
      ]
    },
    {
      "cell_type": "code",
      "source": [
        "#list type data + for loop\n",
        "\n",
        "sweets = [\"Kit-Kat\", \"Ice cream\", \"Bubble Gum\", \"Gummy Bear\"]\n",
        " \n",
        "for s in sweets:\n",
        "  print(s)"
      ],
      "metadata": {
        "colab": {
          "base_uri": "https://localhost:8080/"
        },
        "id": "UNTdvjBYk8nb",
        "outputId": "87f4d136-6a1f-479d-fe01-b7720b10cfc5"
      },
      "execution_count": null,
      "outputs": [
        {
          "output_type": "stream",
          "name": "stdout",
          "text": [
            "Kit-Kat\n",
            "Ice cream\n",
            "Bubble Gum\n",
            "Gummy Bear\n"
          ]
        }
      ]
    },
    {
      "cell_type": "code",
      "source": [
        "#dictionary\n",
        "student= {'Name': 'Patricia', 'ID': 8, 'Course': 'Creative Computing'}\n",
        "print('Display key-value pairs')\n",
        "for key, value in student.items():\n",
        "  print(f\"\\nKey:{key}\")\n",
        "  print(f\"Value:{value}\")\n",
        "\n",
        "student['gender']='Female'\n",
        "print(student)"
      ],
      "metadata": {
        "colab": {
          "base_uri": "https://localhost:8080/"
        },
        "id": "-TIrilQomCvz",
        "outputId": "e6929a22-32e1-4d5d-f15a-5c6d7e270fed"
      },
      "execution_count": null,
      "outputs": [
        {
          "output_type": "stream",
          "name": "stdout",
          "text": [
            "Display key-value pairs\n",
            "\n",
            "Key:Name\n",
            "Value:Patricia\n",
            "\n",
            "Key:ID\n",
            "Value:8\n",
            "\n",
            "Key:Course\n",
            "Value:Creative Computing\n",
            "{'Name': 'Patricia', 'ID': 8, 'Course': 'Creative Computing', 'gender': 'Female'}\n"
          ]
        }
      ]
    },
    {
      "cell_type": "code",
      "source": [
        "#tuples \n",
        "leap_year=(2000,2004,2008,2012)\n",
        "non_leap_year=(2001,2005,2009,2013)\n",
        "\n",
        "\n",
        "print('The 4 previous leap years:',leap_year[0:5])\n",
        "print('The following 4 non leap years:',non_leap_year[0:5])\n",
        "print('\\n')\n",
        "\n",
        "#concatenate\n",
        "print('Few list of of leap years and non leap years are: \\n',leap_year+non_leap_year)\n",
        "print('\\n')\n",
        "\n",
        "#repeating the lists by using * function\n",
        "print(leap_year*3)\n",
        "print('\\n')\n",
        "\n",
        "#comparing the tuples\n",
        "print(leap_year==non_leap_year)\n",
        "print('\\n')\n",
        "\n",
        "#length of each tuple\n",
        "print(len(leap_year))\n",
        "print(len(non_leap_year))\n",
        "print('\\n')\n",
        "\n",
        "#sum the elements\n",
        "print(sum(leap_year))\n",
        "print(sum(non_leap_year))\n",
        "print('\\n')\n",
        "\n",
        "#sorting the elements\n",
        "print(sorted(leap_year))\n",
        "print(sorted(non_leap_year))\n",
        "print('\\n')\n",
        "\n",
        "#swaping tuples\n",
        "leap_year,non_leap_year=non_leap_year,leap_year\n",
        "print('The previous non leap years: ',leap_year)\n",
        "print('The following leap years: ',non_leap_year)\n",
        "\n",
        "\n"
      ],
      "metadata": {
        "colab": {
          "base_uri": "https://localhost:8080/"
        },
        "id": "qHTwKp7Mmv6U",
        "outputId": "23817b75-2d8c-4fe4-aa9a-4fcafef9843c"
      },
      "execution_count": null,
      "outputs": [
        {
          "output_type": "stream",
          "name": "stdout",
          "text": [
            "The 4 previous leap years: (2000, 2004, 2008, 2012)\n",
            "The following 4 non leap years: (2001, 2005, 2009, 2013)\n",
            "\n",
            "\n",
            "Few list of of leap years and non leap years are: \n",
            " (2000, 2004, 2008, 2012, 2001, 2005, 2009, 2013)\n",
            "\n",
            "\n",
            "(2000, 2004, 2008, 2012, 2000, 2004, 2008, 2012, 2000, 2004, 2008, 2012)\n",
            "\n",
            "\n",
            "False\n",
            "\n",
            "\n",
            "4\n",
            "4\n",
            "\n",
            "\n",
            "8024\n",
            "8028\n",
            "\n",
            "\n",
            "[2000, 2004, 2008, 2012]\n",
            "[2001, 2005, 2009, 2013]\n",
            "\n",
            "\n",
            "The previous non leap years:  (2001, 2005, 2009, 2013)\n",
            "The following leap years:  (2000, 2004, 2008, 2012)\n"
          ]
        }
      ]
    },
    {
      "cell_type": "code",
      "source": [
        "#Nested for loop\n",
        "\n",
        "n=int(input('Enter the number of rows: '))\n",
        "i=1\n",
        "while i<=n:\n",
        "  j=1\n",
        "  while j<=i:\n",
        "    print((i*2-1),end=' ') #odd numbers\n",
        "    j=j+1\n",
        "  i=i+1\n",
        "  print()"
      ],
      "metadata": {
        "colab": {
          "base_uri": "https://localhost:8080/"
        },
        "id": "cbHGLAbTn10o",
        "outputId": "fe9c4b9b-4b35-4d55-abc2-752c6937c625"
      },
      "execution_count": null,
      "outputs": [
        {
          "output_type": "stream",
          "name": "stdout",
          "text": [
            "Enter the number of rows: 5\n",
            "1 \n",
            "3 3 \n",
            "5 5 5 \n",
            "7 7 7 7 \n",
            "9 9 9 9 9 \n"
          ]
        }
      ]
    },
    {
      "cell_type": "code",
      "source": [
        "#string + for loop\n",
        "\n",
        "count= 0\n",
        "\n",
        "string= \"Mississippi\"\n",
        "chr = \"s\"\n",
        "\n",
        "for i in string:\n",
        "  if i ==chr:\n",
        "    count +=1\n",
        "\n",
        "print(count)"
      ],
      "metadata": {
        "colab": {
          "base_uri": "https://localhost:8080/"
        },
        "id": "mifn0IiGoXGj",
        "outputId": "823d8637-9c4b-4c5e-e5bb-a601fa897e1b"
      },
      "execution_count": null,
      "outputs": [
        {
          "output_type": "stream",
          "name": "stdout",
          "text": [
            "4\n"
          ]
        }
      ]
    },
    {
      "cell_type": "code",
      "source": [
        "#array\n",
        "\n",
        "import numpy as np\n",
        "#create 0 dimensional array\n",
        "arr=np.array(50)\n",
        "print('Zero dimensional array:' ,arr)\n",
        "\n",
        "#creat 1 dimensional array\n",
        "arr1=np.array([10,20,30,40,50])\n",
        "print('One dimensional array:' ,arr1)\n",
        "\n",
        "#create 2 dimensional array\n",
        "arr2=np.array([[2,4,16],[3,9,81]])\n",
        "print('Two dimensional array: \\n', arr2)\n",
        "\n",
        "#create multi dimensional array\n",
        "arr3=np.array([[[1,1,1,1],[2,2,2,2]],[[3,3,3,3],[4,4,4,4]]])\n",
        "print('Multi dimensional array: \\n',arr3)"
      ],
      "metadata": {
        "colab": {
          "base_uri": "https://localhost:8080/"
        },
        "id": "norYzaV9o-bt",
        "outputId": "66ecbe06-1ce9-42e9-e131-4dfbb2d68035"
      },
      "execution_count": null,
      "outputs": [
        {
          "output_type": "stream",
          "name": "stdout",
          "text": [
            "Zero dimensional array: 50\n",
            "One dimensional array: [10 20 30 40 50]\n",
            "Two dimensional array: \n",
            " [[ 2  4 16]\n",
            " [ 3  9 81]]\n",
            "Multi dimensional array: \n",
            " [[[1 1 1 1]\n",
            "  [2 2 2 2]]\n",
            "\n",
            " [[3 3 3 3]\n",
            "  [4 4 4 4]]]\n"
          ]
        }
      ]
    },
    {
      "cell_type": "code",
      "source": [
        "\n",
        "\n",
        "!pip3 install ColabTurtle\n",
        "from ColabTurtle.Turtle import *\n"
      ],
      "metadata": {
        "colab": {
          "base_uri": "https://localhost:8080/"
        },
        "id": "oVM2S7WxpfFS",
        "outputId": "b8b1ee8b-b4a7-4053-d223-e6ecbbe93781"
      },
      "execution_count": null,
      "outputs": [
        {
          "output_type": "stream",
          "name": "stdout",
          "text": [
            "Looking in indexes: https://pypi.org/simple, https://us-python.pkg.dev/colab-wheels/public/simple/\n",
            "Collecting ColabTurtle\n",
            "  Downloading ColabTurtle-2.1.0.tar.gz (6.8 kB)\n",
            "  Preparing metadata (setup.py) ... \u001b[?25l\u001b[?25hdone\n",
            "Building wheels for collected packages: ColabTurtle\n",
            "  Building wheel for ColabTurtle (setup.py) ... \u001b[?25l\u001b[?25hdone\n",
            "  Created wheel for ColabTurtle: filename=ColabTurtle-2.1.0-py3-none-any.whl size=7656 sha256=0ec1ce09ee29f548d9ef47bd216b29dd5725d30e19516e3f64d7a87b0a8eac1d\n",
            "  Stored in directory: /root/.cache/pip/wheels/a9/85/dc/29b6b43c4c6c0fe37192ccad65fe2adcef1e52dd24b0eb61fc\n",
            "Successfully built ColabTurtle\n",
            "Installing collected packages: ColabTurtle\n",
            "Successfully installed ColabTurtle-2.1.0\n"
          ]
        }
      ]
    },
    {
      "cell_type": "code",
      "source": [
        "#turtle\n",
        "\n",
        "#color change in all sides \n",
        "import ColabTurtle.Turtle as t \n",
        "initializeTurtle()\n",
        "\n",
        "t.color('yellow')\n",
        "t.right(90)\n",
        "t.forward(100)\n",
        "t.color('red')\n",
        "t.left(90)\n",
        "t.backward(100)\n",
        "t.color('blue')\n",
        "t.left(90)\n",
        "t.forward(100)\n",
        "t.color('green')\n",
        "t.right(90)\n",
        "t.forward(100)"
      ],
      "metadata": {
        "colab": {
          "base_uri": "https://localhost:8080/",
          "height": 541
        },
        "id": "EF1bMHQwppWV",
        "outputId": "00cd63e4-2c77-4945-af9a-859c8324c01c"
      },
      "execution_count": null,
      "outputs": [
        {
          "output_type": "display_data",
          "data": {
            "text/plain": [
              "<IPython.core.display.HTML object>"
            ],
            "text/html": [
              "\n",
              "      <svg width=\"800\" height=\"500\">\n",
              "        <rect width=\"100%\" height=\"100%\" fill=\"black\"/>\n",
              "        <line x1=\"400\" y1=\"250\" x2=\"500.0\" y2=\"250.0\" stroke-linecap=\"round\" style=\"stroke:yellow;stroke-width:4\"/><line x1=\"500.0\" y1=\"250.0\" x2=\"500.0\" y2=\"350.0\" stroke-linecap=\"round\" style=\"stroke:red;stroke-width:4\"/><line x1=\"500.0\" y1=\"350.0\" x2=\"400.0\" y2=\"350.0\" stroke-linecap=\"round\" style=\"stroke:blue;stroke-width:4\"/><line x1=\"400.0\" y1=\"350.0\" x2=\"400.0\" y2=\"250.0\" stroke-linecap=\"round\" style=\"stroke:green;stroke-width:4\"/>\n",
              "        <g visibility=visible transform=\"rotate(360,400.0,250.0) translate(382.0, 232.0)\">\n",
              "<path style=\" stroke:none;fill-rule:evenodd;fill:green;fill-opacity:1;\" d=\"M 18.214844 0.632812 C 16.109375 1.800781 15.011719 4.074219 15.074219 7.132812 L 15.085938 7.652344 L 14.785156 7.496094 C 13.476562 6.824219 11.957031 6.671875 10.40625 7.066406 C 8.46875 7.550781 6.515625 9.15625 4.394531 11.992188 C 3.0625 13.777344 2.679688 14.636719 3.042969 15.027344 L 3.15625 15.152344 L 3.519531 15.152344 C 4.238281 15.152344 4.828125 14.886719 8.1875 13.039062 C 9.386719 12.378906 10.371094 11.839844 10.378906 11.839844 C 10.386719 11.839844 10.355469 11.929688 10.304688 12.035156 C 9.832031 13.09375 9.257812 14.820312 8.96875 16.078125 C 7.914062 20.652344 8.617188 24.53125 11.070312 27.660156 C 11.351562 28.015625 11.363281 27.914062 10.972656 28.382812 C 8.925781 30.84375 7.945312 33.28125 8.238281 35.1875 C 8.289062 35.527344 8.28125 35.523438 8.917969 35.523438 C 10.941406 35.523438 13.074219 34.207031 15.136719 31.6875 C 15.359375 31.417969 15.328125 31.425781 15.5625 31.574219 C 16.292969 32.042969 18.023438 32.964844 18.175781 32.964844 C 18.335938 32.964844 19.941406 32.210938 20.828125 31.71875 C 20.996094 31.625 21.136719 31.554688 21.136719 31.558594 C 21.203125 31.664062 21.898438 32.414062 22.222656 32.730469 C 23.835938 34.300781 25.5625 35.132812 27.582031 35.300781 C 27.90625 35.328125 27.9375 35.308594 28.007812 34.984375 C 28.382812 33.242188 27.625 30.925781 25.863281 28.425781 L 25.542969 27.96875 L 25.699219 27.785156 C 28.945312 23.960938 29.132812 18.699219 26.257812 11.96875 L 26.207031 11.84375 L 27.945312 12.703125 C 31.53125 14.476562 32.316406 14.800781 33.03125 14.800781 C 33.976562 14.800781 33.78125 13.9375 32.472656 12.292969 C 28.519531 7.355469 25.394531 5.925781 21.921875 7.472656 L 21.558594 7.636719 L 21.578125 7.542969 C 21.699219 6.992188 21.761719 5.742188 21.699219 5.164062 C 21.496094 3.296875 20.664062 1.964844 19.003906 0.855469 C 18.480469 0.503906 18.457031 0.5 18.214844 0.632812\"/>\n",
              "</g>\n",
              "      </svg>\n",
              "    "
            ]
          },
          "metadata": {}
        }
      ]
    },
    {
      "cell_type": "code",
      "source": [
        "#array + nested for loop\n",
        "\n",
        "import numpy as np\n",
        "\n",
        "num=[1,5,2,7,22,6,4,2]\n",
        "num.sort(reverse=True)\n",
        "\n",
        "print(\"Sorted in decending order:\",num)"
      ],
      "metadata": {
        "colab": {
          "base_uri": "https://localhost:8080/"
        },
        "id": "7pljDTRCpxUu",
        "outputId": "ff4889fc-1e51-433e-d5c3-470e2b0ed603"
      },
      "execution_count": null,
      "outputs": [
        {
          "output_type": "stream",
          "name": "stdout",
          "text": [
            "Sorted in decending order: [22, 7, 6, 5, 4, 2, 2, 1]\n"
          ]
        }
      ]
    }
  ]
}