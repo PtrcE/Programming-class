{
  "cells": [
    {
      "cell_type": "markdown",
      "metadata": {
        "id": "view-in-github",
        "colab_type": "text"
      },
      "source": [
        "<a href=\"https://colab.research.google.com/github/PtrcE/Programming-class/blob/main/Class%20Work/October_27.ipynb\" target=\"_parent\"><img src=\"https://colab.research.google.com/assets/colab-badge.svg\" alt=\"Open In Colab\"/></a>"
      ]
    },
    {
      "cell_type": "code",
      "execution_count": null,
      "metadata": {
        "colab": {
          "base_uri": "https://localhost:8080/"
        },
        "id": "2UlOemXQv89v",
        "outputId": "c75cd540-ba94-43cc-b723-8b672c7682a7"
      },
      "outputs": [
        {
          "name": "stdout",
          "output_type": "stream",
          "text": [
            "1\n",
            "2\n",
            "3\n",
            "4\n",
            "5\n",
            "6\n",
            "7\n",
            "8\n",
            "9\n",
            "10\n"
          ]
        }
      ],
      "source": [
        "#using while loop\n",
        "count = 1\n",
        "while count<=10:\n",
        "  print(count)\n",
        "  count=count+1"
      ]
    },
    {
      "cell_type": "code",
      "execution_count": null,
      "metadata": {
        "colab": {
          "base_uri": "https://localhost:8080/"
        },
        "id": "eOsOf6bGwB7_",
        "outputId": "f386088e-ad79-49db-f892-6fa1adcbcad9"
      },
      "outputs": [
        {
          "name": "stdout",
          "output_type": "stream",
          "text": [
            "1\n",
            "2\n",
            "3\n",
            "4\n",
            "5\n",
            "6\n",
            "7\n",
            "8\n",
            "9\n",
            "10\n"
          ]
        }
      ],
      "source": [
        "#using while loop\n",
        "count = 1\n",
        "while count<=10:\n",
        "  print(count)\n",
        "  count+=1"
      ]
    },
    {
      "cell_type": "code",
      "execution_count": null,
      "metadata": {
        "colab": {
          "background_save": true,
          "base_uri": "https://localhost:8080/"
        },
        "id": "bpFS_ruiwP11",
        "outputId": "6b761b5c-70c7-4dfa-b149-78adc85553f8"
      },
      "outputs": [
        {
          "name": "stdout",
          "output_type": "stream",
          "text": [
            "The city I would love to visit is Manila\n"
          ]
        }
      ],
      "source": [
        "city1='\\nPlease enter the cities you would love to visit. '\n",
        "city1+='\\nType quit if all are listed. '\n",
        "while True:\n",
        "  city=input(city1)\n",
        "\n",
        "  if city=='quit':\n",
        "    break\n",
        "  else:\n",
        "    print('The city I would love to visit is', city.title())"
      ]
    },
    {
      "cell_type": "code",
      "execution_count": null,
      "metadata": {
        "colab": {
          "base_uri": "https://localhost:8080/"
        },
        "id": "jX-NLKc4wUpC",
        "outputId": "d10e9f42-7af0-4b27-c970-65226b30869f"
      },
      "outputs": [
        {
          "name": "stdout",
          "output_type": "stream",
          "text": [
            "1\n",
            "3\n",
            "5\n",
            "7\n",
            "9\n",
            "Loop ends as value exceeds 10\n"
          ]
        }
      ],
      "source": [
        "#While loop- continue (odd numbers)\n",
        "count=0\n",
        "while count<10:\n",
        "  count+=1\n",
        "  if count%2==0:\n",
        "    continue\n",
        "  print(count)\n",
        "else:\n",
        "    print('Loop ends as value exceeds 10')"
      ]
    },
    {
      "cell_type": "code",
      "execution_count": null,
      "metadata": {
        "colab": {
          "base_uri": "https://localhost:8080/"
        },
        "id": "FBD40laJwbG7",
        "outputId": "4fdec747-44c5-40db-92c1-0507560c1bfa"
      },
      "outputs": [
        {
          "name": "stdout",
          "output_type": "stream",
          "text": [
            "2\n",
            "4\n",
            "6\n",
            "8\n",
            "10\n",
            "Loop ends as value exceeds 10\n"
          ]
        }
      ],
      "source": [
        "#While loop- continue (even numbers)\n",
        "count=0\n",
        "while count<10:\n",
        "  count+=2\n",
        "  if count%7==0:\n",
        "    continue\n",
        "  print(count)\n",
        "else:\n",
        "    print('Loop ends as value exceeds 10')\n"
      ]
    },
    {
      "cell_type": "code",
      "execution_count": null,
      "metadata": {
        "colab": {
          "base_uri": "https://localhost:8080/"
        },
        "id": "AN_bTdCnwe20",
        "outputId": "3fd81b9d-419f-4212-c315-cb699fb0f25f"
      },
      "outputs": [
        {
          "name": "stdout",
          "output_type": "stream",
          "text": [
            "Chips\n",
            "Biscuits\n",
            "Candy\n"
          ]
        }
      ],
      "source": [
        "snacks=('Chips','Biscuits','Candy')\n",
        "for snacks in snacks:\n",
        "  print(snacks)"
      ]
    },
    {
      "cell_type": "code",
      "execution_count": null,
      "metadata": {
        "colab": {
          "base_uri": "https://localhost:8080/"
        },
        "id": "Lq3O9ljtwiTR",
        "outputId": "bc396488-53b3-4c34-d0a4-8109c04660db"
      },
      "outputs": [
        {
          "name": "stdout",
          "output_type": "stream",
          "text": [
            "Display key-value pais\n",
            "\n",
            "Key:Name:\n",
            "Value:Patricia\n",
            "\n",
            "Display only keys\n",
            "Name:\n",
            "ID\n",
            "Course\n",
            "\n",
            "Display only values\n",
            "Patricia\n",
            "8\n",
            "Creative Computing\n",
            "\n",
            "Key:ID\n",
            "Value:8\n",
            "\n",
            "Display only keys\n",
            "Name:\n",
            "ID\n",
            "Course\n",
            "\n",
            "Display only values\n",
            "Patricia\n",
            "8\n",
            "Creative Computing\n",
            "\n",
            "Key:Course\n",
            "Value:Creative Computing\n",
            "\n",
            "Display only keys\n",
            "Name:\n",
            "ID\n",
            "Course\n",
            "\n",
            "Display only values\n",
            "Patricia\n",
            "8\n",
            "Creative Computing\n"
          ]
        }
      ],
      "source": [
        "#Dictationary\n",
        "student={'Name:': 'Patricia','ID': 8,'Course': 'Creative Computing'}\n",
        "print('Display key-value pais')\n",
        "for key, value in student.items():\n",
        "    print(f\"\\nKey:{key}\")\n",
        "    print(f\"Value:{value}\")\n",
        "\n",
        "    print('\\nDisplay only keys')\n",
        "    for key in student.keys():\n",
        "      print(key)\n",
        "\n",
        "    print('\\nDisplay only values')\n",
        "    for value in student.values():\n",
        "      print(value)\n",
        "\n",
        "    "
      ]
    },
    {
      "cell_type": "code",
      "execution_count": null,
      "metadata": {
        "colab": {
          "base_uri": "https://localhost:8080/"
        },
        "id": "jKrt7OvCwm7s",
        "outputId": "63ca3e98-078d-46ba-a27b-c9b74caab218"
      },
      "outputs": [
        {
          "name": "stdout",
          "output_type": "stream",
          "text": [
            "Display key-value pairs\n",
            "\n",
            "Key:Name\n",
            "Value:Patricia\n",
            "\n",
            "Key:ID\n",
            "Value:8\n",
            "\n",
            "Key:Course\n",
            "Value:Creative Computing\n",
            "{'Name': 'Patricia', 'ID': 8, 'Course': 'Creative Computing', 'gender': 'Female'}\n"
          ]
        }
      ],
      "source": [
        "student= {'Name': 'Patricia', 'ID': 8, 'Course': 'Creative Computing'}\n",
        "print('Display key-value pairs')\n",
        "for key, value in student.items():\n",
        "  print(f\"\\nKey:{key}\")\n",
        "  print(f\"Value:{value}\")\n",
        "\n",
        "student['gender']='Female'\n",
        "print(student)"
      ]
    },
    {
      "cell_type": "code",
      "execution_count": null,
      "metadata": {
        "colab": {
          "base_uri": "https://localhost:8080/"
        },
        "id": "4dAsi_qswpKg",
        "outputId": "5fa33e40-f589-4c4a-e1fe-ecb461c1939a"
      },
      "outputs": [
        {
          "name": "stdout",
          "output_type": "stream",
          "text": [
            "{'Name': 'Alpha', 'ID': '20', 'Course': 'Creative Computing'}\n",
            "{'Name': 'Beta', 'ID': '15', 'Course': 'Creative Computing'}\n",
            "{'Name': 'Gamma', 'ID': '10', 'Course': 'Creative Computing'}\n",
            "{'Name': 'Sigma', 'ID': '5', 'Course': 'Creative Computing'}\n"
          ]
        }
      ],
      "source": [
        "student1= {'Name': 'Alpha', 'ID' : '20', 'Course': 'Creative Computing'}\n",
        "student2= {'Name': 'Beta', 'ID' : '15', 'Course': 'Creative Computing'}\n",
        "student3= {'Name': 'Gamma', 'ID' : '10', 'Course': 'Creative Computing'}\n",
        "student4= {'Name': 'Sigma', 'ID' : '5', 'Course': 'Creative Computing'}\n",
        "student=[student1,student2,student3,student4]\n",
        "for std in student:\n",
        "  print(std)"
      ]
    },
    {
      "cell_type": "code",
      "execution_count": null,
      "metadata": {
        "colab": {
          "base_uri": "https://localhost:8080/"
        },
        "id": "JrQQl06Swwq4",
        "outputId": "798ed225-30f8-4463-caee-32232462fc6e"
      },
      "outputs": [
        {
          "name": "stdout",
          "output_type": "stream",
          "text": [
            "Your order Tuna sandwich is ready\n",
            "Your order Turkey sandwich is ready\n",
            "Your order Grilled cheese sandwich is ready\n",
            "Your order Beef sandwich is ready\n",
            "\n",
            "\n",
            "Sandwich Orders:\n",
            "Tuna Sandwich\n",
            "Turkey Sandwich\n",
            "Grilled cheese Sandwich\n",
            "Beef Sandwich\n"
          ]
        }
      ],
      "source": [
        "sandwich_orders= ['Beef','Grilled cheese','Turkey','Tuna']\n",
        "finished_sandwiches= []\n",
        "while sandwich_orders:\n",
        "  current_sandwich = sandwich_orders.pop()\n",
        "  print(\"Your order \" + current_sandwich + \" sandwich is ready\")\n",
        "  finished_sandwiches.append(current_sandwich)\n",
        "\n",
        "print(\"\\n\")\n",
        "print('Sandwich Orders:')\n",
        "for sandwich in finished_sandwiches:\n",
        "  print(sandwich,'Sandwich')\n"
      ]
    },
    {
      "cell_type": "code",
      "execution_count": null,
      "metadata": {
        "colab": {
          "base_uri": "https://localhost:8080/"
        },
        "id": "-iSggJExw3qN",
        "outputId": "7e5d166a-d807-496d-d966-49393cc840d8"
      },
      "outputs": [
        {
          "name": "stdout",
          "output_type": "stream",
          "text": [
            "Display river-country pairs:\n",
            "Nile River  runs through  Egypt\n",
            "Amazon River  runs through  Brazil\n",
            "Ebro River  runs through  Spain\n",
            "\n",
            "Display only River:\n",
            "Nile River\n",
            "Amazon River\n",
            "Ebro River\n",
            "\n",
            "Display only Country:\n",
            "Egypt\n",
            "Brazil\n",
            "Spain\n"
          ]
        }
      ],
      "source": [
        "#Chapter 5 - 4\n",
        "river_country = {'Nile River':'Egypt', 'Amazon River':'Brazil','Ebro River':'Spain'}\n",
        "print('Display river-country pairs:')\n",
        "for river, country in river_country.items():\n",
        " print(river, \" runs through \", country)\n",
        "\n",
        "print(\"\\nDisplay only River:\")\n",
        "for river in river_country.keys():\n",
        "  print(river) \n",
        "\n",
        "print(\"\\nDisplay only Country:\")\n",
        "for country in river_country.values():\n",
        "  print(country)"
      ]
    },
    {
      "cell_type": "code",
      "execution_count": null,
      "metadata": {
        "colab": {
          "base_uri": "https://localhost:8080/"
        },
        "id": "2ZsMY_ANw-F2",
        "outputId": "ab325ca9-b0af-4973-8f8f-524a0af59888"
      },
      "outputs": [
        {
          "name": "stdout",
          "output_type": "stream",
          "text": [
            "Hello!\n"
          ]
        }
      ],
      "source": [
        "#Function definition \n",
        "def greet_user():\n",
        "  print(\"Hello!\")\n",
        "greet_user()"
      ]
    },
    {
      "cell_type": "code",
      "execution_count": null,
      "metadata": {
        "colab": {
          "base_uri": "https://localhost:8080/"
        },
        "id": "-DxtkWwrxAH8",
        "outputId": "feff4c96-cd35-46fa-8863-cb0dbb8af246"
      },
      "outputs": [
        {
          "name": "stdout",
          "output_type": "stream",
          "text": [
            "Como estas?\n"
          ]
        }
      ],
      "source": [
        "def display_message():\n",
        "  print(\"Como estas?\")\n",
        "display_message()"
      ]
    },
    {
      "cell_type": "code",
      "execution_count": null,
      "metadata": {
        "colab": {
          "base_uri": "https://localhost:8080/"
        },
        "id": "QDn9TF82xAUn",
        "outputId": "1a405851-67a9-4da9-97c1-b1ccf419de0d"
      },
      "outputs": [
        {
          "name": "stdout",
          "output_type": "stream",
          "text": [
            "Hello, Patricia!\n"
          ]
        }
      ],
      "source": [
        "#Function def with parameter to Display a simple greeting\n",
        "def greet_user(username):\n",
        "  print(f\"Hello, {username.title()}!\")\n",
        "greet_user('Patricia')"
      ]
    },
    {
      "cell_type": "code",
      "execution_count": null,
      "metadata": {
        "colab": {
          "base_uri": "https://localhost:8080/"
        },
        "id": "RASUPcMpxNqk",
        "outputId": "98ee20d1-e2c7-43c5-f53f-6e74b58b499d"
      },
      "outputs": [
        {
          "name": "stdout",
          "output_type": "stream",
          "text": [
            "\n",
            " Student name is Patricia and ID is 10\n"
          ]
        }
      ],
      "source": [
        "#Function with two parameters\n",
        "def student(name,ID):\n",
        "  print(f\"\\n Student name is {name.title()} and ID is {ID}\")\n",
        "student(name= 'Patricia', ID = 10)\n"
      ]
    }
  ],
  "metadata": {
    "colab": {
      "provenance": [],
      "authorship_tag": "ABX9TyPgI+xXPb/ytCaDPhiWmozL",
      "include_colab_link": true
    },
    "kernelspec": {
      "display_name": "Python 3",
      "name": "python3"
    },
    "language_info": {
      "name": "python"
    }
  },
  "nbformat": 4,
  "nbformat_minor": 0
}