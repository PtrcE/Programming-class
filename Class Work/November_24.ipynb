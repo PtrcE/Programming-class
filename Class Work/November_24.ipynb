{
  "nbformat": 4,
  "nbformat_minor": 0,
  "metadata": {
    "colab": {
      "provenance": [],
      "authorship_tag": "ABX9TyPEEwBc3OuyUxwx5wai4UR4",
      "include_colab_link": true
    },
    "kernelspec": {
      "name": "python3",
      "display_name": "Python 3"
    },
    "language_info": {
      "name": "python"
    }
  },
  "cells": [
    {
      "cell_type": "markdown",
      "metadata": {
        "id": "view-in-github",
        "colab_type": "text"
      },
      "source": [
        "<a href=\"https://colab.research.google.com/github/PtrcE/Programming-class/blob/main/Class%20Work/November_24.ipynb\" target=\"_parent\"><img src=\"https://colab.research.google.com/assets/colab-badge.svg\" alt=\"Open In Colab\"/></a>"
      ]
    },
    {
      "cell_type": "code",
      "execution_count": null,
      "metadata": {
        "colab": {
          "base_uri": "https://localhost:8080/"
        },
        "id": "yyUKFWrdHW9M",
        "outputId": "f2782633-458a-4c54-e87b-436a849305f2"
      },
      "outputs": [
        {
          "output_type": "stream",
          "name": "stdout",
          "text": [
            "Enter number in Kilometers: 2\n",
            "2.0 Kilometer is 1.242742 in miles\n"
          ]
        }
      ],
      "source": [
        "#Exercise 1 \n",
        "\n",
        "#Taking kilometer value from user\n",
        "kilometer = float(input(\"Enter number in Kilometers: \"))\n",
        "\n",
        "#conversation rate km to mile\n",
        "conv =0.621371\n",
        "\n",
        "miles = kilometer*conv\n",
        "print(kilometer,'Kilometer is', miles,'in miles')\n"
      ]
    },
    {
      "cell_type": "code",
      "source": [
        "#Exercise 2\n",
        "\n",
        "celcius= float(input(\"Enter tempreture in Celcius: \"))\n",
        "\n",
        "#Conversion to fahrenheit\n",
        "fahrenheit= (celcius* 1.8) + 32\n",
        "\n",
        "print(celcius,'Celcius is', fahrenheit,'in Fahrenheit')"
      ],
      "metadata": {
        "colab": {
          "base_uri": "https://localhost:8080/"
        },
        "id": "bDqnEnqTKOkA",
        "outputId": "e906b067-05d0-43c0-c597-d5659bad6f7a"
      },
      "execution_count": null,
      "outputs": [
        {
          "output_type": "stream",
          "name": "stdout",
          "text": [
            "Enter tempreture in Celcius: 37\n",
            "37.0 Celcius is 98.60000000000001 in Fahrenheit\n"
          ]
        }
      ]
    },
    {
      "cell_type": "code",
      "source": [
        "#Exercise 3\n",
        "\n",
        "#To check if value is positive\n",
        "number=int(input(\"Enter number: \"))\n",
        "\n",
        "if number >0:\n",
        "  print(number, 'is Positive')\n",
        "\n",
        "elif number ==0:\n",
        "  print(number,'is 0')\n",
        "\n",
        "else:\n",
        "  print(number,'is Negative')"
      ],
      "metadata": {
        "colab": {
          "base_uri": "https://localhost:8080/"
        },
        "id": "jFFh-I0PLykL",
        "outputId": "62a6d8d8-b465-4ba4-8ad2-f18f7c7b3267"
      },
      "execution_count": null,
      "outputs": [
        {
          "output_type": "stream",
          "name": "stdout",
          "text": [
            "Enter number: -2\n",
            "-2 is Negative\n"
          ]
        }
      ]
    },
    {
      "cell_type": "code",
      "source": [
        "#Exercise 4\n",
        "\n",
        "#To check if number is a PRIME number\n",
        "\n",
        "num = int(input(\"Enter a number >1: \"))  \n",
        "f = 0\n",
        "i = 2\n",
        "while i <= num / 2:\n",
        "  if num % i == 0:\n",
        "        f=1\n",
        "        break\n",
        "  i=i+1\n",
        "    \n",
        "if f==0:\n",
        "    print(num,\"is a PRIME number\")\n",
        "else:\n",
        "    print(num,\"is not a PRIME number\")"
      ],
      "metadata": {
        "colab": {
          "base_uri": "https://localhost:8080/"
        },
        "id": "MpX6GVK7NEJW",
        "outputId": "b120ca77-a944-44d1-a5d6-3bd9f4e6a3f2"
      },
      "execution_count": null,
      "outputs": [
        {
          "output_type": "stream",
          "name": "stdout",
          "text": [
            "Enter a number >1: 3\n",
            "3 is a PRIME number\n"
          ]
        }
      ]
    },
    {
      "cell_type": "code",
      "source": [
        "#Exercise 5 \n",
        "#To display user choice of multiplication table\n",
        "\n",
        "number = int(input (\"Enter the number to display the multiplication table: \"))      \n",
        "      \n",
        "print (\"The Multiplication Table of: \", number)    \n",
        "for count in range(1, 11):      \n",
        "   print (number, 'x', count, '=', number * count)   "
      ],
      "metadata": {
        "colab": {
          "base_uri": "https://localhost:8080/"
        },
        "id": "Vp6ZkZNLQQ7Q",
        "outputId": "0d77bcce-c320-4782-eb0a-4649902f2da7"
      },
      "execution_count": null,
      "outputs": [
        {
          "output_type": "stream",
          "name": "stdout",
          "text": [
            "Enter the number to display the multiplication table: 4\n",
            "The Multiplication Table of:  4\n",
            "4 x 1 = 4\n",
            "4 x 2 = 8\n",
            "4 x 3 = 12\n",
            "4 x 4 = 16\n",
            "4 x 5 = 20\n",
            "4 x 6 = 24\n",
            "4 x 7 = 28\n",
            "4 x 8 = 32\n",
            "4 x 9 = 36\n",
            "4 x 10 = 40\n"
          ]
        }
      ]
    },
    {
      "cell_type": "code",
      "source": [
        "#Exercise 6\n",
        "#To print Fibonacci series\n",
        "\n",
        "\n",
        "nterms = int(input(\"How many terms? \"))\n",
        "\n",
        "# first two terms\n",
        "n1, n2 = 0, 1\n",
        "count = 0\n",
        "\n",
        "if nterms <= 0:\n",
        "   print(\"Please enter a number greater than 0 \")\n",
        "\n",
        "elif nterms == 1:\n",
        "   print(\"Fibonacci sequence is only 0\")\n",
        "   print(n1)\n",
        "\n",
        "else:\n",
        "   print(\"Fibonacci sequence:\")\n",
        "   while count < nterms:\n",
        "       print(n1)\n",
        "       nth = n1 + n2\n",
        "       n1 = n2\n",
        "       n2 = nth\n",
        "       count += 1"
      ],
      "metadata": {
        "colab": {
          "base_uri": "https://localhost:8080/"
        },
        "id": "PzW3ZnyBRAAB",
        "outputId": "f9f32e3a-9504-40a6-ebfd-dfe2bad272c7"
      },
      "execution_count": null,
      "outputs": [
        {
          "output_type": "stream",
          "name": "stdout",
          "text": [
            "How many terms? 5\n",
            "Fibonacci sequence:\n",
            "0\n",
            "1\n",
            "1\n",
            "2\n",
            "3\n"
          ]
        }
      ]
    },
    {
      "cell_type": "code",
      "source": [
        "#Exercise 7\n",
        "word = str(input('Enter string : '))\n",
        "word = word.lower()\n",
        "\n",
        "reversedword = word[::-1]\n",
        " \n",
        "if word == reversedword:\n",
        "  print('Your word is a palindrome.')\n",
        "else:\n",
        "  print('Your word is not a palindrome.')\n"
      ],
      "metadata": {
        "colab": {
          "base_uri": "https://localhost:8080/"
        },
        "id": "B5D0ml_cUxau",
        "outputId": "acf73d64-6404-4459-8e8a-fa5fbf01fca4"
      },
      "execution_count": null,
      "outputs": [
        {
          "output_type": "stream",
          "name": "stdout",
          "text": [
            "Enter string : wassup\n",
            "Your word is not a palindrome.\n"
          ]
        }
      ]
    },
    {
      "cell_type": "code",
      "source": [
        "#Exercise 8\n",
        "#To merge dictionaries\n",
        "\n",
        "dict_1 = {'Charls':'Al Furjan', 'Ryan':'Al Hudaiba', 'Renzie':'Al Fahidi' }\n",
        "dict_2 = {'Gab':'Satwa','Ysabel':'DG','Patricia':'Oud Metha' }\n",
        "dict_1.update(dict_2)\n",
        "print('Merged dictionary:')\n",
        "print(dict_1)"
      ],
      "metadata": {
        "colab": {
          "base_uri": "https://localhost:8080/"
        },
        "id": "Ku1DqXXEahto",
        "outputId": "c432b4c8-eeeb-40d2-87d4-54f3385f01e9"
      },
      "execution_count": null,
      "outputs": [
        {
          "output_type": "stream",
          "name": "stdout",
          "text": [
            "Merged dictionary:\n",
            "{'Charls': 'Al Furjan', 'Ryan': 'Al Hudaiba', 'Renzie': 'Al Fahidi', 'Gab': 'Satwa', 'Ysabel': 'DG', 'Patricia': 'Oud Metha'}\n"
          ]
        }
      ]
    },
    {
      "cell_type": "code",
      "source": [
        "#Exercise 9\n",
        "string = input(\"Enter String : \")\n",
        "char = input(\"Enter a Character to check occurance: \")\n",
        "count = 0\n",
        "for i in range(len(string)):\n",
        "    if(string[i] == char):\n",
        "        count = count + 1\n",
        "print(\"Total Number of occurence of \", char, \"is :\" , count)"
      ],
      "metadata": {
        "colab": {
          "base_uri": "https://localhost:8080/"
        },
        "id": "Vsj-St0VcKGv",
        "outputId": "325dae23-ce43-46a4-ba0e-04824b09dc5f"
      },
      "execution_count": null,
      "outputs": [
        {
          "output_type": "stream",
          "name": "stdout",
          "text": [
            "Enter String : Programming\n",
            "Enter a Character to check occurance: r\n",
            "Total Number of occurence of  r is : 2\n"
          ]
        }
      ]
    },
    {
      "cell_type": "code",
      "source": [
        "#Exercise 10\n",
        "\n",
        "#Take three values from user\n",
        "num1 = int(input(\"Enter 1st value: \"))\n",
        "num2 = int(input(\"Enter 2nd value: \"))\n",
        "num3 = int(input(\"Enter 3rd value: \"))\n",
        " \n",
        "if (num1 > num2) and (num1 > num3):\n",
        "   largest = num1\n",
        "elif (num2 > num1) and (num2 > num3):\n",
        "   largest = num2\n",
        "else:\n",
        "   largest = num3\n",
        " \n",
        "print(\"The largest number amongst 3 inputs is \",largest)"
      ],
      "metadata": {
        "colab": {
          "base_uri": "https://localhost:8080/"
        },
        "id": "KJTBaMabeuxb",
        "outputId": "d8ab5952-d913-4658-d2be-2eaf2be3d449"
      },
      "execution_count": null,
      "outputs": [
        {
          "output_type": "stream",
          "name": "stdout",
          "text": [
            "Enter 1st value: 300\n",
            "Enter 2nd value: 200\n",
            "Enter 3rd value: 301\n",
            "The largest number amongst 3 inputs is  301\n"
          ]
        }
      ]
    }
  ]
}