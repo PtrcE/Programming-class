{
  "nbformat": 4,
  "nbformat_minor": 0,
  "metadata": {
    "colab": {
      "provenance": [],
      "authorship_tag": "ABX9TyMTiK69y75gbgCMmIV2TRqa",
      "include_colab_link": true
    },
    "kernelspec": {
      "name": "python3",
      "display_name": "Python 3"
    },
    "language_info": {
      "name": "python"
    }
  },
  "cells": [
    {
      "cell_type": "markdown",
      "metadata": {
        "id": "view-in-github",
        "colab_type": "text"
      },
      "source": [
        "<a href=\"https://colab.research.google.com/github/PtrcE/Programming-class/blob/main/Class%20Work/November_10.ipynb\" target=\"_parent\"><img src=\"https://colab.research.google.com/assets/colab-badge.svg\" alt=\"Open In Colab\"/></a>"
      ]
    },
    {
      "cell_type": "code",
      "execution_count": null,
      "metadata": {
        "colab": {
          "base_uri": "https://localhost:8080/"
        },
        "id": "eo_QxItB_jRK",
        "outputId": "6361ed7b-08a1-452f-9bbd-d3977cf08403"
      },
      "outputs": [
        {
          "output_type": "stream",
          "name": "stdout",
          "text": [
            "The first element of tuple1 is  Daisy\n",
            "The second element of tuple1 is  Tulip\n",
            "The third element of tuple1 is  Gardenia\n",
            "\n",
            "\n",
            "The first element of tuple2 is  Daisy\n",
            "The second element of tuple2 is  Tulip\n",
            "The third element of tuple2 is  Gardenia\n",
            "\n",
            "\n",
            "The elements in tuple 1 is  ('Daisy', 'Tulip', 'Gardenia')\n",
            "The elements in tuple 2 is  ('Carrot', 'Spinach', 'Lettuce')\n",
            "\n",
            "\n",
            "Tuple1 elements are: \n",
            "Daisy \n",
            "Tulip \n",
            "Gardenia \n",
            "\n",
            "\n",
            "Tuple2 elements are: \n",
            "Carrot \n",
            "Spinach \n",
            "Lettuce \n"
          ]
        }
      ],
      "source": [
        "#tuples\n",
        "tuple1=('Daisy','Tulip','Gardenia')\n",
        "tuple2=('Carrot','Spinach','Lettuce')\n",
        "\n",
        "print('The first element of tuple1 is ',tuple1[0])\n",
        "print('The second element of tuple1 is ',tuple1[1])\n",
        "print('The third element of tuple1 is ',tuple1[2])\n",
        "print('\\n')\n",
        "print('The first element of tuple2 is ',tuple1[0])\n",
        "print('The second element of tuple2 is ',tuple1[1])\n",
        "print('The third element of tuple2 is ',tuple1[2])\n",
        "print('\\n')\n",
        "\n",
        "print('The elements in tuple 1 is ', tuple1[0:3])\n",
        "print('The elements in tuple 2 is ',tuple2[0:3])\n",
        "print('\\n')\n",
        "\n",
        "print('Tuple1 elements are: ')\n",
        "for i in tuple1:\n",
        "  print(i, end=' \\n')\n",
        "print('\\n')\n",
        "\n",
        "print('Tuple2 elements are: ')\n",
        "for i in tuple2:\n",
        "  print(i, end=' \\n')\n",
        "\n",
        "\n"
      ]
    },
    {
      "cell_type": "code",
      "source": [
        "#integer tuples consisting of leap and non leap years apart\n",
        "leap_year=(2000,2004,2008,2012)\n",
        "non_leap_year=(2001,2005,2009,2013)\n",
        "\n",
        "\n",
        "print('The 4 previous leap years:',leap_year[0:5])\n",
        "print('The following 4 non leap years:',non_leap_year[0:5])\n",
        "print('\\n')\n",
        "\n",
        "#concatenate\n",
        "print('Few list of of leap years and non leap years are: \\n',leap_year+non_leap_year)\n",
        "print('\\n')\n",
        "\n",
        "#repeating the lists by using * function\n",
        "print(leap_year*4)\n",
        "print('\\n')\n",
        "\n",
        "#comparing the tuples\n",
        "print(leap_year==non_leap_year)\n",
        "print('\\n')\n",
        "\n",
        "#length of each tuple\n",
        "print(len(leap_year))\n",
        "print(len(non_leap_year))\n",
        "print('\\n')\n",
        "\n",
        "#sum the elements\n",
        "print(sum(leap_year))\n",
        "print(sum(non_leap_year))\n",
        "print('\\n')\n",
        "\n",
        "#sorting the elements\n",
        "print(sorted(leap_year))\n",
        "print(sorted(non_leap_year))\n",
        "print('\\n')\n",
        "\n",
        "#swaping tuples\n",
        "leap_year,non_leap_year=non_leap_year,leap_year\n",
        "print('The previous non leap years: ',leap_year)\n",
        "print('The following leap years: ',non_leap_year)\n",
        "\n",
        "\n"
      ],
      "metadata": {
        "colab": {
          "base_uri": "https://localhost:8080/"
        },
        "id": "0NZvlZEeEG8B",
        "outputId": "8fc4958a-be23-4159-c0f0-dc3670f1d311"
      },
      "execution_count": null,
      "outputs": [
        {
          "output_type": "stream",
          "name": "stdout",
          "text": [
            "The 4 previous leap years: (2000, 2004, 2008, 2012)\n",
            "The following 4 non leap years: (2001, 2005, 2009, 2013)\n",
            "\n",
            "\n",
            "Few list of of leap years and non leap years are: \n",
            " (2000, 2004, 2008, 2012, 2001, 2005, 2009, 2013)\n",
            "\n",
            "\n",
            "(2000, 2004, 2008, 2012, 2000, 2004, 2008, 2012, 2000, 2004, 2008, 2012, 2000, 2004, 2008, 2012)\n",
            "\n",
            "\n",
            "False\n",
            "\n",
            "\n",
            "4\n",
            "4\n",
            "\n",
            "\n",
            "8024\n",
            "8028\n",
            "\n",
            "\n",
            "[2000, 2004, 2008, 2012]\n",
            "[2001, 2005, 2009, 2013]\n",
            "\n",
            "\n",
            "The previous non leap years:  (2001, 2005, 2009, 2013)\n",
            "The following leap years:  (2000, 2004, 2008, 2012)\n"
          ]
        }
      ]
    },
    {
      "cell_type": "code",
      "source": [
        "#Quiz - trial 1\n",
        "flowers=['Daisy','Gardenia','Tulip']\n",
        "favflower=(input('What is your favorite flower? '))\n",
        "\n",
        "if favflower==\"Daisy\":\n",
        "  print('Success!')\n",
        "if favflower==\"Gardenia\":\n",
        "  print('Success!')\n",
        "if favflower==\"Tulip\":\n",
        "  print('Success!')\n",
        "\n",
        "else:\n",
        "  print('Unsuccessful')\n"
      ],
      "metadata": {
        "colab": {
          "base_uri": "https://localhost:8080/"
        },
        "id": "HII02lkVKVGf",
        "outputId": "535fbb3e-3195-4b0e-dbea-7b672a797362"
      },
      "execution_count": null,
      "outputs": [
        {
          "output_type": "stream",
          "name": "stdout",
          "text": [
            "What is your favorite flower? Daisy\n",
            "Success!\n",
            "Unsuccessful\n"
          ]
        }
      ]
    },
    {
      "cell_type": "code",
      "source": [
        "#Quiz - trial 2\n",
        "flowers=('daisy','gardenia','tulip')\n",
        "favflower=(input('What is your favorite flower? '))\n",
        "\n",
        "if favflower==flowers[0:3]:\n",
        "  print(\"Success!\")\n",
        "    \n",
        "else:\n",
        "  print(\"Unsuccessful\")\n",
        "    \n"
      ],
      "metadata": {
        "colab": {
          "base_uri": "https://localhost:8080/"
        },
        "id": "0Z9hG1y2YaF8",
        "outputId": "402b2d27-0083-4983-b105-e4a44ebdd852"
      },
      "execution_count": null,
      "outputs": [
        {
          "output_type": "stream",
          "name": "stdout",
          "text": [
            "What is your favorite flower? rose\n",
            "Unsuccessful\n"
          ]
        }
      ]
    },
    {
      "cell_type": "code",
      "source": [
        "#Quiz success \n",
        "flower = ['daisy', 'gardenia', 'tulip']\n",
        "favoriteflower = input('What is your favorite flower? ')\n",
        "\n",
        "for fav in flower:\n",
        "  if favoriteflower in flower:\n",
        "    print('Success.')\n",
        "    break\n",
        "\n",
        "  else:\n",
        "    print('Unsuccessful.')\n",
        "    break"
      ],
      "metadata": {
        "colab": {
          "base_uri": "https://localhost:8080/"
        },
        "id": "0kKouGpjb2Yx",
        "outputId": "9aa023f6-4f91-446d-c53e-3b1dca136b27"
      },
      "execution_count": null,
      "outputs": [
        {
          "output_type": "stream",
          "name": "stdout",
          "text": [
            "What is your favorite flower? daisy\n",
            "Success.\n"
          ]
        }
      ]
    },
    {
      "cell_type": "code",
      "source": [
        "#Quiz - alternate trial \n",
        "flower = ('daisy', 'gardenia', 'tulip')\n",
        "favorite = input('What is your favorite flower? ')\n",
        "\n",
        "if favorite in flower:\n",
        "  print('Success.')\n",
        "\n",
        "else:\n",
        "  print('Unsucessful.')"
      ],
      "metadata": {
        "colab": {
          "base_uri": "https://localhost:8080/"
        },
        "id": "E75dA2WvdQrI",
        "outputId": "1aa26302-f064-4d8f-c1c2-60d6bc7ff2a6"
      },
      "execution_count": null,
      "outputs": [
        {
          "output_type": "stream",
          "name": "stdout",
          "text": [
            "What is your favorite flower? rose\n",
            "Unsucessful.\n"
          ]
        }
      ]
    }
  ]
}