{
  "nbformat": 4,
  "nbformat_minor": 0,
  "metadata": {
    "colab": {
      "provenance": [],
      "authorship_tag": "ABX9TyN3uonIeoD74ZU6zQ0OeCy9",
      "include_colab_link": true
    },
    "kernelspec": {
      "name": "python3",
      "display_name": "Python 3"
    },
    "language_info": {
      "name": "python"
    }
  },
  "cells": [
    {
      "cell_type": "markdown",
      "metadata": {
        "id": "view-in-github",
        "colab_type": "text"
      },
      "source": [
        "<a href=\"https://colab.research.google.com/github/PtrcE/Programming-class/blob/main/Class%20Work/Oct_6_ITP_.ipynb\" target=\"_parent\"><img src=\"https://colab.research.google.com/assets/colab-badge.svg\" alt=\"Open In Colab\"/></a>"
      ]
    },
    {
      "cell_type": "code",
      "source": [
        "#Valid names for declaring variables\n",
        "\n",
        "sentence='Today is 6th October, 2022, Thursday.'\n",
        "\n",
        "sentence1='Today is 6th October, 2022, Thursday.'\n",
        "\n",
        "sentence_1='Today is 6th October, 2022, Thursday.'\n",
        "\n",
        "sentence1='Today is 6th October, 2022, Thursday.'\n",
        "\n",
        "Sentence_1='Today is 6th October, 2022, Thursday.'\n",
        "\n",
        "SENTENCE1='Today is 6th October, 2022, Thursday'\n",
        "\n",
        "SEnTEnCE1='Today is 6th October, 2022, Thursday.'\n",
        "\n",
        "\n",
        "\n",
        "sentence='Today is 6th October, 2022, Thursday.'\n",
        "print(sentence)"
      ],
      "metadata": {
        "colab": {
          "base_uri": "https://localhost:8080/"
        },
        "id": "LqiCCtmU2-77",
        "outputId": "23678c78-6b8d-409c-902b-1ed8b0d16622"
      },
      "execution_count": 2,
      "outputs": [
        {
          "output_type": "stream",
          "name": "stdout",
          "text": [
            "Today is 6th October, 2022, Thursday.\n"
          ]
        }
      ]
    },
    {
      "cell_type": "code",
      "source": [
        "#invalid names for declaringg variables\n",
        "\n",
        "1sentence='Today is 6th October, 2022, Thursday.'\n",
        "\n",
        "-sentence='Today is 6th October, 2022, Thursday.'\n",
        "\n",
        "Sentence-1='Today is 6th October, 2022, Thursday.'\n",
        "\n",
        "Sentence*1='Today is 6th October, 2022, Thursday.'\n",
        "\n",
        "today's_date='Today is 6th October, 2022, Thursday.'\n",
        "\n",
        "print=(1sentence)\n"
      ],
      "metadata": {
        "colab": {
          "base_uri": "https://localhost:8080/",
          "height": 130
        },
        "id": "mh911BnG2_2d",
        "outputId": "84235f3a-8075-4452-947d-514511b94ebb"
      },
      "execution_count": 3,
      "outputs": [
        {
          "output_type": "error",
          "ename": "SyntaxError",
          "evalue": "ignored",
          "traceback": [
            "\u001b[0;36m  File \u001b[0;32m\"<ipython-input-3-5eebdd3e982f>\"\u001b[0;36m, line \u001b[0;32m3\u001b[0m\n\u001b[0;31m    1sentence='Today is 6th October, 2022, Thursday.'\u001b[0m\n\u001b[0m            ^\u001b[0m\n\u001b[0;31mSyntaxError\u001b[0m\u001b[0;31m:\u001b[0m invalid syntax\n"
          ]
        }
      ]
    },
    {
      "cell_type": "code",
      "execution_count": 4,
      "metadata": {
        "colab": {
          "base_uri": "https://localhost:8080/"
        },
        "id": "Cw1q5jTY6cFl",
        "outputId": "260d95ac-1161-4734-aad0-310aeeb897cf"
      },
      "outputs": [
        {
          "output_type": "stream",
          "name": "stdout",
          "text": [
            "2\n",
            "2.5\n",
            "(3+6j)\n"
          ]
        }
      ],
      "source": [
        "num=2\n",
        "print(num)\n",
        "\n",
        "fl=2.5\n",
        "print(fl)\n",
        "\n",
        "com=3+6j\n",
        "print(com)"
      ]
    },
    {
      "cell_type": "code",
      "source": [
        "x= 2 #int value\n",
        "\n",
        "y= 2.5 #floating point value\n",
        "\n",
        "z= 5+5j #complex value\n",
        "\n",
        "#type()prints the datatype of the variable\n",
        "\n",
        "print(\"Type of A is \",type(x))\n",
        "print(\"Type of B is\",type(y))\n",
        "print(\"Type of C is\",type(z))"
      ],
      "metadata": {
        "colab": {
          "base_uri": "https://localhost:8080/"
        },
        "id": "UF_NF2cI3oRM",
        "outputId": "0a468f07-e4e0-4f4c-b8cf-596712681adb"
      },
      "execution_count": 5,
      "outputs": [
        {
          "output_type": "stream",
          "name": "stdout",
          "text": [
            "Type of A is  <class 'int'>\n",
            "Type of B is <class 'float'>\n",
            "Type of C is <class 'complex'>\n"
          ]
        }
      ]
    },
    {
      "cell_type": "code",
      "source": [
        "print(\"enter marks\")\n",
        "marks = int(input())\n",
        "print(\"Marks obtained are\", marks)"
      ],
      "metadata": {
        "colab": {
          "base_uri": "https://localhost:8080/"
        },
        "id": "doiZ4Hmn61eq",
        "outputId": "d37960ad-b15d-4cd9-9367-4d24a4c31cc1"
      },
      "execution_count": 6,
      "outputs": [
        {
          "output_type": "stream",
          "name": "stdout",
          "text": [
            "enter marks\n",
            "95\n",
            "Marks obtained are 95\n"
          ]
        }
      ]
    },
    {
      "cell_type": "code",
      "source": [
        "#To calculate area of a sqaure\n",
        "\n",
        "length = int(input(\"Enter the length: \"))\n",
        "print(length)\n",
        "\n",
        "area=length**2\n",
        "\n",
        "print(\"Area of square:\", area)\n"
      ],
      "metadata": {
        "id": "YFxvycqA7YCm",
        "colab": {
          "base_uri": "https://localhost:8080/"
        },
        "outputId": "61825148-9563-4f59-d711-76a9ada41f44"
      },
      "execution_count": 34,
      "outputs": [
        {
          "output_type": "stream",
          "name": "stdout",
          "text": [
            "Enter the length: 5\n",
            "5\n",
            "Area of square: 25\n"
          ]
        }
      ]
    },
    {
      "cell_type": "code",
      "source": [
        "#To calculate area and perimeter of a rectangle \n",
        "length = int(input(\"Enter the length: \"))\n",
        "width = int(input(\"Enter the width: \"))\n",
        "\n",
        "area=length*width\n",
        "perimeter = 2*(length*width)\n",
        "\n",
        "print(\"The area of the rectangle is: \", area)\n",
        "print(\"The perimeter of the rectangle is: \",perimeter)\n"
      ],
      "metadata": {
        "id": "tr5z7JnU8dVn",
        "colab": {
          "base_uri": "https://localhost:8080/"
        },
        "outputId": "70abd5d3-3614-4ebd-b65c-fb42d98fa6a5"
      },
      "execution_count": 31,
      "outputs": [
        {
          "output_type": "stream",
          "name": "stdout",
          "text": [
            "Enter the length: 5\n",
            "Enter the width: 2\n",
            "The area of the rectangle is:  10\n",
            "The perimeter of the rectangle is:  20\n"
          ]
        }
      ]
    },
    {
      "cell_type": "code",
      "source": [
        "#To calculate area of a circle\n",
        "pi = 3.14159\n",
        "r = float(input (\"Input the radius of the circle: \"))\n",
        "print(\"The area of the circle with radius of the circle \" +str(r) + \" is: \" + str(pi * r**2))"
      ],
      "metadata": {
        "id": "TEQ2Py2J9byx",
        "colab": {
          "base_uri": "https://localhost:8080/"
        },
        "outputId": "a43d93cf-b37e-4bce-c0ca-8f9da165f39e"
      },
      "execution_count": 10,
      "outputs": [
        {
          "output_type": "stream",
          "name": "stdout",
          "text": [
            "Input the radius of the circle: 20\n",
            "The area of the circle with radius of the circle 20.0 is: 1256.636\n"
          ]
        }
      ]
    },
    {
      "cell_type": "code",
      "source": [
        "#changing case\n",
        "data='Today is 6th October, 2022, Thursday.'\n",
        "print(data.upper())\n",
        "print(data.lower())\n",
        "print(data.title())\n",
        "line='Hello, I am Patricia'\n",
        "print(line.capitalize())\n",
        "print(data.swapcase())"
      ],
      "metadata": {
        "id": "jUGi3g3v9r0q",
        "colab": {
          "base_uri": "https://localhost:8080/"
        },
        "outputId": "24c5cdd0-af0b-4b06-fd95-cb49062ed617"
      },
      "execution_count": 20,
      "outputs": [
        {
          "output_type": "stream",
          "name": "stdout",
          "text": [
            "TODAY IS 6TH OCTOBER, 2022, THURSDAY.\n",
            "today is 6th october, 2022, thursday.\n",
            "Today Is 6Th October, 2022, Thursday.\n",
            "Hello, i am patricia\n",
            "tODAY IS 6TH oCTOBER, 2022, tHURSDAY.\n"
          ]
        }
      ]
    },
    {
      "cell_type": "code",
      "source": [
        "str = 'Hello World'\n",
        "\n",
        "print (str)           #Prints complete string\n",
        "print (str[0])        #Prints first character of the string\n",
        "print (str[2:5])      #Prints characters starting from 3rd to 5th\n",
        "print (str[2:])       #Prints string starting from 3rd character\n",
        "print (str * 2)       #Prints string 2 times\n",
        "print (str + \"TEST\")  #Prints concatenated string\n"
      ],
      "metadata": {
        "id": "t6YulIPg79tc",
        "colab": {
          "base_uri": "https://localhost:8080/"
        },
        "outputId": "b0bb30ee-85a7-4d1c-f906-0f3638d7ad9f"
      },
      "execution_count": 12,
      "outputs": [
        {
          "output_type": "stream",
          "name": "stdout",
          "text": [
            "Hello World\n",
            "H\n",
            "llo\n",
            "llo World\n",
            "Hello WorldHello World\n",
            "Hello WorldTEST\n"
          ]
        }
      ]
    },
    {
      "cell_type": "code",
      "source": [
        "#working with strings\n",
        "sentence1= 'Hi I am Patricia'\n",
        "sentence2= 'I study Creative computing'\n",
        "sentence3= 'This is Programming class'\n",
        "\n",
        "print(sentence1)\n",
        "print(sentence2)\n",
        "print(sentence3)\n",
        "print(sentence1+sentence2+sentence3)"
      ],
      "metadata": {
        "colab": {
          "base_uri": "https://localhost:8080/"
        },
        "id": "L3fU2dGh3WEo",
        "outputId": "91cc486c-c020-4788-97d3-fcb7c185b123"
      },
      "execution_count": 13,
      "outputs": [
        {
          "output_type": "stream",
          "name": "stdout",
          "text": [
            "Hi I am Patricia\n",
            "I study Creative computing\n",
            "This is Programming class\n",
            "Hi I am PatriciaI study Creative computingThis is Programming class\n"
          ]
        }
      ]
    },
    {
      "cell_type": "code",
      "source": [
        "#changing case\n",
        "data= 'Today is 6th October, 2022, Thursday.'\n",
        "print(data.upper())\n",
        "print(data.lower())\n",
        "print(data.title())\n",
        "sentence='Hello, I Am Patricia'\n",
        "print(sentence.capitalize())\n",
        "print(data.swapcase())"
      ],
      "metadata": {
        "colab": {
          "base_uri": "https://localhost:8080/"
        },
        "id": "DudUaFmi3W6r",
        "outputId": "f486291f-26e0-4f0f-e110-55ca2953a288"
      },
      "execution_count": 36,
      "outputs": [
        {
          "output_type": "stream",
          "name": "stdout",
          "text": [
            "TODAY IS 6TH OCTOBER, 2022, THURSDAY.\n",
            "today is 6th october, 2022, thursday.\n",
            "Today Is 6Th October, 2022, Thursday.\n",
            "Hello, i am patricia\n",
            "tODAY IS 6TH oCTOBER, 2022, tHURSDAY.\n"
          ]
        }
      ]
    },
    {
      "cell_type": "code",
      "source": [
        "#use of lstrip() function to remove spaces from left side of the string\n",
        "word='   python'\n",
        "new_word=word.lstrip()\n",
        "print(word)\n",
        "print(new_word)"
      ],
      "metadata": {
        "colab": {
          "base_uri": "https://localhost:8080/"
        },
        "id": "N20FVYvY3Zam",
        "outputId": "0dc21a64-ad09-465e-d9ca-0ec2ba293699"
      },
      "execution_count": 15,
      "outputs": [
        {
          "output_type": "stream",
          "name": "stdout",
          "text": [
            "   python\n",
            "python\n"
          ]
        }
      ]
    },
    {
      "cell_type": "code",
      "source": [
        "#use of rstrip() function to remove spaces from right side of the string\n",
        "word='python         '\n",
        "new_word=word.rstrip()\n",
        "print(word)\n",
        "print(new_word)"
      ],
      "metadata": {
        "colab": {
          "base_uri": "https://localhost:8080/"
        },
        "id": "CzVpWcm83cVB",
        "outputId": "0920a432-a10b-4401-8f91-dfc0ee75ac08"
      },
      "execution_count": 16,
      "outputs": [
        {
          "output_type": "stream",
          "name": "stdout",
          "text": [
            "python         \n",
            "python\n"
          ]
        }
      ]
    },
    {
      "cell_type": "code",
      "source": [
        "#To add a tab to your text, use the character combination \\t\n",
        "print(\"The programming language is \\t Python\")\n",
        "\n",
        "#To add a newline in a string, use the character combination \\n:\n",
        "print(\"\\n\")\n",
        "\n",
        "print(\"Programming Languages: \\nPython\\nC\\nJavaScript\")\n",
        "print(\"\\n\")\n",
        "\n",
        "#formatting using \\t and \\n\n",
        "print(\"Programming Languages: \\n\\tPython\\n\\tC\\n\\tJavaScript\")"
      ],
      "metadata": {
        "colab": {
          "base_uri": "https://localhost:8080/"
        },
        "id": "N7ZTs-KT3hSe",
        "outputId": "607b484a-b347-42ae-d8d9-420bbbdaaaff"
      },
      "execution_count": 17,
      "outputs": [
        {
          "output_type": "stream",
          "name": "stdout",
          "text": [
            "The programming language is \t Python\n",
            "\n",
            "\n",
            "Programming Languages: \n",
            "Python\n",
            "C\n",
            "JavaScript\n",
            "\n",
            "\n",
            "Programming Languages: \n",
            "\tPython\n",
            "\tC\n",
            "\tJavaScript\n"
          ]
        }
      ]
    }
  ]
}