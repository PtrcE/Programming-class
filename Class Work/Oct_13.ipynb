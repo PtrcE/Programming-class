{
  "cells": [
    {
      "cell_type": "markdown",
      "metadata": {
        "id": "view-in-github",
        "colab_type": "text"
      },
      "source": [
        "<a href=\"https://colab.research.google.com/github/PtrcE/Programming-class/blob/main/Class%20Work/Oct_13.ipynb\" target=\"_parent\"><img src=\"https://colab.research.google.com/assets/colab-badge.svg\" alt=\"Open In Colab\"/></a>"
      ]
    },
    {
      "cell_type": "code",
      "execution_count": null,
      "metadata": {
        "colab": {
          "base_uri": "https://localhost:8080/"
        },
        "id": "gNvpibmm0Nl-",
        "outputId": "511415ba-e6ec-4c53-e2d5-8c6f8f863cb0"
      },
      "outputs": [
        {
          "output_type": "stream",
          "name": "stdout",
          "text": [
            "Enter 2 numbers:\n",
            "1\n",
            "5\n",
            "The Addition of  1.0 and 5.0 is 6.0\n",
            "The Subtraction of  1.0 and 5.0 is -4.0\n",
            "The Multiplication of  1.0 and 5.0 is 5.0\n",
            "The Division of  1.0 and 5.0 is 0.2\n",
            "The Modulus of  1.0 and 5.0 is 1.0\n",
            "The Power of  1.0 and 5.0 is 1.0\n"
          ]
        }
      ],
      "source": [
        "#Asking for 2 numbers from user\n",
        "print('Enter 2 numbers:')\n",
        "a=float(input())\n",
        "b=float(input())\n",
        "\n",
        "#to calculate and print results\n",
        "print('The Addition of ', str(a) ,'and', str(b) ,'is', str(a+b))\n",
        "print('The Subtraction of ', str(a) ,'and', str(b) ,'is', str(a-b))\n",
        "print('The Multiplication of ', str(a) ,'and', str(b) ,'is', str(a*b))\n",
        "print('The Division of ', str(a) ,'and', str(b) ,'is', str(a/b))\n",
        "print('The Modulus of ', str(a) ,'and', str(b) ,'is', str(a%b))\n",
        "print('The Power of ', str(a) ,'and', str(b) ,'is', str(a**b))\n",
        "\n"
      ]
    },
    {
      "cell_type": "code",
      "execution_count": null,
      "metadata": {
        "id": "q9u37t6Z4IMj",
        "colab": {
          "base_uri": "https://localhost:8080/"
        },
        "outputId": "a92d1298-8328-4684-e55a-8a17c25fdd0e"
      },
      "outputs": [
        {
          "output_type": "stream",
          "name": "stdout",
          "text": [
            "Please enter the first number: \n",
            "1\n",
            "Please enter the second number: \n",
            "5\n",
            "\n",
            "\n",
            "The sum of both the numbers is 6.0\n",
            "The difference of both the numbers is -4.0\n",
            "The product of both the numbers is 5.0\n",
            "The quotient of both the numbers is 0.2\n",
            "The modulus of both the numbers is 1.0\n",
            "The power of 1.0 to 5.0 is 1.0\n"
          ]
        }
      ],
      "source": [
        "#In order to have variables, input is used to get the variables from the user\n",
        "firstnum=(float(input(\"Please enter the first number: \\n\")))\n",
        "secondnum=(float(input(\"Please enter the second number: \\n\")))\n",
        "print(\"\\n\")\n",
        "\n",
        "#These are the operations to get answer for both the numbers\n",
        "sum = firstnum + secondnum\n",
        "diff = firstnum - secondnum\n",
        "prod = firstnum * secondnum\n",
        "quot = firstnum / secondnum\n",
        "mod = firstnum % secondnum\n",
        "squa = firstnum ** secondnum\n",
        "\n",
        "#These print the answer to both the numbers\n",
        "print(\"The sum of both the numbers is\", sum)\n",
        "print(\"The difference of both the numbers is\", diff)\n",
        "print(\"The product of both the numbers is\", prod)\n",
        "print(\"The quotient of both the numbers is\", quot)\n",
        "print(\"The modulus of both the numbers is\", mod)\n",
        "print(\"The power of\", str(firstnum) ,\"to\", str(secondnum) ,\"is\", squa)"
      ]
    },
    {
      "cell_type": "code",
      "execution_count": null,
      "metadata": {
        "id": "45bK8HBr56oz",
        "colab": {
          "base_uri": "https://localhost:8080/"
        },
        "outputId": "af3f4f17-8add-45ac-9ded-fcf7912541a5"
      },
      "outputs": [
        {
          "output_type": "stream",
          "name": "stdout",
          "text": [
            "Budget: 50\n",
            "USB sticks: 8\n",
            "Total Amount: 48\n",
            "Change: 2\n"
          ]
        }
      ],
      "source": [
        "money= 50\n",
        "USB_sticks= 6\n",
        "amount= money//USB_sticks\n",
        "cost=amount*6\n",
        "change= money-USB_sticks*amount\n",
        "\n",
        "print(\"Budget:\", Budget)\n",
        "print(\"USB sticks:\", amount)\n",
        "print(\"Total Amount:\", cost)\n",
        "print(\"Change:\", change)"
      ]
    },
    {
      "cell_type": "code",
      "execution_count": null,
      "metadata": {
        "id": "osjTi_cc-CmB",
        "colab": {
          "base_uri": "https://localhost:8080/"
        },
        "outputId": "5a7d1b8e-fc37-4982-cd36-0adc030faee7"
      },
      "outputs": [
        {
          "output_type": "stream",
          "name": "stdout",
          "text": [
            "False\n",
            "True\n",
            "False\n"
          ]
        }
      ],
      "source": [
        "p1 = 2\n",
        "g1 = 2\n",
        "p2 = 'Gem'\n",
        "g2 = 'Gem'\n",
        "p3 = [1,2,3]\n",
        "g3 = [1,2,3]\n",
        "\n",
        "#Output: False\n",
        "print(p1 is not g1)\n",
        "\n",
        "#Output: True\n",
        "print(p2 is g2)\n",
        "\n",
        "#Output: False\n",
        "print(p3 is g3)\n",
        "\n"
      ]
    },
    {
      "cell_type": "code",
      "execution_count": null,
      "metadata": {
        "id": "Gv2e2qUWBcug",
        "colab": {
          "base_uri": "https://localhost:8080/"
        },
        "outputId": "f51401d7-3c6c-400a-d7d1-3e12b39cebca"
      },
      "outputs": [
        {
          "output_type": "stream",
          "name": "stdout",
          "text": [
            "Enter age:18\n",
            "You are old enough to drive!\n"
          ]
        }
      ],
      "source": [
        "age=int(input(\"Enter age:\"))\n",
        "\n",
        "if age >=18:\n",
        "  #Executes if true\n",
        "  print('You are old enough to drive!')\n",
        "else:\n",
        "  #Executes if false\n",
        "  print('You are not eligible to drive.')\n",
        "\n"
      ]
    },
    {
      "cell_type": "code",
      "execution_count": null,
      "metadata": {
        "id": "MHV51RfQEozv",
        "colab": {
          "base_uri": "https://localhost:8080/"
        },
        "outputId": "374ef224-c901-4ad4-fd8c-06b77d1f3a15"
      },
      "outputs": [
        {
          "output_type": "stream",
          "name": "stdout",
          "text": [
            "The minimum value is2\n"
          ]
        }
      ],
      "source": [
        "#Declare 2 numbers in 2 variables\n",
        "\n",
        "a, b = 2, 22\n",
        "\n",
        "#Copy value of a in min if a < b else copy b\n",
        "min=a\n",
        "if a<b:\n",
        "  min=a\n",
        "else:\n",
        "  min=b\n",
        "print('The minimum value is' +str(min))\n",
        "\n"
      ]
    },
    {
      "cell_type": "code",
      "execution_count": null,
      "metadata": {
        "id": "KKzGkCoNFwE3",
        "colab": {
          "base_uri": "https://localhost:8080/"
        },
        "outputId": "3ac67880-02f9-4195-b339-84c8e87aa3f4"
      },
      "outputs": [
        {
          "output_type": "stream",
          "name": "stdout",
          "text": [
            "Welcome to the carnival!\n",
            "Enter your age\n",
            "15\n",
            "Your admission cost is $25\n"
          ]
        }
      ],
      "source": [
        "print(\"Welcome to the carnival!\")\n",
        "print('Enter your age')\n",
        "age=int(input())\n",
        "\n",
        "if age < 5:\n",
        "  print(\"Your admission cost is $0.\")\n",
        "elif age < 18:\n",
        "  print(\"Your admission cost is $25\")\n",
        "else:\n",
        "  print(\"Your admission cost is $50\")"
      ]
    },
    {
      "cell_type": "code",
      "execution_count": null,
      "metadata": {
        "id": "zRB1ijxKPZvM",
        "colab": {
          "base_uri": "https://localhost:8080/"
        },
        "outputId": "a79639e9-0deb-4ced-d79a-629544479ca8"
      },
      "outputs": [
        {
          "output_type": "stream",
          "name": "stdout",
          "text": [
            "Hello,Iashlayne!\n",
            "Hello,Charls!\n",
            "Hello,Ysabel!\n",
            "Hello,Krunch!\n",
            "Hello,Gab!\n",
            "Hello,Renz!\n"
          ]
        }
      ],
      "source": [
        "#store the names of a few of my friends in a list called names\n",
        "name=['Iashlayne','Charls','Ysabel','Krunch','Gab','Renz']\n",
        "\n",
        "#Greet each friend by their names\n",
        "print(\"Hello,\" + name [0].title()+\"!\")\n",
        "print(\"Hello,\" + name [1].title()+\"!\")\n",
        "print(\"Hello,\" + name [2].title()+\"!\")\n",
        "print(\"Hello,\" + name [3].title()+\"!\")\n",
        "print(\"Hello,\" + name [4].title()+\"!\")\n",
        "print(\"Hello,\" + name [5].title()+\"!\")\n",
        "\n"
      ]
    }
  ],
  "metadata": {
    "colab": {
      "collapsed_sections": [],
      "provenance": [],
      "authorship_tag": "ABX9TyPqp2kHcGsKgiblFpWO7KrK",
      "include_colab_link": true
    },
    "kernelspec": {
      "display_name": "Python 3",
      "name": "python3"
    },
    "language_info": {
      "name": "python"
    }
  },
  "nbformat": 4,
  "nbformat_minor": 0
}