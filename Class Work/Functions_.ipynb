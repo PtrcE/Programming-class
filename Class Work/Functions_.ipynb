{
  "nbformat": 4,
  "nbformat_minor": 0,
  "metadata": {
    "colab": {
      "provenance": [],
      "authorship_tag": "ABX9TyOeExnBgX3NR2FMHSah67xb",
      "include_colab_link": true
    },
    "kernelspec": {
      "name": "python3",
      "display_name": "Python 3"
    },
    "language_info": {
      "name": "python"
    }
  },
  "cells": [
    {
      "cell_type": "markdown",
      "metadata": {
        "id": "view-in-github",
        "colab_type": "text"
      },
      "source": [
        "<a href=\"https://colab.research.google.com/github/PtrcE/Programming-class/blob/main/Class%20Work/Functions_.ipynb\" target=\"_parent\"><img src=\"https://colab.research.google.com/assets/colab-badge.svg\" alt=\"Open In Colab\"/></a>"
      ]
    },
    {
      "cell_type": "code",
      "execution_count": null,
      "metadata": {
        "colab": {
          "base_uri": "https://localhost:8080/"
        },
        "id": "c6iFguUF074C",
        "outputId": "4404a05d-751f-412b-cfc0-d4016daaeeef"
      },
      "outputs": [
        {
          "output_type": "stream",
          "name": "stdout",
          "text": [
            "65 66 67 68 69\n",
            "70 71 72 73 74\n",
            "75 76 77 78 79\n",
            "85 86 87 88 89\n",
            "88 89 90 65 66\n",
            "97 98 99 100 101\n",
            "102 103 104 105 106\n",
            "107 108 109 110 111\n",
            "117 118 119 120 121\n",
            "120 121 122 97 98\n"
          ]
        }
      ],
      "source": [
        "#The Ordinal funtion(ord) gives the value that represents the letters \n",
        "print(ord('A'),ord('B'),ord('C'),ord('D'),ord('E'))\n",
        "print(ord('F'),ord('G'),ord('H'),ord('I'),ord('J'))\n",
        "print(ord('K'),ord('L'),ord('M'),ord('N'),ord('O'))\n",
        "print(ord('U'),ord('V'),ord('W'),ord('X'),ord('Y'))\n",
        "print(ord('X'),ord('Y'),ord('Z'),ord('A'),ord('B'))\n",
        "\n",
        "\n",
        "print(ord('a'),ord('b'),ord('c'),ord('d'),ord('e'))\n",
        "print(ord('f'),ord('g'),ord('h'),ord('i'),ord('j'))\n",
        "print(ord('k'),ord('l'),ord('m'),ord('n'),ord('o'))\n",
        "print(ord('u'),ord('v'),ord('w'),ord('x'),ord('y'))\n",
        "print(ord('x'),ord('y'),ord('z'),ord('a'),ord('b'))\n"
      ]
    },
    {
      "cell_type": "code",
      "source": [
        "#The Character function(chr) gives the value of the numbers into letters\n",
        "print(chr(65),chr(66),chr(67),chr(68),chr(69))\n",
        "print(chr(70),chr(71),chr(72),chr(73),chr(74))\n",
        "print(chr(75),chr(76),chr(77),chr(78),chr(79))\n",
        "print(chr(85),chr(86),chr(87),chr(88),chr(89))\n",
        "print(chr(88),chr(89),chr(90),chr(65),chr(66))\n",
        "\n",
        "\n",
        "print(chr(97),chr(98),chr(99),chr(100),chr(101))\n",
        "print(chr(102),chr(103),chr(104),chr(105),chr(106))\n",
        "print(chr(107),chr(108),chr(109),chr(110),chr(111))\n",
        "print(chr(117),chr(118),chr(119),chr(120),chr(121))\n",
        "print(chr(120),chr(121),chr(122),chr(97),chr(98))\n",
        "\n"
      ],
      "metadata": {
        "colab": {
          "base_uri": "https://localhost:8080/"
        },
        "id": "wya4a2Cd3wLb",
        "outputId": "5a992ee5-b57a-48eb-dd7c-62b52b296fe6"
      },
      "execution_count": null,
      "outputs": [
        {
          "output_type": "stream",
          "name": "stdout",
          "text": [
            "A B C D E\n",
            "F G H I J\n",
            "K L M N O\n",
            "U V W X Y\n",
            "X Y Z A B\n",
            "a b c d e\n",
            "f g h i j\n",
            "k l m n o\n",
            "u v w x y\n",
            "x y z a b\n"
          ]
        }
      ]
    },
    {
      "cell_type": "code",
      "source": [
        "#The Binary function(bin) gives the binary equivalent of the ordinal value \n",
        "print(bin(65),bin(66),bin(67),bin(68),bin(69))\n",
        "print(bin(70),bin(71),bin(72),bin(73),bin(74))\n",
        "print(bin(75),bin(76),bin(77),bin(78),bin(79))\n",
        "print(bin(85),bin(86),bin(87),bin(88),bin(89))\n",
        "print(bin(88),bin(89),bin(90),bin(65),bin(66))\n",
        "\n",
        "\n",
        "print(bin(97),bin(98),bin(99),bin(100),bin(101))\n",
        "print(bin(102),bin(103),bin(104),bin(105),bin(106))\n",
        "print(bin(107),bin(108),bin(109),bin(110),bin(111))\n",
        "print(bin(117),bin(118),bin(119),bin(120),bin(121))\n",
        "print(bin(120),bin(121),bin(122),bin(97),bin(98))\n"
      ],
      "metadata": {
        "colab": {
          "base_uri": "https://localhost:8080/"
        },
        "id": "JlUrWbXI4GYb",
        "outputId": "66b5b4c4-dda6-428e-b0b2-5ae3b6c66c07"
      },
      "execution_count": null,
      "outputs": [
        {
          "output_type": "stream",
          "name": "stdout",
          "text": [
            "0b1000001 0b1000010 0b1000011 0b1000100 0b1000101\n",
            "0b1000110 0b1000111 0b1001000 0b1001001 0b1001010\n",
            "0b1001011 0b1001100 0b1001101 0b1001110 0b1001111\n",
            "0b1010101 0b1010110 0b1010111 0b1011000 0b1011001\n",
            "0b1011000 0b1011001 0b1011010 0b1000001 0b1000010\n",
            "0b1100001 0b1100010 0b1100011 0b1100100 0b1100101\n",
            "0b1100110 0b1100111 0b1101000 0b1101001 0b1101010\n",
            "0b1101011 0b1101100 0b1101101 0b1101110 0b1101111\n",
            "0b1110101 0b1110110 0b1110111 0b1111000 0b1111001\n",
            "0b1111000 0b1111001 0b1111010 0b1100001 0b1100010\n"
          ]
        }
      ]
    }
  ]
}