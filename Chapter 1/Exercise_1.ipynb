{
  "nbformat": 4,
  "nbformat_minor": 0,
  "metadata": {
    "colab": {
      "provenance": [],
      "authorship_tag": "ABX9TyNOT67wkR/3eFnuv7W5T8LZ",
      "include_colab_link": true
    },
    "kernelspec": {
      "name": "python3",
      "display_name": "Python 3"
    },
    "language_info": {
      "name": "python"
    }
  },
  "cells": [
    {
      "cell_type": "markdown",
      "metadata": {
        "id": "view-in-github",
        "colab_type": "text"
      },
      "source": [
        "<a href=\"https://colab.research.google.com/github/PtrcE/Programming-class/blob/main/Chapter%201/Exercise_1.ipynb\" target=\"_parent\"><img src=\"https://colab.research.google.com/assets/colab-badge.svg\" alt=\"Open In Colab\"/></a>"
      ]
    },
    {
      "cell_type": "code",
      "execution_count": null,
      "metadata": {
        "colab": {
          "base_uri": "https://localhost:8080/"
        },
        "id": "fsPRerIHLM_T",
        "outputId": "00039503-cc8b-4907-c574-cbeca82b6708"
      },
      "outputs": [
        {
          "output_type": "stream",
          "name": "stdout",
          "text": [
            "Twinkle, twinkle, little star, How I wonder what you are!Up above the world so high, Like a diamond in the sky.Twinkle, twinkle, little star, How I wonder what you are\n"
          ]
        }
      ],
      "source": [
        "#Exercise 1: Print String\n",
        "print(\"Twinkle, twinkle, little star, How I wonder what you are!Up above the world so high, Like a diamond in the sky.Twinkle, twinkle, little star, How I wonder what you are\")\n",
        "#Here is a rhyme using the print function \n"
      ]
    }
  ]
}