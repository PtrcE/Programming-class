{
  "nbformat": 4,
  "nbformat_minor": 0,
  "metadata": {
    "colab": {
      "provenance": [],
      "authorship_tag": "ABX9TyNmnCvIvpDHzAulXGsy5GQo",
      "include_colab_link": true
    },
    "kernelspec": {
      "name": "python3",
      "display_name": "Python 3"
    },
    "language_info": {
      "name": "python"
    }
  },
  "cells": [
    {
      "cell_type": "markdown",
      "metadata": {
        "id": "view-in-github",
        "colab_type": "text"
      },
      "source": [
        "<a href=\"https://colab.research.google.com/github/PtrcE/Programming-class/blob/main/Chapter%201/Exercise_5.ipynb\" target=\"_parent\"><img src=\"https://colab.research.google.com/assets/colab-badge.svg\" alt=\"Open In Colab\"/></a>"
      ]
    },
    {
      "cell_type": "code",
      "execution_count": null,
      "metadata": {
        "colab": {
          "base_uri": "https://localhost:8080/"
        },
        "id": "MjzMob7fJisH",
        "outputId": "ac76fd68-6b24-4d74-aff5-fe5b711dc90e"
      },
      "outputs": [
        {
          "output_type": "stream",
          "name": "stdout",
          "text": [
            "Input the radius of the circle: 10\n",
            "The area of the circle with radius of the circle 10.0 is: 314.159\n"
          ]
        }
      ],
      "source": [
        "#Exercise 5: Area of circle\n",
        "pi = 3.14159\n",
        "r = float(input (\"Input the radius of the circle: \"))\n",
        "print(\"The area of the circle with radius of the circle \" +str(r) + \" is: \" + str(pi * r**2)) #This is to compute and find the area of the circle "
      ]
    }
  ]
}