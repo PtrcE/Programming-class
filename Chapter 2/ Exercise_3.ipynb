{
  "nbformat": 4,
  "nbformat_minor": 0,
  "metadata": {
    "colab": {
      "provenance": [],
      "authorship_tag": "ABX9TyP3QhDriiNCz1w5Q6nHi4Fe",
      "include_colab_link": true
    },
    "kernelspec": {
      "name": "python3",
      "display_name": "Python 3"
    },
    "language_info": {
      "name": "python"
    }
  },
  "cells": [
    {
      "cell_type": "markdown",
      "metadata": {
        "id": "view-in-github",
        "colab_type": "text"
      },
      "source": [
        "<a href=\"https://colab.research.google.com/github/PtrcE/Programming-class/blob/main/Chapter%202/%20Exercise_3.ipynb\" target=\"_parent\"><img src=\"https://colab.research.google.com/assets/colab-badge.svg\" alt=\"Open In Colab\"/></a>"
      ]
    },
    {
      "cell_type": "code",
      "execution_count": 1,
      "metadata": {
        "colab": {
          "base_uri": "https://localhost:8080/"
        },
        "id": "ltnkWCVIBsY9",
        "outputId": "20a47ecf-d531-4a8b-87ee-3c6f530d9f5a"
      },
      "outputs": [
        {
          "output_type": "stream",
          "name": "stdout",
          "text": [
            "My name is \t Patricia\n",
            "Name: \n",
            "Patricia\n",
            "L.\n",
            "Enriquez\n",
            "\n",
            "\n",
            "   Patricia\n",
            "Patricia\n",
            "Patricia        \n",
            "Patricia\n",
            "Patricia\n",
            "Patricia\n"
          ]
        }
      ],
      "source": [
        "#To add a tab to your text, use the character combination \\t\n",
        "print(\"My name is \\t Patricia\")\n",
        "\n",
        "print(\"Name: \\nPatricia\\nL.\\nEnriquez\")\n",
        "print(\"\\n\")\n",
        "\n",
        "\n",
        "\n",
        "#lstrip() function\n",
        "word='   Patricia'\n",
        "new_word=word.lstrip()\n",
        "print(word)\n",
        "print(new_word)\n",
        "\n",
        "#rstrip() function\n",
        "word='Patricia        '\n",
        "new_word=word.rstrip()\n",
        "print(word)\n",
        "print(new_word)\n",
        "\n",
        "\n",
        "#strip() function\n",
        "word= 'Patricia'\n",
        "new_word=word.strip()\n",
        "print(word)\n",
        "print(new_word)"
      ]
    }
  ]
}