{
  "nbformat": 4,
  "nbformat_minor": 0,
  "metadata": {
    "colab": {
      "provenance": [],
      "authorship_tag": "ABX9TyPoHeX4VQOPcBQtaEq4IINP",
      "include_colab_link": true
    },
    "kernelspec": {
      "name": "python3",
      "display_name": "Python 3"
    },
    "language_info": {
      "name": "python"
    }
  },
  "cells": [
    {
      "cell_type": "markdown",
      "metadata": {
        "id": "view-in-github",
        "colab_type": "text"
      },
      "source": [
        "<a href=\"https://colab.research.google.com/github/PtrcE/Programming-class/blob/main/Chapter%202/%20Exercise_5.ipynb\" target=\"_parent\"><img src=\"https://colab.research.google.com/assets/colab-badge.svg\" alt=\"Open In Colab\"/></a>"
      ]
    },
    {
      "cell_type": "code",
      "execution_count": 2,
      "metadata": {
        "colab": {
          "base_uri": "https://localhost:8080/"
        },
        "id": "__5ZP7V3-BEZ",
        "outputId": "c5558385-4241-4db3-a11d-0dc92077d247"
      },
      "outputs": [
        {
          "output_type": "stream",
          "name": "stdout",
          "text": [
            "Budget: 50\n",
            "USB sticks: 8\n",
            "Total Amount: 48\n",
            "Change: 2\n"
          ]
        }
      ],
      "source": [
        "Budget= 50\n",
        "USB_sticks= 6\n",
        "amount= Budget//USB_sticks\n",
        "cost=amount*6\n",
        "change= Budget-USB_sticks*amount\n",
        "\n",
        "print(\"Budget:\", Budget)\n",
        "print(\"USB sticks:\", amount)\n",
        "print(\"Total Amount:\", cost)\n",
        "print(\"Change:\", change)"
      ]
    }
  ]
}