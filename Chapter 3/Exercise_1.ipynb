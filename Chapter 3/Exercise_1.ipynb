{
  "nbformat": 4,
  "nbformat_minor": 0,
  "metadata": {
    "colab": {
      "provenance": [],
      "authorship_tag": "ABX9TyO058IaJRpQntFu/o+s8HJV",
      "include_colab_link": true
    },
    "kernelspec": {
      "name": "python3",
      "display_name": "Python 3"
    },
    "language_info": {
      "name": "python"
    }
  },
  "cells": [
    {
      "cell_type": "markdown",
      "metadata": {
        "id": "view-in-github",
        "colab_type": "text"
      },
      "source": [
        "<a href=\"https://colab.research.google.com/github/PtrcE/Programming-class/blob/main/Chapter%203/Exercise_1.ipynb\" target=\"_parent\"><img src=\"https://colab.research.google.com/assets/colab-badge.svg\" alt=\"Open In Colab\"/></a>"
      ]
    },
    {
      "cell_type": "code",
      "execution_count": 2,
      "metadata": {
        "colab": {
          "base_uri": "https://localhost:8080/"
        },
        "id": "RzbWa4MthkFq",
        "outputId": "7af3230e-d602-452d-e43f-7c166dc87e72"
      },
      "outputs": [
        {
          "output_type": "stream",
          "name": "stdout",
          "text": [
            "Iashlayne\n",
            "Charls\n",
            "Ysabel\n",
            "Krunch\n",
            "Gab\n",
            "Renz\n"
          ]
        }
      ],
      "source": [
        "name=['Iashlayne','Charls','Ysabel','Krunch','Gab','Renz']\n",
        "print(name [0])\n",
        "print(name [1])\n",
        "print(name [2])\n",
        "print(name [3])\n",
        "print(name [4])\n",
        "print(name [5])\n",
        "      "
      ]
    }
  ]
}