{
  "nbformat": 4,
  "nbformat_minor": 0,
  "metadata": {
    "colab": {
      "provenance": [],
      "authorship_tag": "ABX9TyMZ2N7hl5Qzs4gxUxSH7PhA",
      "include_colab_link": true
    },
    "kernelspec": {
      "name": "python3",
      "display_name": "Python 3"
    },
    "language_info": {
      "name": "python"
    }
  },
  "cells": [
    {
      "cell_type": "markdown",
      "metadata": {
        "id": "view-in-github",
        "colab_type": "text"
      },
      "source": [
        "<a href=\"https://colab.research.google.com/github/PtrcE/Programming-class/blob/main/Chapter%203/%20Exercise_3.ipynb\" target=\"_parent\"><img src=\"https://colab.research.google.com/assets/colab-badge.svg\" alt=\"Open In Colab\"/></a>"
      ]
    },
    {
      "cell_type": "code",
      "execution_count": 5,
      "metadata": {
        "colab": {
          "base_uri": "https://localhost:8080/"
        },
        "id": "RzbWa4MthkFq",
        "outputId": "5415bf74-6e82-4c42-c0d4-6116551cce0e"
      },
      "outputs": [
        {
          "output_type": "stream",
          "name": "stdout",
          "text": [
            "It is convenient to use a  taxi it is available 24/7.\n",
            "Using the  bus  is easy, theres a bus stop everywhere!\n",
            "The Dubai metro is a budget friendly option and you can sightsee while on the ride.\n"
          ]
        }
      ],
      "source": [
        "#Exercise 3: Your Own List\n",
        "transport= [\"taxi\",\"bus\",\"metro\"]\n",
        "        \n",
        "print(\"It is convenient to use a \", transport[0],\"it is available 24/7.\")\n",
        "print(\"Using the \", transport[1],\" is easy, theres a bus stop everywhere!\")\n",
        "print(\"The Dubai\", transport[2],\"is a budget friendly option and you can sightsee while on the ride.\")"
      ]
    }
  ]
}