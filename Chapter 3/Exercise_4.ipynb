{
  "nbformat": 4,
  "nbformat_minor": 0,
  "metadata": {
    "colab": {
      "provenance": [],
      "authorship_tag": "ABX9TyN3OfDLo/vk0B75j3OFw95x",
      "include_colab_link": true
    },
    "kernelspec": {
      "name": "python3",
      "display_name": "Python 3"
    },
    "language_info": {
      "name": "python"
    }
  },
  "cells": [
    {
      "cell_type": "markdown",
      "metadata": {
        "id": "view-in-github",
        "colab_type": "text"
      },
      "source": [
        "<a href=\"https://colab.research.google.com/github/PtrcE/Programming-class/blob/main/Chapter%203/Exercise_4.ipynb\" target=\"_parent\"><img src=\"https://colab.research.google.com/assets/colab-badge.svg\" alt=\"Open In Colab\"/></a>"
      ]
    },
    {
      "cell_type": "code",
      "execution_count": 1,
      "metadata": {
        "colab": {
          "base_uri": "https://localhost:8080/"
        },
        "id": "Jc2tsQ2Zn7pT",
        "outputId": "68d02e6a-0c9d-4344-f48b-c28e92e93215"
      },
      "outputs": [
        {
          "output_type": "stream",
          "name": "stdout",
          "text": [
            "Greetings, Ann Hathaway you are happily invited to join us at Atlantis for Patricia's dinner party on November 2, 2022 at 7pm\n",
            "Greetings , Jennifer Aniston you are happily invited to join us at Atlantis for Patricia's dinner party on November 2, 2022 at 7pm\n",
            "Greetings, Zendeya you are happily invited to join us at Atlantis for Patricia's dinner party on November 2, 2022 at 7pm\n"
          ]
        }
      ],
      "source": [
        "#Exercise 4: Change Guest List\n",
        "       \n",
        "guest = [\"Ann Hathaway\", \"Jennifer Aniston\", \"Zendeya\"]\n",
        "       \n",
        "print(\"Greetings,\", guest[0],\"you are happily invited to join us at Atlantis for Patricia's dinner party on November 2, 2022 at 7pm\")\n",
        "print(\"Greetings ,\", guest[1],\"you are happily invited to join us at Atlantis for Patricia's dinner party on November 2, 2022 at 7pm\")\n",
        "print(\"Greetings,\", guest[2],\"you are happily invited to join us at Atlantis for Patricia's dinner party on November 2, 2022 at 7pm\")"
      ]
    }
  ]
}