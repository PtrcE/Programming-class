{
  "nbformat": 4,
  "nbformat_minor": 0,
  "metadata": {
    "colab": {
      "provenance": [],
      "authorship_tag": "ABX9TyPHIbXP1D8awplpE0EwNWvZ",
      "include_colab_link": true
    },
    "kernelspec": {
      "name": "python3",
      "display_name": "Python 3"
    },
    "language_info": {
      "name": "python"
    }
  },
  "cells": [
    {
      "cell_type": "markdown",
      "metadata": {
        "id": "view-in-github",
        "colab_type": "text"
      },
      "source": [
        "<a href=\"https://colab.research.google.com/github/PtrcE/Programming-class/blob/main/Chapter%203/Exercise_7.ipynb\" target=\"_parent\"><img src=\"https://colab.research.google.com/assets/colab-badge.svg\" alt=\"Open In Colab\"/></a>"
      ]
    },
    {
      "cell_type": "code",
      "source": [
        "#Exercise 7: Seeing the World\n",
        "\n",
        "places = [\"Italy\", \"Paris\", \"Toronto\", \"New York \", \"Amsterdam\"]\n",
        "print(places)\n",
        "print(\"\\n\")\n",
        "\n",
        "print(sorted(places))\n",
        "print(\"\\n\")\n",
        "\n",
        "print(places)\n",
        "print(\"\\n\")\n",
        "\n",
        "print(sorted(places, reverse=True))\n",
        "print(\"\\n\")\n",
        "\n",
        "print(places)\n",
        "print(\"\\n\")\n",
        "\n",
        "places.reverse()\n",
        "print(places)\n",
        "print(\"\\n\")\n",
        "\n",
        "places.reverse()\n",
        "print(places)\n",
        "print(\"\\n\")\n",
        "\n",
        "places.sort()\n",
        "print(places)\n",
        "print(\"\\n\")\n",
        "\n",
        "places.sort(reverse=True)\n",
        "print(places)\n",
        "print(\"\\n\")"
      ],
      "metadata": {
        "colab": {
          "base_uri": "https://localhost:8080/"
        },
        "id": "Tga8_m6Bm4wh",
        "outputId": "f19a580d-4f85-47fc-dc47-3a3812854fa3"
      },
      "execution_count": 10,
      "outputs": [
        {
          "output_type": "stream",
          "name": "stdout",
          "text": [
            "['Italy', 'Paris', 'Toronto', 'New York ', 'Amsterdam']\n",
            "\n",
            "\n",
            "['Amsterdam', 'Italy', 'New York ', 'Paris', 'Toronto']\n",
            "\n",
            "\n",
            "['Italy', 'Paris', 'Toronto', 'New York ', 'Amsterdam']\n",
            "\n",
            "\n",
            "['Toronto', 'Paris', 'New York ', 'Italy', 'Amsterdam']\n",
            "\n",
            "\n",
            "['Italy', 'Paris', 'Toronto', 'New York ', 'Amsterdam']\n",
            "\n",
            "\n",
            "['Amsterdam', 'New York ', 'Toronto', 'Paris', 'Italy']\n",
            "\n",
            "\n",
            "['Italy', 'Paris', 'Toronto', 'New York ', 'Amsterdam']\n",
            "\n",
            "\n",
            "['Amsterdam', 'Italy', 'New York ', 'Paris', 'Toronto']\n",
            "\n",
            "\n",
            "['Toronto', 'Paris', 'New York ', 'Italy', 'Amsterdam']\n",
            "\n",
            "\n"
          ]
        }
      ]
    }
  ]
}