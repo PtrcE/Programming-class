{
  "nbformat": 4,
  "nbformat_minor": 0,
  "metadata": {
    "colab": {
      "provenance": [],
      "authorship_tag": "ABX9TyOzS93cEyeVCrUh0iQww/9M",
      "include_colab_link": true
    },
    "kernelspec": {
      "name": "python3",
      "display_name": "Python 3"
    },
    "language_info": {
      "name": "python"
    }
  },
  "cells": [
    {
      "cell_type": "markdown",
      "metadata": {
        "id": "view-in-github",
        "colab_type": "text"
      },
      "source": [
        "<a href=\"https://colab.research.google.com/github/PtrcE/Programming-class/blob/main/Chapter%203/%20Exercise_2.ipynb\" target=\"_parent\"><img src=\"https://colab.research.google.com/assets/colab-badge.svg\" alt=\"Open In Colab\"/></a>"
      ]
    },
    {
      "cell_type": "code",
      "execution_count": 3,
      "metadata": {
        "colab": {
          "base_uri": "https://localhost:8080/"
        },
        "id": "RzbWa4MthkFq",
        "outputId": "0cd9be9d-7373-4ed7-b961-fb20bd8a8e4c"
      },
      "outputs": [
        {
          "output_type": "stream",
          "name": "stdout",
          "text": [
            "Hello,Iashlayne!\n",
            "Hello,Charls!\n",
            "Hello,Ysabel!\n",
            "Hello,Krunch!\n",
            "Hello,Gab!\n",
            "Hello,Renz!\n"
          ]
        }
      ],
      "source": [
        "#Exercise 2\n",
        "name=['Iashlayne','Charls','Ysabel','Krunch','Gab','Renz']\n",
        "\n",
        "#Greet each friend by their names\n",
        "print(\"Hello,\" + name [0].title()+\"!\")\n",
        "print(\"Hello,\" + name [1].title()+\"!\")\n",
        "print(\"Hello,\" + name [2].title()+\"!\")\n",
        "print(\"Hello,\" + name [3].title()+\"!\")\n",
        "print(\"Hello,\" + name [4].title()+\"!\")\n",
        "print(\"Hello,\" + name [5].title()+\"!\")\n",
        "      "
      ]
    }
  ]
}