{
  "nbformat": 4,
  "nbformat_minor": 0,
  "metadata": {
    "colab": {
      "provenance": [],
      "authorship_tag": "ABX9TyP7lc1NZ6Mp5W6eR7EzrjK2",
      "include_colab_link": true
    },
    "kernelspec": {
      "name": "python3",
      "display_name": "Python 3"
    },
    "language_info": {
      "name": "python"
    }
  },
  "cells": [
    {
      "cell_type": "markdown",
      "metadata": {
        "id": "view-in-github",
        "colab_type": "text"
      },
      "source": [
        "<a href=\"https://colab.research.google.com/github/PtrcE/Programming-class/blob/main/Chapter%203/Exercise_6.ipynb\" target=\"_parent\"><img src=\"https://colab.research.google.com/assets/colab-badge.svg\" alt=\"Open In Colab\"/></a>"
      ]
    },
    {
      "cell_type": "code",
      "source": [
        "#Exercise 6: Shrinking Guest List\n",
        "\n",
        "guest = [\"Ann Hathaway\", \"Jennifer Aniston\", \"Zendeya\"]\n",
        "       \n",
        "print(\"Greetings,\", guest[0],\"you are happily invited to join us at Atlantis for Patricia's dinner party on November 2, 2022 at 7pm\")\n",
        "print(\"Greetings ,\", guest[1],\"you are happily invited to join us at Atlantis for Patricia's dinner party on November 2, 2022 at 7pm\")\n",
        "print(\"Greetings,\", guest[2],\"you are happily invited to join us at Atlantis for Patricia's dinner party on November 2, 2022 at 7pm\")\n",
        "print(\"\\n\")\n",
        "        \n",
        "print(\"Unfortunately the Restaurant has informed me that they can only cater for 2 extra guests.\")\n",
        "print(\"\\n\")\n",
        "        \n",
        "popped = guest.pop()\n",
        "        \n",
        "print(\"Good day, Jennifer! Apologies, but the restaurant can only cater to a certain amount of guests.\")\n",
        "print(\"We'll have to withdraw your name from the guest list. Apologies for the inconvenience .\")\n",
        "print(\"\\n\")\n",
        "\n",
        "print(\"Good day,\", guest[0]+\"! This is to let you know that you are a confirmed RSVP. Looking forward to see you there!\")\n",
        "print(\"Good day,\", guest[1]+\"!This is to let you know that you are a confirmed RSVP. Looking forward to see you there!\")\n",
        "print(\"\\n\")\n",
        "\n",
        "del guest[:]\n",
        "        \n",
        "print(\"Remaining Guests:\", guest)\n",
        "      "
      ],
      "metadata": {
        "colab": {
          "base_uri": "https://localhost:8080/"
        },
        "id": "5J8lcxNHlm34",
        "outputId": "2914fac2-83aa-47ba-cb3a-1e48a7c9fc18"
      },
      "execution_count": 9,
      "outputs": [
        {
          "output_type": "stream",
          "name": "stdout",
          "text": [
            "Greetings, Ann Hathaway you are happily invited to join us at Atlantis for Patricia's dinner party on November 2, 2022 at 7pm\n",
            "Greetings , Jennifer Aniston you are happily invited to join us at Atlantis for Patricia's dinner party on November 2, 2022 at 7pm\n",
            "Greetings, Zendeya you are happily invited to join us at Atlantis for Patricia's dinner party on November 2, 2022 at 7pm\n",
            "\n",
            "\n",
            "Unfortunately the Restaurant has informed me that they can only cater for 2 extra guests.\n",
            "\n",
            "\n",
            "Good day, Jennifer! Apologies, but the restaurant can only cater to a certain amount of guests.\n",
            "We'll have to withdraw your name from the guest list. Apologies for the inconvenience .\n",
            "\n",
            "\n",
            "Good day, Ann Hathaway! This is to let you know that you are a confirmed RSVP. Looking forward to see you there!\n",
            "Good day, Jennifer Aniston!This is to let you know that you are a confirmed RSVP. Looking forward to see you there!\n",
            "\n",
            "\n",
            "Remaining Guests: []\n"
          ]
        }
      ]
    }
  ]
}