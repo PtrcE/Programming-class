{
  "nbformat": 4,
  "nbformat_minor": 0,
  "metadata": {
    "colab": {
      "provenance": [],
      "authorship_tag": "ABX9TyPWln35a9p0Ku5GGCbFFzj8",
      "include_colab_link": true
    },
    "kernelspec": {
      "name": "python3",
      "display_name": "Python 3"
    },
    "language_info": {
      "name": "python"
    }
  },
  "cells": [
    {
      "cell_type": "markdown",
      "metadata": {
        "id": "view-in-github",
        "colab_type": "text"
      },
      "source": [
        "<a href=\"https://colab.research.google.com/github/PtrcE/Programming-class/blob/main/Chapter%206/Exercise_4.ipynb\" target=\"_parent\"><img src=\"https://colab.research.google.com/assets/colab-badge.svg\" alt=\"Open In Colab\"/></a>"
      ]
    },
    {
      "cell_type": "code",
      "source": [
        "#Exercise 4\n",
        "sandwich_orders= ['Beef','Grilled cheese','Turkey','Tuna']\n",
        "finished_sandwiches= []\n",
        "while sandwich_orders:\n",
        "  current_sandwich = sandwich_orders.pop()\n",
        "  print(\"Your order \" + current_sandwich + \" sandwich is ready\")\n",
        "  finished_sandwiches.append(current_sandwich)\n",
        "\n",
        "print(\"\\n\")\n",
        "print('Sandwich Orders:')\n",
        "for sandwich in finished_sandwiches:\n",
        "  print(sandwich,'Sandwich')\n"
      ],
      "metadata": {
        "colab": {
          "base_uri": "https://localhost:8080/"
        },
        "id": "XsXJz0QandpS",
        "outputId": "862242e5-276f-4c55-fe57-a678f3b55064"
      },
      "execution_count": 21,
      "outputs": [
        {
          "output_type": "stream",
          "name": "stdout",
          "text": [
            "Your order Tuna sandwich is ready\n",
            "Your order Turkey sandwich is ready\n",
            "Your order Grilled cheese sandwich is ready\n",
            "Your order Beef sandwich is ready\n",
            "\n",
            "\n",
            "Sandwich Orders:\n",
            "Tuna Sandwich\n",
            "Turkey Sandwich\n",
            "Grilled cheese Sandwich\n",
            "Beef Sandwich\n"
          ]
        }
      ]
    }
  ]
}