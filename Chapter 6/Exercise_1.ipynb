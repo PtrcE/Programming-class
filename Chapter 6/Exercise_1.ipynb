{
  "nbformat": 4,
  "nbformat_minor": 0,
  "metadata": {
    "colab": {
      "provenance": [],
      "authorship_tag": "ABX9TyME8pRSiWpsLazCabtoCaXn",
      "include_colab_link": true
    },
    "kernelspec": {
      "name": "python3",
      "display_name": "Python 3"
    },
    "language_info": {
      "name": "python"
    }
  },
  "cells": [
    {
      "cell_type": "markdown",
      "metadata": {
        "id": "view-in-github",
        "colab_type": "text"
      },
      "source": [
        "<a href=\"https://colab.research.google.com/github/PtrcE/Programming-class/blob/main/Chapter%206/Exercise_1.ipynb\" target=\"_parent\"><img src=\"https://colab.research.google.com/assets/colab-badge.svg\" alt=\"Open In Colab\"/></a>"
      ]
    },
    {
      "cell_type": "code",
      "execution_count": 7,
      "metadata": {
        "colab": {
          "base_uri": "https://localhost:8080/"
        },
        "id": "h018dY2oODPW",
        "outputId": "2249e0e0-d609-411e-b778-5804027e6eb3"
      },
      "outputs": [
        {
          "name": "stdout",
          "output_type": "stream",
          "text": [
            "\n",
            "Which toppings would you like on your pizza?\n",
            "(Enter 'done' when you are finished.)ham\n",
            "Tasty! I'll add Ham on your pizza\n",
            "\n",
            "Which toppings would you like on your pizza?\n",
            "(Enter 'done' when you are finished.)pineapple\n",
            "Tasty! I'll add Pineapple on your pizza\n",
            "\n",
            "Which toppings would you like on your pizza?\n",
            "(Enter 'done' when you are finished.)done\n"
          ]
        }
      ],
      "source": [
        "prompt = \"\\nWhich toppings would you like on your pizza?\"\n",
        "prompt += \"\\n(Enter 'done' when you are finished.)\"\n",
        "\n",
        "while True:\n",
        "  toppings = input(prompt)\n",
        "  if toppings == 'done':\n",
        "          break\n",
        "  else:\n",
        "      print(\"Tasty! I'll add \" + toppings.title() + \" on your pizza\")"
      ]
    }
  ]
}