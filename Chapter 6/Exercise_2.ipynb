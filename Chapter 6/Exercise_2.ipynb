{
  "nbformat": 4,
  "nbformat_minor": 0,
  "metadata": {
    "colab": {
      "provenance": [],
      "authorship_tag": "ABX9TyMJUKn0rLdG2jD1mEhQyL3e",
      "include_colab_link": true
    },
    "kernelspec": {
      "name": "python3",
      "display_name": "Python 3"
    },
    "language_info": {
      "name": "python"
    }
  },
  "cells": [
    {
      "cell_type": "markdown",
      "metadata": {
        "id": "view-in-github",
        "colab_type": "text"
      },
      "source": [
        "<a href=\"https://colab.research.google.com/github/PtrcE/Programming-class/blob/main/Chapter%206/Exercise_2.ipynb\" target=\"_parent\"><img src=\"https://colab.research.google.com/assets/colab-badge.svg\" alt=\"Open In Colab\"/></a>"
      ]
    },
    {
      "cell_type": "code",
      "execution_count": 4,
      "metadata": {
        "colab": {
          "base_uri": "https://localhost:8080/"
        },
        "id": "E5d0IEUeTbLk",
        "outputId": "23c27ee8-7bb0-440c-c930-05d80a3dc618"
      },
      "outputs": [
        {
          "name": "stdout",
          "output_type": "stream",
          "text": [
            "\n",
            "Welcome to the Cinema!\n",
            "Enter all customers age, enter done when finished:2\n",
            "Your admission is FREE! \n",
            "\n",
            "Welcome to the Cinema!\n",
            "Enter all customers age, enter done when finished:8\n",
            "Your admission cost is $10. Enjoy!\n",
            "\n",
            "Welcome to the Cinema!\n",
            "Enter all customers age, enter done when finished:16\n",
            "Your admissionn cost is $15. Enjoy!\n",
            "\n",
            "Welcome to the Cinema!\n",
            "Enter all customers age, enter done when finished:done\n"
          ]
        }
      ],
      "source": [
        "#Exercise 2 : Movie ticket\n",
        "customer = \"\\nWelcome to the Cinema!\" \n",
        "customer += \"\\nEnter all customers age, enter done when finished:\"\n",
        "\n",
        "while True:\n",
        "  age = input(customer)\n",
        "  if age == 'done':\n",
        "          break\n",
        "  age = int(age)\n",
        "\n",
        "  if age < 3:\n",
        "    print(\"Your admission is FREE! \")\n",
        "  elif age < 12:\n",
        "    print(\"Your admission cost is $10. Enjoy!\")\n",
        "  else:\n",
        "    print(\"Your admissionn cost is $15. Enjoy!\")"
      ]
    }
  ]
}