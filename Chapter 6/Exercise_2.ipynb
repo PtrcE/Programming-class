{
  "nbformat": 4,
  "nbformat_minor": 0,
  "metadata": {
    "colab": {
      "provenance": [],
      "authorship_tag": "ABX9TyNoMtcZIA2eHD2xNMkc0ITJ",
      "include_colab_link": true
    },
    "kernelspec": {
      "name": "python3",
      "display_name": "Python 3"
    },
    "language_info": {
      "name": "python"
    }
  },
  "cells": [
    {
      "cell_type": "markdown",
      "metadata": {
        "id": "view-in-github",
        "colab_type": "text"
      },
      "source": [
        "<a href=\"https://colab.research.google.com/github/PtrcE/Programming-class/blob/main/Chapter%206/Exercise_2.ipynb\" target=\"_parent\"><img src=\"https://colab.research.google.com/assets/colab-badge.svg\" alt=\"Open In Colab\"/></a>"
      ]
    },
    {
      "cell_type": "code",
      "execution_count": 12,
      "metadata": {
        "colab": {
          "base_uri": "https://localhost:8080/"
        },
        "id": "h018dY2oODPW",
        "outputId": "3414413f-68bb-4601-f5b9-d2c776f425ee"
      },
      "outputs": [
        {
          "output_type": "stream",
          "name": "stdout",
          "text": [
            "Welcome to the Cinema!\n",
            "Enter your age:\n",
            "21\n",
            "Your admission cost is $15\n"
          ]
        }
      ],
      "source": [
        "#Exercise 2\n",
        "print(\"Welcome to the Cinema!\")\n",
        "print('Enter your age:')\n",
        "age=int(input())\n",
        "\n",
        "if age < 3:\n",
        "  print(\"Your admission cost is FREE!.\")\n",
        "elif age < 12:\n",
        "  print(\"Your admission cost is $10\")\n",
        "else:\n",
        "  print(\"Your admission cost is $15\")"
      ]
    }
  ]
}