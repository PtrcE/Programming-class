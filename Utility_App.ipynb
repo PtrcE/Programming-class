{
  "cells": [
    {
      "cell_type": "markdown",
      "metadata": {
        "id": "view-in-github",
        "colab_type": "text"
      },
      "source": [
        "<a href=\"https://colab.research.google.com/github/PtrcE/Programming-class/blob/main/Utility_App.ipynb\" target=\"_parent\"><img src=\"https://colab.research.google.com/assets/colab-badge.svg\" alt=\"Open In Colab\"/></a>"
      ]
    },
    {
      "cell_type": "code",
      "execution_count": null,
      "metadata": {
        "colab": {
          "base_uri": "https://localhost:8080/"
        },
        "id": "aRnWjIQ6klS8",
        "outputId": "50cd2549-9108-4190-f48d-74586a22cf09"
      },
      "outputs": [
        {
          "name": "stdout",
          "output_type": "stream",
          "text": [
            "============== Welcome! ==============\n",
            "\n",
            "========= Ready for a snack? =========\n",
            "\n",
            "=======================================\n",
            "\n",
            "Lays -- Price: $1.90 -- Code: A\n",
            "\n",
            "Cheetos -- Price: $1.50 -- Code: B\n",
            "\n",
            "Doritos -- Price: $1 -- Code: C\n",
            "\n",
            "Coca-Cola -- Price: $1 -- Code: D\n",
            "\n",
            "Fanta -- Price: $0.50 -- Code: E\n",
            "\n",
            "Sprite -- Price: $0.90 -- Code: F\n",
            "\n",
            "Kit-Kat -- Price: $1.50 -- Code: G\n",
            "\n",
            "Skittles -- Price: $2 -- Code: H\n",
            "\n",
            "Gum -- Price: $0.40 -- Code: I\n",
            "\n",
            "Banana -- Price: $1 -- Code: J\n",
            "\n",
            "Apple -- Price: $0.90 -- Code: K\n",
            "\n",
            "Orange -- Price: $0.50 -- Code: L\n",
            "=======================================\n",
            "\n",
            "Please Enter Item Code to Purchase: D\n",
            "\n",
            "Good Choice!, Coca-Cola costs $1\n",
            "Please Insert $1: 1\n",
            "\n",
            "Item Vended!\n",
            "\n",
            "Your change is: 0.0\n"
          ]
        }
      ],
      "source": [
        "\n",
        "\n",
        "def greet_user():\n",
        "  print(\"============== Welcome! ==============\\n\")\n",
        "  print(\"========= Ready for a snack? =========\\n\")\n",
        "greet_user()\n",
        "\n",
        "chips= [{'Chips':'Lays', 'price':'$2', 'code':'CA'},\n",
        "        {'Chips':'Cheetos', 'price':'$1.50', 'code':'CB'},\n",
        "        {'Chips':'Doritos', 'price':'$1', 'code':'CC'},\n",
        "        {'Chips':'Bugles', 'price':'$1.50', 'code':'CD'}]\n",
        "\n",
        "Cold_drink= [{'Soda':'Coca-Cola', 'price':'$1', 'code':'DA'},\n",
        "            {'Soda':'Fanta', 'price':'$0.50', 'code':'DB'},\n",
        "            {'Soda':'Sprite', 'price':'$0.90', 'code':'DC'},\n",
        "            {'Soda':'Mountain Dew', 'price':'$0.50', 'code':'DD'}]\n",
        "\n",
        "Hot_drinks= [{'Hot':'Hot Chocolate','price':'$2','code':'HA'},\n",
        "            {'Hot':'Hot Milk','price':'$0.50','code':'HB'},\n",
        "            {'Hot':'Coffee','price':'$1','code':'HC'},\n",
        "            {'Hot':'Tea','price':'$0.50','code':'HD'}]\n",
        "\n",
        "Biscuit= [{'Biscuit':'Ritz','price':'$0.50','code':'BA'},\n",
        "          {'Biscuit':'Oreo','price':'$1','code':'BB'},\n",
        "          {'Biscuit':'Digestive','price':'$0.50','code':'BC'},\n",
        "          {'Biscuit':'Butter Cookie','price':'$1.50','code':'BD'}]\n",
        "\n",
        "Sweets= [{'Sweets':'Kit-Kat', 'price':'$1.50', 'code':'SA'},\n",
        "        {'Sweets':'Skittles', 'price':'$2', 'code':'SB'},\n",
        "        {'Sweets':'Gummy Bear', 'price':'$1', 'code':'SC'},\n",
        "        {'Sweets':'Chewing Gum', 'price':'$0.50', 'code':'SD'}]\n",
        "\n",
        "prices={ 'A':1.90, 'B':1.50, 'C':1, \n",
        "       'D':1, 'E':0.50, 'F':0.90,\n",
        "       'G':1.50,'H':2,'I':0.40,\n",
        "       'J':1,'K':0.90, 'L':0.50}\n",
        "cash=0\n",
        "sum= 0\n",
        "item = ''\n",
        "run=True \n",
        "print(\"=======================================\")\n",
        "for i in items:\n",
        "      \n",
        "      print('\\n'f\"{i['items']} -- Price: {i['price']} -- Code: {i['code']}\")\n",
        "print(\"=======================================\")\n",
        "buy=(input(\"\\nPlease Enter Item Code to Purchase: \"))\n",
        "\n",
        "for i in items:\n",
        "  if buy == i['code']:\n",
        "    item = i\n",
        "    print('\\n'f\"Good Choice!, {i['item']} costs {i['price']}\")\n",
        "if buy == '':\n",
        "  print(\"Invalid\")\n",
        "\n",
        "while cash < prices[buy]:\n",
        "   cash = cash + float(input('Please Insert $' + str(prices[buy] - cash) + ': '))\n",
        "   if cash >= prices[buy]:\n",
        "     print(\"\\nItem Vended!\")\n",
        "     change = cash - prices[buy]\n",
        "\n",
        "     print(f\"\\nYour change is: {change}\")\n",
        "\n",
        "\n"
      ]
    }
  ],
  "metadata": {
    "colab": {
      "provenance": [],
      "authorship_tag": "ABX9TyPj7EXZguLJj9nmNUGiyrRy",
      "include_colab_link": true
    },
    "kernelspec": {
      "display_name": "Python 3",
      "name": "python3"
    },
    "language_info": {
      "name": "python"
    }
  },
  "nbformat": 4,
  "nbformat_minor": 0
}