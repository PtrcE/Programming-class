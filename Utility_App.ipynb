{
  "cells": [
    {
      "cell_type": "markdown",
      "metadata": {
        "id": "view-in-github",
        "colab_type": "text"
      },
      "source": [
        "<a href=\"https://colab.research.google.com/github/PtrcE/Programming-class/blob/main/Utility_App.ipynb\" target=\"_parent\"><img src=\"https://colab.research.google.com/assets/colab-badge.svg\" alt=\"Open In Colab\"/></a>"
      ]
    },
    {
      "cell_type": "code",
      "source": [
        "#main\n",
        "\n",
        "def greet_user():\n",
        "  print(\"============== Welcome! ==============\\n\")\n",
        "  print(\"========= Ready for a snack? =========\\n\")\n",
        "greet_user()\n",
        "\n",
        "items= [\n",
        "    {'item':'Lays', 'price':'$1.90', 'code':'A'},\n",
        "    {'item':'Cheetos', 'price':'$1.50', 'code':'B'},\n",
        "    {'item':'Doritos', 'price':'$1', 'code':'C'},\n",
        "    {'item':'Coca-Cola', 'price':'$1', 'code':'D'},\n",
        "    {'item':'Fanta', 'price':'$0.50', 'code':'E'},\n",
        "    {'item':'Sprite', 'price':'$0.90', 'code':'F'},\n",
        "    {'item':'Kit-Kat', 'price':'$1.50', 'code':'G'},\n",
        "    {'item':'Skittles', 'price':'$2', 'code':'H'},\n",
        "    {'item':'Gum', 'price':'$0.40', 'code':'I'},\n",
        "    {'item':'Banana', 'price':'$1', 'code':'J'},\n",
        "    {'item':'Apple', 'price':'$0.90', 'code':'K'},\n",
        "    {'item':'Orange', 'price':'$0.50', 'code':'L'}]\n",
        "\n",
        "prices={ 'A':1.90, 'B':1.50, 'C':1, \n",
        "       'D':1, 'E':0.50, 'F':0.90,\n",
        "       'G':1.50,'H':2,'I':0.40,\n",
        "       'J':1,'K':0.90, 'L':0.50}\n",
        "cash=0\n",
        "sum= 0\n",
        "item = ''\n",
        "run=True \n",
        "print(\"=======================================\")\n",
        "for i in items:\n",
        "      \n",
        "      print('\\n'f\"{i['item']} -- Price: {i['price']} -- Code: {i['code']}\")\n",
        "print(\"=======================================\")\n",
        "buy=(input(\"\\nPlease Enter Item Code to Purchase: \"))\n",
        "\n",
        "for i in items:\n",
        "  if buy == i['code']:\n",
        "    item = i\n",
        "    print('\\n'f\"Good Choice!, {i['item']} costs {i['price']}\")\n",
        "if buy == '':\n",
        "  print(\"Invalid\")\n",
        "\n",
        "while cash < prices[buy]:\n",
        "   cash = cash + float(input('Please Insert $' + str(prices[buy] - cash) + ': '))\n",
        "   if cash >= prices[buy]:\n",
        "     print(\"\\nItem Vended!\")\n",
        "     change = cash - prices[buy]\n",
        "\n",
        "     print(f\"\\nYour change is: {change}\")\n",
        "\n",
        "\n"
      ],
      "metadata": {
        "id": "aRnWjIQ6klS8",
        "colab": {
          "base_uri": "https://localhost:8080/"
        },
        "outputId": "50cd2549-9108-4190-f48d-74586a22cf09"
      },
      "execution_count": 15,
      "outputs": [
        {
          "output_type": "stream",
          "name": "stdout",
          "text": [
            "============== Welcome! ==============\n",
            "\n",
            "========= Ready for a snack? =========\n",
            "\n",
            "=======================================\n",
            "\n",
            "Lays -- Price: $1.90 -- Code: A\n",
            "\n",
            "Cheetos -- Price: $1.50 -- Code: B\n",
            "\n",
            "Doritos -- Price: $1 -- Code: C\n",
            "\n",
            "Coca-Cola -- Price: $1 -- Code: D\n",
            "\n",
            "Fanta -- Price: $0.50 -- Code: E\n",
            "\n",
            "Sprite -- Price: $0.90 -- Code: F\n",
            "\n",
            "Kit-Kat -- Price: $1.50 -- Code: G\n",
            "\n",
            "Skittles -- Price: $2 -- Code: H\n",
            "\n",
            "Gum -- Price: $0.40 -- Code: I\n",
            "\n",
            "Banana -- Price: $1 -- Code: J\n",
            "\n",
            "Apple -- Price: $0.90 -- Code: K\n",
            "\n",
            "Orange -- Price: $0.50 -- Code: L\n",
            "=======================================\n",
            "\n",
            "Please Enter Item Code to Purchase: D\n",
            "\n",
            "Good Choice!, Coca-Cola costs $1\n",
            "Please Insert $1: 1\n",
            "\n",
            "Item Vended!\n",
            "\n",
            "Your change is: 0.0\n"
          ]
        }
      ]
    },
    {
      "cell_type": "code",
      "source": [
        "\n"
      ],
      "metadata": {
        "id": "fX7sQgRNzkGB"
      },
      "execution_count": null,
      "outputs": []
    }
  ],
  "metadata": {
    "colab": {
      "provenance": [],
      "authorship_tag": "ABX9TyN+N4krBtmp9kLuG5SQZcyx",
      "include_colab_link": true
    },
    "kernelspec": {
      "display_name": "Python 3",
      "name": "python3"
    },
    "language_info": {
      "name": "python"
    }
  },
  "nbformat": 4,
  "nbformat_minor": 0
}